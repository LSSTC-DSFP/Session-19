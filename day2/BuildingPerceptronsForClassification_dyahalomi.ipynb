{
 "cells": [
  {
   "cell_type": "code",
   "execution_count": 2,
   "id": "b2203a0d",
   "metadata": {
    "slideshow": {
     "slide_type": "skip"
    }
   },
   "outputs": [],
   "source": [
    "import numpy as np\n",
    "import matplotlib.pyplot as plt\n",
    "from sklearn.datasets import make_blobs\n",
    "\n",
    "%matplotlib notebook"
   ]
  },
  {
   "cell_type": "markdown",
   "id": "b52d12da",
   "metadata": {
    "slideshow": {
     "slide_type": "slide"
    }
   },
   "source": [
    "# Classification with a Perceptron\n",
    "\n",
    "##### Version 0.2\n",
    "\n",
    "***\n",
    "\n",
    "By AA Miller (Northwestern/CIERA)  \n",
    "11 September 2023"
   ]
  },
  {
   "cell_type": "markdown",
   "id": "42c0f473",
   "metadata": {
    "slideshow": {
     "slide_type": "subslide"
    }
   },
   "source": [
    "Perceptrons are a type of articifical neuron. We will construct a basic neuron in pure python today and use it to classify data in a \"simple\" two class problem. "
   ]
  },
  {
   "cell_type": "markdown",
   "id": "9b21f531",
   "metadata": {
    "slideshow": {
     "slide_type": "slide"
    }
   },
   "source": [
    "Consider the following image - what do you see? \n",
    "\n",
    "<img style=\"display: block; margin-left: auto; margin-right: auto\" src=\"images/number8.png\" width=\"450\" align=\"middle\">\n",
    "<div align=\"right\"> <font size=\"-3\">(data credit: MNIST) </font></div>"
   ]
  },
  {
   "cell_type": "markdown",
   "id": "3807e243",
   "metadata": {
    "slideshow": {
     "slide_type": "slide"
    }
   },
   "source": [
    "Without hesitation, I am certain that you were able to identify the above image as the number 8."
   ]
  },
  {
   "cell_type": "markdown",
   "id": "c15481c9",
   "metadata": {
    "slideshow": {
     "slide_type": "slide"
    }
   },
   "source": [
    "**Breakout Problem 1**\n",
    "\n",
    "Using everything we have learned this week about machine learning – devise how to use the Random Forest algorithm to build a binary classifier to separate the number 8 from other handwritten digits. "
   ]
  },
  {
   "cell_type": "markdown",
   "id": "db489e7a",
   "metadata": {
    "slideshow": {
     "slide_type": "slide"
    }
   },
   "source": [
    "*Take a few minutes to discuss with your partner*"
   ]
  },
  {
   "cell_type": "markdown",
   "id": "2a9f3b01",
   "metadata": {
    "slideshow": {
     "slide_type": "slide"
    }
   },
   "source": [
    "There are many possible approaches - \n"
   ]
  },
  {
   "cell_type": "markdown",
   "id": "f19b8410",
   "metadata": {
    "slideshow": {
     "slide_type": "fragment"
    }
   },
   "source": [
    "  -  build an algorithm that identifies \"circles\"   \n",
    "  $~~~~$(number 3 does not have fully closed circles)"
   ]
  },
  {
   "cell_type": "markdown",
   "id": "421544e1",
   "metadata": {
    "slideshow": {
     "slide_type": "fragment"
    }
   },
   "source": [
    "  -  build an algorithm that indentifies lines  \n",
    "  $~~~~$(number 4 is only straight lines)"
   ]
  },
  {
   "cell_type": "markdown",
   "id": "7999e8f0",
   "metadata": {
    "slideshow": {
     "slide_type": "fragment"
    }
   },
   "source": [
    "  -  examine only the bottom half of the image  \n",
    "  $~~~~$(tops of 8 and 9 are similar, but bottoms different)"
   ]
  },
  {
   "cell_type": "markdown",
   "id": "27e362a4",
   "metadata": {
    "slideshow": {
     "slide_type": "slide"
    }
   },
   "source": [
    "At this point we only have a few features, they are all very complex to derive, and it isn't at all clear that we would successfully separate 8 and 0."
   ]
  },
  {
   "cell_type": "markdown",
   "id": "8ce8e59a",
   "metadata": {
    "slideshow": {
     "slide_type": "slide"
    }
   },
   "source": [
    "In sum, we are on the road towards success.\n",
    "\n",
    "And yet,  "
   ]
  },
  {
   "cell_type": "markdown",
   "id": "e48ee95b",
   "metadata": {
    "slideshow": {
     "slide_type": "fragment"
    }
   },
   "source": [
    "when you looked at the image of the 8, you immediately recognized the contents of the image at the start of this lecture."
   ]
  },
  {
   "cell_type": "markdown",
   "id": "2893f0d8",
   "metadata": {
    "slideshow": {
     "slide_type": "slide"
    }
   },
   "source": [
    "We each have a super computer in our heads. One trained over many, many generations of evolution to immediately recognize what is right in front of our eyes. Constructing \"rules\" (especially very *precise* rules) to teach a computer to make the same recognition is extremely challenging. "
   ]
  },
  {
   "cell_type": "markdown",
   "id": "cad167fb",
   "metadata": {
    "slideshow": {
     "slide_type": "slide"
    }
   },
   "source": [
    "For complex tasks, like computer vision/classifying handwritten digits, we need a *new* type of machine learning relative to what we discussed earlier this week."
   ]
  },
  {
   "cell_type": "markdown",
   "id": "0ad83225",
   "metadata": {
    "slideshow": {
     "slide_type": "subslide"
    }
   },
   "source": [
    "(We will need deep learning to accomplish this task. We will develop these ideas over the next three days.)"
   ]
  },
  {
   "cell_type": "markdown",
   "id": "1162d104",
   "metadata": {
    "slideshow": {
     "slide_type": "slide"
    }
   },
   "source": [
    "To start that process, I would like to introduce the *perception* – an artificial neuron."
   ]
  },
  {
   "cell_type": "markdown",
   "id": "5625118b",
   "metadata": {
    "slideshow": {
     "slide_type": "fragment"
    }
   },
   "source": [
    "I'm no biologist, here's my (over-simplified) model of a biological neuron: a neuron receives multiple inputs (from other neurons or other signals present within the body), then weighs the relative information before becoming \"activated\" and further sending signals, or remaining dormant. "
   ]
  },
  {
   "cell_type": "markdown",
   "id": "08c4cea2",
   "metadata": {
    "slideshow": {
     "slide_type": "subslide"
    }
   },
   "source": [
    "(It is often said in popular literature that deep learning is designed to work like the human brain. \n",
    "\n",
    "This is very inaccurate, instead it is far more appropriate to say that the principles behind deep learning are inspired by our biological understanding of how the brain works. There is a lot that we do not understand about the brain, and it is worthwhile to remember this distinction.)"
   ]
  },
  {
   "cell_type": "markdown",
   "id": "4c332ad3",
   "metadata": {
    "slideshow": {
     "slide_type": "slide"
    }
   },
   "source": [
    "## Problem 1) The Perceptron"
   ]
  },
  {
   "cell_type": "markdown",
   "id": "7c495c1a",
   "metadata": {
    "slideshow": {
     "slide_type": "slide"
    }
   },
   "source": [
    "A perceptron takes several binary inputs, $x_1, x_2, \\ldots, x_n$, and, ultimately,  produces a single binary output. \n",
    "\n",
    "Each input has a relevant weight, $w_1, w_2, \\ldots, w_n$, which is multiplied by its corresponding input, before taking the sum of all the weighted inputs and comparing that to some threshold. "
   ]
  },
  {
   "cell_type": "markdown",
   "id": "d48ac60e",
   "metadata": {
    "slideshow": {
     "slide_type": "slide"
    }
   },
   "source": [
    "If the weighted sum is greater than the threshold, then the output $= 1$ and the perceptron is \"activated.\"\n",
    "\n",
    "Otherwise the output $= 0$."
   ]
  },
  {
   "cell_type": "markdown",
   "id": "189b6ec7",
   "metadata": {
    "slideshow": {
     "slide_type": "slide"
    }
   },
   "source": [
    "Here is a graphical representation of the perceptron:\n",
    "\n",
    "<img style=\"display: block; margin-left: auto; margin-right: auto\" src=\"images/perceptron.png\" width=\"650\" align=\"middle\">\n",
    "<div align=\"right\"> <font size=\"-3\">(credit: https://towardsdatascience.com/the-perceptron-3af34c84838c) </font></div>"
   ]
  },
  {
   "cell_type": "markdown",
   "id": "da5d0781",
   "metadata": {
    "slideshow": {
     "slide_type": "slide"
    }
   },
   "source": [
    "Here is a mathematical representation of the perceptron: \n",
    "\n",
    "\n",
    "\n",
    "$$\\mathrm{output} = \\left\\{ \\begin{array}{lcr}\n",
    "0 & \\mathrm{if} \\; \\sum_n x_n w_n & \\le \\mathrm{threshold} \\\\\n",
    "1 & \\mathrm{if} \\; \\sum_n x_n w_n & > \\mathrm{threshold}\n",
    "\\end{array}\\right.\n",
    "$$"
   ]
  },
  {
   "cell_type": "markdown",
   "id": "e9af0321",
   "metadata": {
    "slideshow": {
     "slide_type": "slide"
    }
   },
   "source": [
    "A single perceptron can be used to answer questions that rely on many varied inputs. "
   ]
  },
  {
   "cell_type": "markdown",
   "id": "e9e21b8c",
   "metadata": {
    "slideshow": {
     "slide_type": "slide"
    }
   },
   "source": [
    "Consider the question: \"Should I walk the dog?\""
   ]
  },
  {
   "cell_type": "markdown",
   "id": "26d182fe",
   "metadata": {
    "slideshow": {
     "slide_type": "slide"
    }
   },
   "source": [
    "The answer to that question depends on other questions: \n",
    "  -  Is it raining? \n",
    "  -  Is the dog asleep?\n",
    "  -  Has is been more than 6 hours since the dog last went outside?"
   ]
  },
  {
   "cell_type": "markdown",
   "id": "7ff4cf9c",
   "metadata": {
    "slideshow": {
     "slide_type": "slide"
    }
   },
   "source": [
    "Ultimately we need a binary output (to walk the dog, or not walk the dog) based on several binary inputs. In other words, we can use a perceptron to determine whether to walk the dog. "
   ]
  },
  {
   "cell_type": "markdown",
   "id": "b5bf4ab0",
   "metadata": {
    "slideshow": {
     "slide_type": "slide"
    }
   },
   "source": [
    "**Problem 1a**\n",
    "\n",
    "Write a function `walk_dog` that acts as a perceptron to decide whether or not you should walk the dog. \n",
    "\n",
    "The function should take three arugments, a tuple with the binary answer to your three questions, an optional tuple with the relative weights for each input (default = `(-2, -1, 5)`), and an optional threshold (default = `2.5`). "
   ]
  },
  {
   "cell_type": "code",
   "execution_count": 21,
   "id": "6f232df7",
   "metadata": {
    "slideshow": {
     "slide_type": "slide"
    }
   },
   "outputs": [],
   "source": [
    "def walk_dog(questions, weights = np.array([-2, -1, 5]), threshold = 2.5):\n",
    "    '''Perceptron to calculate whether we should walk the dog\n",
    "    \n",
    "    Parameters\n",
    "    ----------\n",
    "    questions : array-like, size = 3\n",
    "    weights : array-lik, optional (default = np.array([-2, -1, 5]))\n",
    "    threshold : float, optional (default = 2.5)\n",
    "        decision threshold for whether to walk the dog or not\n",
    "    \n",
    "    Returns\n",
    "    -------\n",
    "    walk : bool\n",
    "        Boolean variable to indicate whether to walk the dog\n",
    "    '''\n",
    "    \n",
    "\n",
    "    if np.sum(questions*weights) > threshold:\n",
    "        print('better take that dog for a walk!!!')\n",
    "        walk = True\n",
    "        \n",
    "    else:\n",
    "        print('dont walk...stay on couch...')\n",
    "        walk = False\n",
    "        \n",
    "    return walk"
   ]
  },
  {
   "cell_type": "markdown",
   "id": "520ea966",
   "metadata": {
    "slideshow": {
     "slide_type": "slide"
    }
   },
   "source": [
    "**Problem 1b**\n",
    "\n",
    "Use the newly created perceptron to determine whether to walk the dog if: \n",
    "  1. it is raining outside\n",
    "  2. the dog is asleep\n",
    "  3. the dog last went out 2.5 hours ago\n",
    "\n",
    "*Hint* - recall that the inputs should be binary."
   ]
  },
  {
   "cell_type": "code",
   "execution_count": 22,
   "id": "b2f54268",
   "metadata": {
    "slideshow": {
     "slide_type": "slide"
    }
   },
   "outputs": [
    {
     "name": "stdout",
     "output_type": "stream",
     "text": [
      "dont walk...stay on couch...\n"
     ]
    },
    {
     "data": {
      "text/plain": [
       "False"
      ]
     },
     "execution_count": 22,
     "metadata": {},
     "output_type": "execute_result"
    }
   ],
   "source": [
    "walk_dog(np.array([1, 1, 0]))"
   ]
  },
  {
   "cell_type": "markdown",
   "id": "38f4ef58",
   "metadata": {
    "slideshow": {
     "slide_type": "slide"
    }
   },
   "source": [
    "**Problem 1c**\n",
    "\n",
    "After sleeping for four hours, it is still raining, but the dog wakes up (i.e., it has been 6.5 hr since the dog last went out). Should you walk the dog?\n",
    "\n",
    "*Hint* - recall that the inputs should be binary."
   ]
  },
  {
   "cell_type": "code",
   "execution_count": 26,
   "id": "6b08c88d",
   "metadata": {
    "slideshow": {
     "slide_type": "slide"
    }
   },
   "outputs": [
    {
     "name": "stdout",
     "output_type": "stream",
     "text": [
      "better take that dog for a walk!!!\n"
     ]
    },
    {
     "data": {
      "text/plain": [
       "True"
      ]
     },
     "execution_count": 26,
     "metadata": {},
     "output_type": "execute_result"
    }
   ],
   "source": [
    "walk_dog(np.array([1, 0, 1]))"
   ]
  },
  {
   "cell_type": "markdown",
   "id": "b8e1c2f3",
   "metadata": {
    "slideshow": {
     "slide_type": "slide"
    }
   },
   "source": [
    "## Problem 2) Generic Perceptron"
   ]
  },
  {
   "cell_type": "markdown",
   "id": "81d10bf6",
   "metadata": {
    "slideshow": {
     "slide_type": "slide"
    }
   },
   "source": [
    "We can simplify our representation of the perceptron by replacing the sum with a dot product, $w_n \\cdot x_n = \\sum_n w_n x_n$, and we can move the threshold to the other side of the inequality, which we will now refer to as the bias $b$. \n",
    "\n",
    "$$\\mathrm{output} = \\left\\{ \\begin{array}{lcr}\n",
    "0 & \\mathrm{if} \\; w_n \\cdot x_n + b & \\le 0 \\\\\n",
    "1 & \\mathrm{if} \\; w_n \\cdot x_n + b & > 0\n",
    "\\end{array}\\right.\n",
    "$$"
   ]
  },
  {
   "cell_type": "markdown",
   "id": "9b3ad13f",
   "metadata": {
    "slideshow": {
     "slide_type": "subslide"
    }
   },
   "source": [
    "(in this notation, the bias can be thought of how easy it is for the neuron to be activated)"
   ]
  },
  {
   "cell_type": "markdown",
   "id": "5defe893",
   "metadata": {
    "slideshow": {
     "slide_type": "slide"
    }
   },
   "source": [
    "Now, build a generic perceptron that can take any collection of input signals and weights, as well as a bias, to determine the binary output from the artificial neuron."
   ]
  },
  {
   "cell_type": "markdown",
   "id": "02326f48",
   "metadata": {
    "slideshow": {
     "slide_type": "subslide"
    }
   },
   "source": [
    "(this will prove useful for more than just walking the dog)"
   ]
  },
  {
   "cell_type": "markdown",
   "id": "3afca76e",
   "metadata": {
    "slideshow": {
     "slide_type": "slide"
    }
   },
   "source": [
    "**Problem 2a**\n",
    "\n",
    "Write a generic function `perceptron` that takes as input arrays called `signals` and `weights` as well as a float called `bias`. The function should return a boolean indicating whether or not the perceptron is \"activated\". "
   ]
  },
  {
   "cell_type": "code",
   "execution_count": 32,
   "id": "6af71465",
   "metadata": {
    "slideshow": {
     "slide_type": "slide"
    }
   },
   "outputs": [],
   "source": [
    "def perceptron(signals, weights, bias):\n",
    "    '''Generic perceptron function\n",
    "    \n",
    "    Parameters\n",
    "    ----------\n",
    "    signals : array-like\n",
    "        the input signals for the perceptron\n",
    "        \n",
    "    weights : array-like\n",
    "        the weight applied to each input\n",
    "        \n",
    "    bias : float\n",
    "        the value required for activation\n",
    "        \n",
    "    Returns\n",
    "    -------\n",
    "    activated : bool\n",
    "        whether or not the perceptron is activated\n",
    "    '''\n",
    "    \n",
    "    if np.dot(signals, weights) + bias > 0:\n",
    "        activated = True\n",
    "    else:\n",
    "        activated = False\n",
    "        \n",
    "    return activated"
   ]
  },
  {
   "cell_type": "markdown",
   "id": "7f98b383",
   "metadata": {
    "slideshow": {
     "slide_type": "slide"
    }
   },
   "source": [
    "**Problem 2b** \n",
    "\n",
    "Is the perceptron activated if the signal = [2.3, 5.3, 1.2, 3.4], the weights = [-3, 2, 0.5, -1], and no bias (i.e., bias = 0)?"
   ]
  },
  {
   "cell_type": "code",
   "execution_count": 33,
   "id": "01a84485",
   "metadata": {
    "slideshow": {
     "slide_type": "fragment"
    }
   },
   "outputs": [
    {
     "data": {
      "text/plain": [
       "True"
      ]
     },
     "execution_count": 33,
     "metadata": {},
     "output_type": "execute_result"
    }
   ],
   "source": [
    "perceptron([2.3, 5.3, 1.2, 3.4], [-3, 2, 0.5, -1], 0)"
   ]
  },
  {
   "cell_type": "markdown",
   "id": "0eaed647",
   "metadata": {
    "slideshow": {
     "slide_type": "slide"
    }
   },
   "source": [
    "**Problem 2c** \n",
    "\n",
    "What if the signal and weights do not change but the bias = -2? "
   ]
  },
  {
   "cell_type": "code",
   "execution_count": 34,
   "id": "25d2fe35",
   "metadata": {
    "slideshow": {
     "slide_type": "fragment"
    }
   },
   "outputs": [
    {
     "data": {
      "text/plain": [
       "False"
      ]
     },
     "execution_count": 34,
     "metadata": {},
     "output_type": "execute_result"
    }
   ],
   "source": [
    "perceptron([2.3, 5.3, 1.2, 3.4], [-3, 2, 0.5, -1], -2)"
   ]
  },
  {
   "cell_type": "markdown",
   "id": "752234ce",
   "metadata": {
    "slideshow": {
     "slide_type": "slide"
    }
   },
   "source": [
    "## Problem 3) Perceptrons for classification"
   ]
  },
  {
   "cell_type": "markdown",
   "id": "92abc052",
   "metadata": {
    "slideshow": {
     "slide_type": "slide"
    }
   },
   "source": [
    "Perceptrons can be used for binary classification problems!"
   ]
  },
  {
   "cell_type": "markdown",
   "id": "ec79f03b",
   "metadata": {
    "slideshow": {
     "slide_type": "subslide"
    }
   },
   "source": [
    "(perhaps this is no surprise given that this session is about machine learning...)"
   ]
  },
  {
   "cell_type": "markdown",
   "id": "2db543b4",
   "metadata": {
    "slideshow": {
     "slide_type": "slide"
    }
   },
   "source": [
    "To demonstrate how this works we will generate some synthetic two-dimensional data, but the principle can easily be scaled to an arbitrarily large number of dimensions. \n",
    "\n",
    "We use `scikit-learn` to simulate two classes in a 2d plane using the [`make_blobs()`](https://scikit-learn.org/stable/modules/generated/sklearn.datasets.make_blobs.html) function. We will only include 30 samples so the data are easy to visualize."
   ]
  },
  {
   "cell_type": "code",
   "execution_count": 35,
   "id": "b1bff508",
   "metadata": {
    "slideshow": {
     "slide_type": "slide"
    }
   },
   "outputs": [],
   "source": [
    "X, y = make_blobs(n_samples=30, centers=2, n_features=2,\n",
    "                  center_box = (0,4), random_state=1885)"
   ]
  },
  {
   "cell_type": "code",
   "execution_count": 36,
   "id": "7724dc34",
   "metadata": {
    "slideshow": {
     "slide_type": "slide"
    }
   },
   "outputs": [
    {
     "data": {
      "application/javascript": [
       "/* Put everything inside the global mpl namespace */\n",
       "/* global mpl */\n",
       "window.mpl = {};\n",
       "\n",
       "mpl.get_websocket_type = function () {\n",
       "    if (typeof WebSocket !== 'undefined') {\n",
       "        return WebSocket;\n",
       "    } else if (typeof MozWebSocket !== 'undefined') {\n",
       "        return MozWebSocket;\n",
       "    } else {\n",
       "        alert(\n",
       "            'Your browser does not have WebSocket support. ' +\n",
       "                'Please try Chrome, Safari or Firefox ≥ 6. ' +\n",
       "                'Firefox 4 and 5 are also supported but you ' +\n",
       "                'have to enable WebSockets in about:config.'\n",
       "        );\n",
       "    }\n",
       "};\n",
       "\n",
       "mpl.figure = function (figure_id, websocket, ondownload, parent_element) {\n",
       "    this.id = figure_id;\n",
       "\n",
       "    this.ws = websocket;\n",
       "\n",
       "    this.supports_binary = this.ws.binaryType !== undefined;\n",
       "\n",
       "    if (!this.supports_binary) {\n",
       "        var warnings = document.getElementById('mpl-warnings');\n",
       "        if (warnings) {\n",
       "            warnings.style.display = 'block';\n",
       "            warnings.textContent =\n",
       "                'This browser does not support binary websocket messages. ' +\n",
       "                'Performance may be slow.';\n",
       "        }\n",
       "    }\n",
       "\n",
       "    this.imageObj = new Image();\n",
       "\n",
       "    this.context = undefined;\n",
       "    this.message = undefined;\n",
       "    this.canvas = undefined;\n",
       "    this.rubberband_canvas = undefined;\n",
       "    this.rubberband_context = undefined;\n",
       "    this.format_dropdown = undefined;\n",
       "\n",
       "    this.image_mode = 'full';\n",
       "\n",
       "    this.root = document.createElement('div');\n",
       "    this.root.setAttribute('style', 'display: inline-block');\n",
       "    this._root_extra_style(this.root);\n",
       "\n",
       "    parent_element.appendChild(this.root);\n",
       "\n",
       "    this._init_header(this);\n",
       "    this._init_canvas(this);\n",
       "    this._init_toolbar(this);\n",
       "\n",
       "    var fig = this;\n",
       "\n",
       "    this.waiting = false;\n",
       "\n",
       "    this.ws.onopen = function () {\n",
       "        fig.send_message('supports_binary', { value: fig.supports_binary });\n",
       "        fig.send_message('send_image_mode', {});\n",
       "        if (fig.ratio !== 1) {\n",
       "            fig.send_message('set_device_pixel_ratio', {\n",
       "                device_pixel_ratio: fig.ratio,\n",
       "            });\n",
       "        }\n",
       "        fig.send_message('refresh', {});\n",
       "    };\n",
       "\n",
       "    this.imageObj.onload = function () {\n",
       "        if (fig.image_mode === 'full') {\n",
       "            // Full images could contain transparency (where diff images\n",
       "            // almost always do), so we need to clear the canvas so that\n",
       "            // there is no ghosting.\n",
       "            fig.context.clearRect(0, 0, fig.canvas.width, fig.canvas.height);\n",
       "        }\n",
       "        fig.context.drawImage(fig.imageObj, 0, 0);\n",
       "    };\n",
       "\n",
       "    this.imageObj.onunload = function () {\n",
       "        fig.ws.close();\n",
       "    };\n",
       "\n",
       "    this.ws.onmessage = this._make_on_message_function(this);\n",
       "\n",
       "    this.ondownload = ondownload;\n",
       "};\n",
       "\n",
       "mpl.figure.prototype._init_header = function () {\n",
       "    var titlebar = document.createElement('div');\n",
       "    titlebar.classList =\n",
       "        'ui-dialog-titlebar ui-widget-header ui-corner-all ui-helper-clearfix';\n",
       "    var titletext = document.createElement('div');\n",
       "    titletext.classList = 'ui-dialog-title';\n",
       "    titletext.setAttribute(\n",
       "        'style',\n",
       "        'width: 100%; text-align: center; padding: 3px;'\n",
       "    );\n",
       "    titlebar.appendChild(titletext);\n",
       "    this.root.appendChild(titlebar);\n",
       "    this.header = titletext;\n",
       "};\n",
       "\n",
       "mpl.figure.prototype._canvas_extra_style = function (_canvas_div) {};\n",
       "\n",
       "mpl.figure.prototype._root_extra_style = function (_canvas_div) {};\n",
       "\n",
       "mpl.figure.prototype._init_canvas = function () {\n",
       "    var fig = this;\n",
       "\n",
       "    var canvas_div = (this.canvas_div = document.createElement('div'));\n",
       "    canvas_div.setAttribute('tabindex', '0');\n",
       "    canvas_div.setAttribute(\n",
       "        'style',\n",
       "        'border: 1px solid #ddd;' +\n",
       "            'box-sizing: content-box;' +\n",
       "            'clear: both;' +\n",
       "            'min-height: 1px;' +\n",
       "            'min-width: 1px;' +\n",
       "            'outline: 0;' +\n",
       "            'overflow: hidden;' +\n",
       "            'position: relative;' +\n",
       "            'resize: both;' +\n",
       "            'z-index: 2;'\n",
       "    );\n",
       "\n",
       "    function on_keyboard_event_closure(name) {\n",
       "        return function (event) {\n",
       "            return fig.key_event(event, name);\n",
       "        };\n",
       "    }\n",
       "\n",
       "    canvas_div.addEventListener(\n",
       "        'keydown',\n",
       "        on_keyboard_event_closure('key_press')\n",
       "    );\n",
       "    canvas_div.addEventListener(\n",
       "        'keyup',\n",
       "        on_keyboard_event_closure('key_release')\n",
       "    );\n",
       "\n",
       "    this._canvas_extra_style(canvas_div);\n",
       "    this.root.appendChild(canvas_div);\n",
       "\n",
       "    var canvas = (this.canvas = document.createElement('canvas'));\n",
       "    canvas.classList.add('mpl-canvas');\n",
       "    canvas.setAttribute(\n",
       "        'style',\n",
       "        'box-sizing: content-box;' +\n",
       "            'pointer-events: none;' +\n",
       "            'position: relative;' +\n",
       "            'z-index: 0;'\n",
       "    );\n",
       "\n",
       "    this.context = canvas.getContext('2d');\n",
       "\n",
       "    var backingStore =\n",
       "        this.context.backingStorePixelRatio ||\n",
       "        this.context.webkitBackingStorePixelRatio ||\n",
       "        this.context.mozBackingStorePixelRatio ||\n",
       "        this.context.msBackingStorePixelRatio ||\n",
       "        this.context.oBackingStorePixelRatio ||\n",
       "        this.context.backingStorePixelRatio ||\n",
       "        1;\n",
       "\n",
       "    this.ratio = (window.devicePixelRatio || 1) / backingStore;\n",
       "\n",
       "    var rubberband_canvas = (this.rubberband_canvas = document.createElement(\n",
       "        'canvas'\n",
       "    ));\n",
       "    rubberband_canvas.setAttribute(\n",
       "        'style',\n",
       "        'box-sizing: content-box;' +\n",
       "            'left: 0;' +\n",
       "            'pointer-events: none;' +\n",
       "            'position: absolute;' +\n",
       "            'top: 0;' +\n",
       "            'z-index: 1;'\n",
       "    );\n",
       "\n",
       "    // Apply a ponyfill if ResizeObserver is not implemented by browser.\n",
       "    if (this.ResizeObserver === undefined) {\n",
       "        if (window.ResizeObserver !== undefined) {\n",
       "            this.ResizeObserver = window.ResizeObserver;\n",
       "        } else {\n",
       "            var obs = _JSXTOOLS_RESIZE_OBSERVER({});\n",
       "            this.ResizeObserver = obs.ResizeObserver;\n",
       "        }\n",
       "    }\n",
       "\n",
       "    this.resizeObserverInstance = new this.ResizeObserver(function (entries) {\n",
       "        var nentries = entries.length;\n",
       "        for (var i = 0; i < nentries; i++) {\n",
       "            var entry = entries[i];\n",
       "            var width, height;\n",
       "            if (entry.contentBoxSize) {\n",
       "                if (entry.contentBoxSize instanceof Array) {\n",
       "                    // Chrome 84 implements new version of spec.\n",
       "                    width = entry.contentBoxSize[0].inlineSize;\n",
       "                    height = entry.contentBoxSize[0].blockSize;\n",
       "                } else {\n",
       "                    // Firefox implements old version of spec.\n",
       "                    width = entry.contentBoxSize.inlineSize;\n",
       "                    height = entry.contentBoxSize.blockSize;\n",
       "                }\n",
       "            } else {\n",
       "                // Chrome <84 implements even older version of spec.\n",
       "                width = entry.contentRect.width;\n",
       "                height = entry.contentRect.height;\n",
       "            }\n",
       "\n",
       "            // Keep the size of the canvas and rubber band canvas in sync with\n",
       "            // the canvas container.\n",
       "            if (entry.devicePixelContentBoxSize) {\n",
       "                // Chrome 84 implements new version of spec.\n",
       "                canvas.setAttribute(\n",
       "                    'width',\n",
       "                    entry.devicePixelContentBoxSize[0].inlineSize\n",
       "                );\n",
       "                canvas.setAttribute(\n",
       "                    'height',\n",
       "                    entry.devicePixelContentBoxSize[0].blockSize\n",
       "                );\n",
       "            } else {\n",
       "                canvas.setAttribute('width', width * fig.ratio);\n",
       "                canvas.setAttribute('height', height * fig.ratio);\n",
       "            }\n",
       "            /* This rescales the canvas back to display pixels, so that it\n",
       "             * appears correct on HiDPI screens. */\n",
       "            canvas.style.width = width + 'px';\n",
       "            canvas.style.height = height + 'px';\n",
       "\n",
       "            rubberband_canvas.setAttribute('width', width);\n",
       "            rubberband_canvas.setAttribute('height', height);\n",
       "\n",
       "            // And update the size in Python. We ignore the initial 0/0 size\n",
       "            // that occurs as the element is placed into the DOM, which should\n",
       "            // otherwise not happen due to the minimum size styling.\n",
       "            if (fig.ws.readyState == 1 && width != 0 && height != 0) {\n",
       "                fig.request_resize(width, height);\n",
       "            }\n",
       "        }\n",
       "    });\n",
       "    this.resizeObserverInstance.observe(canvas_div);\n",
       "\n",
       "    function on_mouse_event_closure(name) {\n",
       "        /* User Agent sniffing is bad, but WebKit is busted:\n",
       "         * https://bugs.webkit.org/show_bug.cgi?id=144526\n",
       "         * https://bugs.webkit.org/show_bug.cgi?id=181818\n",
       "         * The worst that happens here is that they get an extra browser\n",
       "         * selection when dragging, if this check fails to catch them.\n",
       "         */\n",
       "        var UA = navigator.userAgent;\n",
       "        var isWebKit = /AppleWebKit/.test(UA) && !/Chrome/.test(UA);\n",
       "        if(isWebKit) {\n",
       "            return function (event) {\n",
       "                /* This prevents the web browser from automatically changing to\n",
       "                 * the text insertion cursor when the button is pressed. We\n",
       "                 * want to control all of the cursor setting manually through\n",
       "                 * the 'cursor' event from matplotlib */\n",
       "                event.preventDefault()\n",
       "                return fig.mouse_event(event, name);\n",
       "            };\n",
       "        } else {\n",
       "            return function (event) {\n",
       "                return fig.mouse_event(event, name);\n",
       "            };\n",
       "        }\n",
       "    }\n",
       "\n",
       "    canvas_div.addEventListener(\n",
       "        'mousedown',\n",
       "        on_mouse_event_closure('button_press')\n",
       "    );\n",
       "    canvas_div.addEventListener(\n",
       "        'mouseup',\n",
       "        on_mouse_event_closure('button_release')\n",
       "    );\n",
       "    canvas_div.addEventListener(\n",
       "        'dblclick',\n",
       "        on_mouse_event_closure('dblclick')\n",
       "    );\n",
       "    // Throttle sequential mouse events to 1 every 20ms.\n",
       "    canvas_div.addEventListener(\n",
       "        'mousemove',\n",
       "        on_mouse_event_closure('motion_notify')\n",
       "    );\n",
       "\n",
       "    canvas_div.addEventListener(\n",
       "        'mouseenter',\n",
       "        on_mouse_event_closure('figure_enter')\n",
       "    );\n",
       "    canvas_div.addEventListener(\n",
       "        'mouseleave',\n",
       "        on_mouse_event_closure('figure_leave')\n",
       "    );\n",
       "\n",
       "    canvas_div.addEventListener('wheel', function (event) {\n",
       "        if (event.deltaY < 0) {\n",
       "            event.step = 1;\n",
       "        } else {\n",
       "            event.step = -1;\n",
       "        }\n",
       "        on_mouse_event_closure('scroll')(event);\n",
       "    });\n",
       "\n",
       "    canvas_div.appendChild(canvas);\n",
       "    canvas_div.appendChild(rubberband_canvas);\n",
       "\n",
       "    this.rubberband_context = rubberband_canvas.getContext('2d');\n",
       "    this.rubberband_context.strokeStyle = '#000000';\n",
       "\n",
       "    this._resize_canvas = function (width, height, forward) {\n",
       "        if (forward) {\n",
       "            canvas_div.style.width = width + 'px';\n",
       "            canvas_div.style.height = height + 'px';\n",
       "        }\n",
       "    };\n",
       "\n",
       "    // Disable right mouse context menu.\n",
       "    canvas_div.addEventListener('contextmenu', function (_e) {\n",
       "        event.preventDefault();\n",
       "        return false;\n",
       "    });\n",
       "\n",
       "    function set_focus() {\n",
       "        canvas.focus();\n",
       "        canvas_div.focus();\n",
       "    }\n",
       "\n",
       "    window.setTimeout(set_focus, 100);\n",
       "};\n",
       "\n",
       "mpl.figure.prototype._init_toolbar = function () {\n",
       "    var fig = this;\n",
       "\n",
       "    var toolbar = document.createElement('div');\n",
       "    toolbar.classList = 'mpl-toolbar';\n",
       "    this.root.appendChild(toolbar);\n",
       "\n",
       "    function on_click_closure(name) {\n",
       "        return function (_event) {\n",
       "            return fig.toolbar_button_onclick(name);\n",
       "        };\n",
       "    }\n",
       "\n",
       "    function on_mouseover_closure(tooltip) {\n",
       "        return function (event) {\n",
       "            if (!event.currentTarget.disabled) {\n",
       "                return fig.toolbar_button_onmouseover(tooltip);\n",
       "            }\n",
       "        };\n",
       "    }\n",
       "\n",
       "    fig.buttons = {};\n",
       "    var buttonGroup = document.createElement('div');\n",
       "    buttonGroup.classList = 'mpl-button-group';\n",
       "    for (var toolbar_ind in mpl.toolbar_items) {\n",
       "        var name = mpl.toolbar_items[toolbar_ind][0];\n",
       "        var tooltip = mpl.toolbar_items[toolbar_ind][1];\n",
       "        var image = mpl.toolbar_items[toolbar_ind][2];\n",
       "        var method_name = mpl.toolbar_items[toolbar_ind][3];\n",
       "\n",
       "        if (!name) {\n",
       "            /* Instead of a spacer, we start a new button group. */\n",
       "            if (buttonGroup.hasChildNodes()) {\n",
       "                toolbar.appendChild(buttonGroup);\n",
       "            }\n",
       "            buttonGroup = document.createElement('div');\n",
       "            buttonGroup.classList = 'mpl-button-group';\n",
       "            continue;\n",
       "        }\n",
       "\n",
       "        var button = (fig.buttons[name] = document.createElement('button'));\n",
       "        button.classList = 'mpl-widget';\n",
       "        button.setAttribute('role', 'button');\n",
       "        button.setAttribute('aria-disabled', 'false');\n",
       "        button.addEventListener('click', on_click_closure(method_name));\n",
       "        button.addEventListener('mouseover', on_mouseover_closure(tooltip));\n",
       "\n",
       "        var icon_img = document.createElement('img');\n",
       "        icon_img.src = '_images/' + image + '.png';\n",
       "        icon_img.srcset = '_images/' + image + '_large.png 2x';\n",
       "        icon_img.alt = tooltip;\n",
       "        button.appendChild(icon_img);\n",
       "\n",
       "        buttonGroup.appendChild(button);\n",
       "    }\n",
       "\n",
       "    if (buttonGroup.hasChildNodes()) {\n",
       "        toolbar.appendChild(buttonGroup);\n",
       "    }\n",
       "\n",
       "    var fmt_picker = document.createElement('select');\n",
       "    fmt_picker.classList = 'mpl-widget';\n",
       "    toolbar.appendChild(fmt_picker);\n",
       "    this.format_dropdown = fmt_picker;\n",
       "\n",
       "    for (var ind in mpl.extensions) {\n",
       "        var fmt = mpl.extensions[ind];\n",
       "        var option = document.createElement('option');\n",
       "        option.selected = fmt === mpl.default_extension;\n",
       "        option.innerHTML = fmt;\n",
       "        fmt_picker.appendChild(option);\n",
       "    }\n",
       "\n",
       "    var status_bar = document.createElement('span');\n",
       "    status_bar.classList = 'mpl-message';\n",
       "    toolbar.appendChild(status_bar);\n",
       "    this.message = status_bar;\n",
       "};\n",
       "\n",
       "mpl.figure.prototype.request_resize = function (x_pixels, y_pixels) {\n",
       "    // Request matplotlib to resize the figure. Matplotlib will then trigger a resize in the client,\n",
       "    // which will in turn request a refresh of the image.\n",
       "    this.send_message('resize', { width: x_pixels, height: y_pixels });\n",
       "};\n",
       "\n",
       "mpl.figure.prototype.send_message = function (type, properties) {\n",
       "    properties['type'] = type;\n",
       "    properties['figure_id'] = this.id;\n",
       "    this.ws.send(JSON.stringify(properties));\n",
       "};\n",
       "\n",
       "mpl.figure.prototype.send_draw_message = function () {\n",
       "    if (!this.waiting) {\n",
       "        this.waiting = true;\n",
       "        this.ws.send(JSON.stringify({ type: 'draw', figure_id: this.id }));\n",
       "    }\n",
       "};\n",
       "\n",
       "mpl.figure.prototype.handle_save = function (fig, _msg) {\n",
       "    var format_dropdown = fig.format_dropdown;\n",
       "    var format = format_dropdown.options[format_dropdown.selectedIndex].value;\n",
       "    fig.ondownload(fig, format);\n",
       "};\n",
       "\n",
       "mpl.figure.prototype.handle_resize = function (fig, msg) {\n",
       "    var size = msg['size'];\n",
       "    if (size[0] !== fig.canvas.width || size[1] !== fig.canvas.height) {\n",
       "        fig._resize_canvas(size[0], size[1], msg['forward']);\n",
       "        fig.send_message('refresh', {});\n",
       "    }\n",
       "};\n",
       "\n",
       "mpl.figure.prototype.handle_rubberband = function (fig, msg) {\n",
       "    var x0 = msg['x0'] / fig.ratio;\n",
       "    var y0 = (fig.canvas.height - msg['y0']) / fig.ratio;\n",
       "    var x1 = msg['x1'] / fig.ratio;\n",
       "    var y1 = (fig.canvas.height - msg['y1']) / fig.ratio;\n",
       "    x0 = Math.floor(x0) + 0.5;\n",
       "    y0 = Math.floor(y0) + 0.5;\n",
       "    x1 = Math.floor(x1) + 0.5;\n",
       "    y1 = Math.floor(y1) + 0.5;\n",
       "    var min_x = Math.min(x0, x1);\n",
       "    var min_y = Math.min(y0, y1);\n",
       "    var width = Math.abs(x1 - x0);\n",
       "    var height = Math.abs(y1 - y0);\n",
       "\n",
       "    fig.rubberband_context.clearRect(\n",
       "        0,\n",
       "        0,\n",
       "        fig.canvas.width / fig.ratio,\n",
       "        fig.canvas.height / fig.ratio\n",
       "    );\n",
       "\n",
       "    fig.rubberband_context.strokeRect(min_x, min_y, width, height);\n",
       "};\n",
       "\n",
       "mpl.figure.prototype.handle_figure_label = function (fig, msg) {\n",
       "    // Updates the figure title.\n",
       "    fig.header.textContent = msg['label'];\n",
       "};\n",
       "\n",
       "mpl.figure.prototype.handle_cursor = function (fig, msg) {\n",
       "    fig.canvas_div.style.cursor = msg['cursor'];\n",
       "};\n",
       "\n",
       "mpl.figure.prototype.handle_message = function (fig, msg) {\n",
       "    fig.message.textContent = msg['message'];\n",
       "};\n",
       "\n",
       "mpl.figure.prototype.handle_draw = function (fig, _msg) {\n",
       "    // Request the server to send over a new figure.\n",
       "    fig.send_draw_message();\n",
       "};\n",
       "\n",
       "mpl.figure.prototype.handle_image_mode = function (fig, msg) {\n",
       "    fig.image_mode = msg['mode'];\n",
       "};\n",
       "\n",
       "mpl.figure.prototype.handle_history_buttons = function (fig, msg) {\n",
       "    for (var key in msg) {\n",
       "        if (!(key in fig.buttons)) {\n",
       "            continue;\n",
       "        }\n",
       "        fig.buttons[key].disabled = !msg[key];\n",
       "        fig.buttons[key].setAttribute('aria-disabled', !msg[key]);\n",
       "    }\n",
       "};\n",
       "\n",
       "mpl.figure.prototype.handle_navigate_mode = function (fig, msg) {\n",
       "    if (msg['mode'] === 'PAN') {\n",
       "        fig.buttons['Pan'].classList.add('active');\n",
       "        fig.buttons['Zoom'].classList.remove('active');\n",
       "    } else if (msg['mode'] === 'ZOOM') {\n",
       "        fig.buttons['Pan'].classList.remove('active');\n",
       "        fig.buttons['Zoom'].classList.add('active');\n",
       "    } else {\n",
       "        fig.buttons['Pan'].classList.remove('active');\n",
       "        fig.buttons['Zoom'].classList.remove('active');\n",
       "    }\n",
       "};\n",
       "\n",
       "mpl.figure.prototype.updated_canvas_event = function () {\n",
       "    // Called whenever the canvas gets updated.\n",
       "    this.send_message('ack', {});\n",
       "};\n",
       "\n",
       "// A function to construct a web socket function for onmessage handling.\n",
       "// Called in the figure constructor.\n",
       "mpl.figure.prototype._make_on_message_function = function (fig) {\n",
       "    return function socket_on_message(evt) {\n",
       "        if (evt.data instanceof Blob) {\n",
       "            var img = evt.data;\n",
       "            if (img.type !== 'image/png') {\n",
       "                /* FIXME: We get \"Resource interpreted as Image but\n",
       "                 * transferred with MIME type text/plain:\" errors on\n",
       "                 * Chrome.  But how to set the MIME type?  It doesn't seem\n",
       "                 * to be part of the websocket stream */\n",
       "                img.type = 'image/png';\n",
       "            }\n",
       "\n",
       "            /* Free the memory for the previous frames */\n",
       "            if (fig.imageObj.src) {\n",
       "                (window.URL || window.webkitURL).revokeObjectURL(\n",
       "                    fig.imageObj.src\n",
       "                );\n",
       "            }\n",
       "\n",
       "            fig.imageObj.src = (window.URL || window.webkitURL).createObjectURL(\n",
       "                img\n",
       "            );\n",
       "            fig.updated_canvas_event();\n",
       "            fig.waiting = false;\n",
       "            return;\n",
       "        } else if (\n",
       "            typeof evt.data === 'string' &&\n",
       "            evt.data.slice(0, 21) === 'data:image/png;base64'\n",
       "        ) {\n",
       "            fig.imageObj.src = evt.data;\n",
       "            fig.updated_canvas_event();\n",
       "            fig.waiting = false;\n",
       "            return;\n",
       "        }\n",
       "\n",
       "        var msg = JSON.parse(evt.data);\n",
       "        var msg_type = msg['type'];\n",
       "\n",
       "        // Call the  \"handle_{type}\" callback, which takes\n",
       "        // the figure and JSON message as its only arguments.\n",
       "        try {\n",
       "            var callback = fig['handle_' + msg_type];\n",
       "        } catch (e) {\n",
       "            console.log(\n",
       "                \"No handler for the '\" + msg_type + \"' message type: \",\n",
       "                msg\n",
       "            );\n",
       "            return;\n",
       "        }\n",
       "\n",
       "        if (callback) {\n",
       "            try {\n",
       "                // console.log(\"Handling '\" + msg_type + \"' message: \", msg);\n",
       "                callback(fig, msg);\n",
       "            } catch (e) {\n",
       "                console.log(\n",
       "                    \"Exception inside the 'handler_\" + msg_type + \"' callback:\",\n",
       "                    e,\n",
       "                    e.stack,\n",
       "                    msg\n",
       "                );\n",
       "            }\n",
       "        }\n",
       "    };\n",
       "};\n",
       "\n",
       "function getModifiers(event) {\n",
       "    var mods = [];\n",
       "    if (event.ctrlKey) {\n",
       "        mods.push('ctrl');\n",
       "    }\n",
       "    if (event.altKey) {\n",
       "        mods.push('alt');\n",
       "    }\n",
       "    if (event.shiftKey) {\n",
       "        mods.push('shift');\n",
       "    }\n",
       "    if (event.metaKey) {\n",
       "        mods.push('meta');\n",
       "    }\n",
       "    return mods;\n",
       "}\n",
       "\n",
       "/*\n",
       " * return a copy of an object with only non-object keys\n",
       " * we need this to avoid circular references\n",
       " * https://stackoverflow.com/a/24161582/3208463\n",
       " */\n",
       "function simpleKeys(original) {\n",
       "    return Object.keys(original).reduce(function (obj, key) {\n",
       "        if (typeof original[key] !== 'object') {\n",
       "            obj[key] = original[key];\n",
       "        }\n",
       "        return obj;\n",
       "    }, {});\n",
       "}\n",
       "\n",
       "mpl.figure.prototype.mouse_event = function (event, name) {\n",
       "    if (name === 'button_press') {\n",
       "        this.canvas.focus();\n",
       "        this.canvas_div.focus();\n",
       "    }\n",
       "\n",
       "    // from https://stackoverflow.com/q/1114465\n",
       "    var boundingRect = this.canvas.getBoundingClientRect();\n",
       "    var x = (event.clientX - boundingRect.left) * this.ratio;\n",
       "    var y = (event.clientY - boundingRect.top) * this.ratio;\n",
       "\n",
       "    this.send_message(name, {\n",
       "        x: x,\n",
       "        y: y,\n",
       "        button: event.button,\n",
       "        step: event.step,\n",
       "        modifiers: getModifiers(event),\n",
       "        guiEvent: simpleKeys(event),\n",
       "    });\n",
       "\n",
       "    return false;\n",
       "};\n",
       "\n",
       "mpl.figure.prototype._key_event_extra = function (_event, _name) {\n",
       "    // Handle any extra behaviour associated with a key event\n",
       "};\n",
       "\n",
       "mpl.figure.prototype.key_event = function (event, name) {\n",
       "    // Prevent repeat events\n",
       "    if (name === 'key_press') {\n",
       "        if (event.key === this._key) {\n",
       "            return;\n",
       "        } else {\n",
       "            this._key = event.key;\n",
       "        }\n",
       "    }\n",
       "    if (name === 'key_release') {\n",
       "        this._key = null;\n",
       "    }\n",
       "\n",
       "    var value = '';\n",
       "    if (event.ctrlKey && event.key !== 'Control') {\n",
       "        value += 'ctrl+';\n",
       "    }\n",
       "    else if (event.altKey && event.key !== 'Alt') {\n",
       "        value += 'alt+';\n",
       "    }\n",
       "    else if (event.shiftKey && event.key !== 'Shift') {\n",
       "        value += 'shift+';\n",
       "    }\n",
       "\n",
       "    value += 'k' + event.key;\n",
       "\n",
       "    this._key_event_extra(event, name);\n",
       "\n",
       "    this.send_message(name, { key: value, guiEvent: simpleKeys(event) });\n",
       "    return false;\n",
       "};\n",
       "\n",
       "mpl.figure.prototype.toolbar_button_onclick = function (name) {\n",
       "    if (name === 'download') {\n",
       "        this.handle_save(this, null);\n",
       "    } else {\n",
       "        this.send_message('toolbar_button', { name: name });\n",
       "    }\n",
       "};\n",
       "\n",
       "mpl.figure.prototype.toolbar_button_onmouseover = function (tooltip) {\n",
       "    this.message.textContent = tooltip;\n",
       "};\n",
       "\n",
       "///////////////// REMAINING CONTENT GENERATED BY embed_js.py /////////////////\n",
       "// prettier-ignore\n",
       "var _JSXTOOLS_RESIZE_OBSERVER=function(A){var t,i=new WeakMap,n=new WeakMap,a=new WeakMap,r=new WeakMap,o=new Set;function s(e){if(!(this instanceof s))throw new TypeError(\"Constructor requires 'new' operator\");i.set(this,e)}function h(){throw new TypeError(\"Function is not a constructor\")}function c(e,t,i,n){e=0 in arguments?Number(arguments[0]):0,t=1 in arguments?Number(arguments[1]):0,i=2 in arguments?Number(arguments[2]):0,n=3 in arguments?Number(arguments[3]):0,this.right=(this.x=this.left=e)+(this.width=i),this.bottom=(this.y=this.top=t)+(this.height=n),Object.freeze(this)}function d(){t=requestAnimationFrame(d);var s=new WeakMap,p=new Set;o.forEach((function(t){r.get(t).forEach((function(i){var r=t instanceof window.SVGElement,o=a.get(t),d=r?0:parseFloat(o.paddingTop),f=r?0:parseFloat(o.paddingRight),l=r?0:parseFloat(o.paddingBottom),u=r?0:parseFloat(o.paddingLeft),g=r?0:parseFloat(o.borderTopWidth),m=r?0:parseFloat(o.borderRightWidth),w=r?0:parseFloat(o.borderBottomWidth),b=u+f,F=d+l,v=(r?0:parseFloat(o.borderLeftWidth))+m,W=g+w,y=r?0:t.offsetHeight-W-t.clientHeight,E=r?0:t.offsetWidth-v-t.clientWidth,R=b+v,z=F+W,M=r?t.width:parseFloat(o.width)-R-E,O=r?t.height:parseFloat(o.height)-z-y;if(n.has(t)){var k=n.get(t);if(k[0]===M&&k[1]===O)return}n.set(t,[M,O]);var S=Object.create(h.prototype);S.target=t,S.contentRect=new c(u,d,M,O),s.has(i)||(s.set(i,[]),p.add(i)),s.get(i).push(S)}))})),p.forEach((function(e){i.get(e).call(e,s.get(e),e)}))}return s.prototype.observe=function(i){if(i instanceof window.Element){r.has(i)||(r.set(i,new Set),o.add(i),a.set(i,window.getComputedStyle(i)));var n=r.get(i);n.has(this)||n.add(this),cancelAnimationFrame(t),t=requestAnimationFrame(d)}},s.prototype.unobserve=function(i){if(i instanceof window.Element&&r.has(i)){var n=r.get(i);n.has(this)&&(n.delete(this),n.size||(r.delete(i),o.delete(i))),n.size||r.delete(i),o.size||cancelAnimationFrame(t)}},A.DOMRectReadOnly=c,A.ResizeObserver=s,A.ResizeObserverEntry=h,A}; // eslint-disable-line\n",
       "mpl.toolbar_items = [[\"Home\", \"Reset original view\", \"fa fa-home\", \"home\"], [\"Back\", \"Back to previous view\", \"fa fa-arrow-left\", \"back\"], [\"Forward\", \"Forward to next view\", \"fa fa-arrow-right\", \"forward\"], [\"\", \"\", \"\", \"\"], [\"Pan\", \"Left button pans, Right button zooms\\nx/y fixes axis, CTRL fixes aspect\", \"fa fa-arrows\", \"pan\"], [\"Zoom\", \"Zoom to rectangle\\nx/y fixes axis\", \"fa fa-square-o\", \"zoom\"], [\"\", \"\", \"\", \"\"], [\"Download\", \"Download plot\", \"fa fa-floppy-o\", \"download\"]];\n",
       "\n",
       "mpl.extensions = [\"eps\", \"jpeg\", \"pgf\", \"pdf\", \"png\", \"ps\", \"raw\", \"svg\", \"tif\", \"webp\"];\n",
       "\n",
       "mpl.default_extension = \"png\";/* global mpl */\n",
       "\n",
       "var comm_websocket_adapter = function (comm) {\n",
       "    // Create a \"websocket\"-like object which calls the given IPython comm\n",
       "    // object with the appropriate methods. Currently this is a non binary\n",
       "    // socket, so there is still some room for performance tuning.\n",
       "    var ws = {};\n",
       "\n",
       "    ws.binaryType = comm.kernel.ws.binaryType;\n",
       "    ws.readyState = comm.kernel.ws.readyState;\n",
       "    function updateReadyState(_event) {\n",
       "        if (comm.kernel.ws) {\n",
       "            ws.readyState = comm.kernel.ws.readyState;\n",
       "        } else {\n",
       "            ws.readyState = 3; // Closed state.\n",
       "        }\n",
       "    }\n",
       "    comm.kernel.ws.addEventListener('open', updateReadyState);\n",
       "    comm.kernel.ws.addEventListener('close', updateReadyState);\n",
       "    comm.kernel.ws.addEventListener('error', updateReadyState);\n",
       "\n",
       "    ws.close = function () {\n",
       "        comm.close();\n",
       "    };\n",
       "    ws.send = function (m) {\n",
       "        //console.log('sending', m);\n",
       "        comm.send(m);\n",
       "    };\n",
       "    // Register the callback with on_msg.\n",
       "    comm.on_msg(function (msg) {\n",
       "        //console.log('receiving', msg['content']['data'], msg);\n",
       "        var data = msg['content']['data'];\n",
       "        if (data['blob'] !== undefined) {\n",
       "            data = {\n",
       "                data: new Blob(msg['buffers'], { type: data['blob'] }),\n",
       "            };\n",
       "        }\n",
       "        // Pass the mpl event to the overridden (by mpl) onmessage function.\n",
       "        ws.onmessage(data);\n",
       "    });\n",
       "    return ws;\n",
       "};\n",
       "\n",
       "mpl.mpl_figure_comm = function (comm, msg) {\n",
       "    // This is the function which gets called when the mpl process\n",
       "    // starts-up an IPython Comm through the \"matplotlib\" channel.\n",
       "\n",
       "    var id = msg.content.data.id;\n",
       "    // Get hold of the div created by the display call when the Comm\n",
       "    // socket was opened in Python.\n",
       "    var element = document.getElementById(id);\n",
       "    var ws_proxy = comm_websocket_adapter(comm);\n",
       "\n",
       "    function ondownload(figure, _format) {\n",
       "        window.open(figure.canvas.toDataURL());\n",
       "    }\n",
       "\n",
       "    var fig = new mpl.figure(id, ws_proxy, ondownload, element);\n",
       "\n",
       "    // Call onopen now - mpl needs it, as it is assuming we've passed it a real\n",
       "    // web socket which is closed, not our websocket->open comm proxy.\n",
       "    ws_proxy.onopen();\n",
       "\n",
       "    fig.parent_element = element;\n",
       "    fig.cell_info = mpl.find_output_cell(\"<div id='\" + id + \"'></div>\");\n",
       "    if (!fig.cell_info) {\n",
       "        console.error('Failed to find cell for figure', id, fig);\n",
       "        return;\n",
       "    }\n",
       "    fig.cell_info[0].output_area.element.on(\n",
       "        'cleared',\n",
       "        { fig: fig },\n",
       "        fig._remove_fig_handler\n",
       "    );\n",
       "};\n",
       "\n",
       "mpl.figure.prototype.handle_close = function (fig, msg) {\n",
       "    var width = fig.canvas.width / fig.ratio;\n",
       "    fig.cell_info[0].output_area.element.off(\n",
       "        'cleared',\n",
       "        fig._remove_fig_handler\n",
       "    );\n",
       "    fig.resizeObserverInstance.unobserve(fig.canvas_div);\n",
       "\n",
       "    // Update the output cell to use the data from the current canvas.\n",
       "    fig.push_to_output();\n",
       "    var dataURL = fig.canvas.toDataURL();\n",
       "    // Re-enable the keyboard manager in IPython - without this line, in FF,\n",
       "    // the notebook keyboard shortcuts fail.\n",
       "    IPython.keyboard_manager.enable();\n",
       "    fig.parent_element.innerHTML =\n",
       "        '<img src=\"' + dataURL + '\" width=\"' + width + '\">';\n",
       "    fig.close_ws(fig, msg);\n",
       "};\n",
       "\n",
       "mpl.figure.prototype.close_ws = function (fig, msg) {\n",
       "    fig.send_message('closing', msg);\n",
       "    // fig.ws.close()\n",
       "};\n",
       "\n",
       "mpl.figure.prototype.push_to_output = function (_remove_interactive) {\n",
       "    // Turn the data on the canvas into data in the output cell.\n",
       "    var width = this.canvas.width / this.ratio;\n",
       "    var dataURL = this.canvas.toDataURL();\n",
       "    this.cell_info[1]['text/html'] =\n",
       "        '<img src=\"' + dataURL + '\" width=\"' + width + '\">';\n",
       "};\n",
       "\n",
       "mpl.figure.prototype.updated_canvas_event = function () {\n",
       "    // Tell IPython that the notebook contents must change.\n",
       "    IPython.notebook.set_dirty(true);\n",
       "    this.send_message('ack', {});\n",
       "    var fig = this;\n",
       "    // Wait a second, then push the new image to the DOM so\n",
       "    // that it is saved nicely (might be nice to debounce this).\n",
       "    setTimeout(function () {\n",
       "        fig.push_to_output();\n",
       "    }, 1000);\n",
       "};\n",
       "\n",
       "mpl.figure.prototype._init_toolbar = function () {\n",
       "    var fig = this;\n",
       "\n",
       "    var toolbar = document.createElement('div');\n",
       "    toolbar.classList = 'btn-toolbar';\n",
       "    this.root.appendChild(toolbar);\n",
       "\n",
       "    function on_click_closure(name) {\n",
       "        return function (_event) {\n",
       "            return fig.toolbar_button_onclick(name);\n",
       "        };\n",
       "    }\n",
       "\n",
       "    function on_mouseover_closure(tooltip) {\n",
       "        return function (event) {\n",
       "            if (!event.currentTarget.disabled) {\n",
       "                return fig.toolbar_button_onmouseover(tooltip);\n",
       "            }\n",
       "        };\n",
       "    }\n",
       "\n",
       "    fig.buttons = {};\n",
       "    var buttonGroup = document.createElement('div');\n",
       "    buttonGroup.classList = 'btn-group';\n",
       "    var button;\n",
       "    for (var toolbar_ind in mpl.toolbar_items) {\n",
       "        var name = mpl.toolbar_items[toolbar_ind][0];\n",
       "        var tooltip = mpl.toolbar_items[toolbar_ind][1];\n",
       "        var image = mpl.toolbar_items[toolbar_ind][2];\n",
       "        var method_name = mpl.toolbar_items[toolbar_ind][3];\n",
       "\n",
       "        if (!name) {\n",
       "            /* Instead of a spacer, we start a new button group. */\n",
       "            if (buttonGroup.hasChildNodes()) {\n",
       "                toolbar.appendChild(buttonGroup);\n",
       "            }\n",
       "            buttonGroup = document.createElement('div');\n",
       "            buttonGroup.classList = 'btn-group';\n",
       "            continue;\n",
       "        }\n",
       "\n",
       "        button = fig.buttons[name] = document.createElement('button');\n",
       "        button.classList = 'btn btn-default';\n",
       "        button.href = '#';\n",
       "        button.title = name;\n",
       "        button.innerHTML = '<i class=\"fa ' + image + ' fa-lg\"></i>';\n",
       "        button.addEventListener('click', on_click_closure(method_name));\n",
       "        button.addEventListener('mouseover', on_mouseover_closure(tooltip));\n",
       "        buttonGroup.appendChild(button);\n",
       "    }\n",
       "\n",
       "    if (buttonGroup.hasChildNodes()) {\n",
       "        toolbar.appendChild(buttonGroup);\n",
       "    }\n",
       "\n",
       "    // Add the status bar.\n",
       "    var status_bar = document.createElement('span');\n",
       "    status_bar.classList = 'mpl-message pull-right';\n",
       "    toolbar.appendChild(status_bar);\n",
       "    this.message = status_bar;\n",
       "\n",
       "    // Add the close button to the window.\n",
       "    var buttongrp = document.createElement('div');\n",
       "    buttongrp.classList = 'btn-group inline pull-right';\n",
       "    button = document.createElement('button');\n",
       "    button.classList = 'btn btn-mini btn-primary';\n",
       "    button.href = '#';\n",
       "    button.title = 'Stop Interaction';\n",
       "    button.innerHTML = '<i class=\"fa fa-power-off icon-remove icon-large\"></i>';\n",
       "    button.addEventListener('click', function (_evt) {\n",
       "        fig.handle_close(fig, {});\n",
       "    });\n",
       "    button.addEventListener(\n",
       "        'mouseover',\n",
       "        on_mouseover_closure('Stop Interaction')\n",
       "    );\n",
       "    buttongrp.appendChild(button);\n",
       "    var titlebar = this.root.querySelector('.ui-dialog-titlebar');\n",
       "    titlebar.insertBefore(buttongrp, titlebar.firstChild);\n",
       "};\n",
       "\n",
       "mpl.figure.prototype._remove_fig_handler = function (event) {\n",
       "    var fig = event.data.fig;\n",
       "    if (event.target !== this) {\n",
       "        // Ignore bubbled events from children.\n",
       "        return;\n",
       "    }\n",
       "    fig.close_ws(fig, {});\n",
       "};\n",
       "\n",
       "mpl.figure.prototype._root_extra_style = function (el) {\n",
       "    el.style.boxSizing = 'content-box'; // override notebook setting of border-box.\n",
       "};\n",
       "\n",
       "mpl.figure.prototype._canvas_extra_style = function (el) {\n",
       "    // this is important to make the div 'focusable\n",
       "    el.setAttribute('tabindex', 0);\n",
       "    // reach out to IPython and tell the keyboard manager to turn it's self\n",
       "    // off when our div gets focus\n",
       "\n",
       "    // location in version 3\n",
       "    if (IPython.notebook.keyboard_manager) {\n",
       "        IPython.notebook.keyboard_manager.register_events(el);\n",
       "    } else {\n",
       "        // location in version 2\n",
       "        IPython.keyboard_manager.register_events(el);\n",
       "    }\n",
       "};\n",
       "\n",
       "mpl.figure.prototype._key_event_extra = function (event, _name) {\n",
       "    // Check for shift+enter\n",
       "    if (event.shiftKey && event.which === 13) {\n",
       "        this.canvas_div.blur();\n",
       "        // select the cell after this one\n",
       "        var index = IPython.notebook.find_cell_index(this.cell_info[0]);\n",
       "        IPython.notebook.select(index + 1);\n",
       "    }\n",
       "};\n",
       "\n",
       "mpl.figure.prototype.handle_save = function (fig, _msg) {\n",
       "    fig.ondownload(fig, null);\n",
       "};\n",
       "\n",
       "mpl.find_output_cell = function (html_output) {\n",
       "    // Return the cell and output element which can be found *uniquely* in the notebook.\n",
       "    // Note - this is a bit hacky, but it is done because the \"notebook_saving.Notebook\"\n",
       "    // IPython event is triggered only after the cells have been serialised, which for\n",
       "    // our purposes (turning an active figure into a static one), is too late.\n",
       "    var cells = IPython.notebook.get_cells();\n",
       "    var ncells = cells.length;\n",
       "    for (var i = 0; i < ncells; i++) {\n",
       "        var cell = cells[i];\n",
       "        if (cell.cell_type === 'code') {\n",
       "            for (var j = 0; j < cell.output_area.outputs.length; j++) {\n",
       "                var data = cell.output_area.outputs[j];\n",
       "                if (data.data) {\n",
       "                    // IPython >= 3 moved mimebundle to data attribute of output\n",
       "                    data = data.data;\n",
       "                }\n",
       "                if (data['text/html'] === html_output) {\n",
       "                    return [cell, data, j];\n",
       "                }\n",
       "            }\n",
       "        }\n",
       "    }\n",
       "};\n",
       "\n",
       "// Register the function which deals with the matplotlib target/channel.\n",
       "// The kernel may be null if the page has been refreshed.\n",
       "if (IPython.notebook.kernel !== null) {\n",
       "    IPython.notebook.kernel.comm_manager.register_target(\n",
       "        'matplotlib',\n",
       "        mpl.mpl_figure_comm\n",
       "    );\n",
       "}\n"
      ],
      "text/plain": [
       "<IPython.core.display.Javascript object>"
      ]
     },
     "metadata": {},
     "output_type": "display_data"
    },
    {
     "data": {
      "text/html": [
       "<img src=\"data:image/png;base64,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\" width=\"640\">"
      ],
      "text/plain": [
       "<IPython.core.display.HTML object>"
      ]
     },
     "metadata": {},
     "output_type": "display_data"
    }
   ],
   "source": [
    "fig, ax = plt.subplots()\n",
    "activated = y == 1\n",
    "ax.plot(X[activated,0], X[activated,1], 'o', \n",
    "        ms = 9, mew=2, mfc='None')\n",
    "ax.plot(X[~activated,0], X[~activated,1], '+', \n",
    "        ms=15, mew=2)\n",
    "ax.set_xlabel('X1', fontsize=15)\n",
    "ax.set_ylabel('X2', fontsize=15)\n",
    "fig.tight_layout()"
   ]
  },
  {
   "cell_type": "markdown",
   "id": "e2b610a9",
   "metadata": {
    "slideshow": {
     "slide_type": "slide"
    }
   },
   "source": [
    "How can we use a perceptron to classify this data? \n",
    "\n",
    "In this case we have two inputs, and thus two weights, plus the bias to determine whether the perceptron is activated (class = 1, the open circles in the previous plot).\n",
    "\n",
    "We also have 30 observations that we can use to train the algorithm."
   ]
  },
  {
   "cell_type": "markdown",
   "id": "fdd2c68e",
   "metadata": {
    "slideshow": {
     "slide_type": "slide"
    }
   },
   "source": [
    "For a perceptron, training means updating the weights to better reflect the training data. \n",
    "\n",
    "Here's the pseudo-code: \n",
    "  1. Apply the perceptron to one of the data points\n",
    "  2. Adjust the weights if the perceptron makes an incorrect classification\n",
    "  3. Repeat this procedure over all N datapoints\n",
    "  4. Repeat this procedure for M iterations"
   ]
  },
  {
   "cell_type": "markdown",
   "id": "cb883ae9",
   "metadata": {
    "slideshow": {
     "slide_type": "slide"
    }
   },
   "source": [
    "How do we adjust the weights? For every sample we evaluate the model error (is the classification correct or not). We then adjust the weight to reduce the error for the following prediction. "
   ]
  },
  {
   "cell_type": "markdown",
   "id": "b08e6ebe",
   "metadata": {
    "slideshow": {
     "slide_type": "slide"
    }
   },
   "source": [
    "For a perceptron, these updates can be calculated simply as: \n",
    "\n",
    "$$w_\\mathrm{updated} = w_\\mathrm{current} + \\eta\\,\\, (y_\\mathrm{true} - y_\\mathrm{pred})\\,\\, x,$$\n",
    "\n",
    "where $w_\\mathrm{updated}$ is the new value for the weight, $w_\\mathrm{current}$ is the current value for the weight, $\\eta$ is the called the *learning rate*, $x$ is the value of the input signal, and $(y_\\mathrm{true} - y_\\mathrm{pred})$ captures whether or not the classification was correct."
   ]
  },
  {
   "cell_type": "markdown",
   "id": "62f1484d",
   "metadata": {
    "slideshow": {
     "slide_type": "slide"
    }
   },
   "source": [
    "The learning rate is a small number that adjusts the weight in the direction of being more accurate. It is selected by the user, though familiar tricks like cross validation can be used to identify an optimal size. "
   ]
  },
  {
   "cell_type": "markdown",
   "id": "f9070049",
   "metadata": {
    "slideshow": {
     "slide_type": "slide"
    }
   },
   "source": [
    "To train the perceptron, we need to decide the total number of iterations $M$ to pass through the training data. These iterations are called *epochs*. Within each epoch, we update the weights and bias to improve our predictions on the generated data. "
   ]
  },
  {
   "cell_type": "markdown",
   "id": "9d890f6c",
   "metadata": {
    "slideshow": {
     "slide_type": "subslide"
    }
   },
   "source": [
    "Updating the bias is similar to updating the weights, but we exclude the value of the input $x$ as this does not affect the bias."
   ]
  },
  {
   "cell_type": "markdown",
   "id": "0b54dddb",
   "metadata": {
    "slideshow": {
     "slide_type": "slide"
    }
   },
   "source": [
    "**Problem 3a**\n",
    "\n",
    "Write a function `train_perceptron` that accepts as input `X`, `y`, `weights`, `bias`, `epochs`, and `learning rate`. The function should train the perceptron for $M$ epochs. During each epoch, the weights and bias should be updated using the equation given above while looping over every source in the training set. \n",
    "\n",
    "*Hint* – it is useful to track the number of misclassifications that occur during each epoch. \n",
    "\n",
    "*Hint 2* – for this problem we only care about training, but if you eventually wanted to classify data with the perceptron then you would need to extract the weights and bias from the function, or, even better, write the perceptron as a class object that be trained and also classify (similar to scikit-learn). "
   ]
  },
  {
   "cell_type": "code",
   "execution_count": 99,
   "id": "f901b3f6",
   "metadata": {},
   "outputs": [],
   "source": [
    "def perceptron(signals, weights, bias):\n",
    "    '''Generic perceptron function\n",
    "    \n",
    "    Parameters\n",
    "    ----------\n",
    "    signals : array-like\n",
    "        the input signals for the perceptron\n",
    "        \n",
    "    weights : array-like\n",
    "        the weight applied to each input\n",
    "        \n",
    "    bias : float\n",
    "        the value required for activation\n",
    "        \n",
    "    Returns\n",
    "    -------\n",
    "    activated : bool\n",
    "        whether or not the perceptron is activated\n",
    "    '''\n",
    "    \n",
    "    if np.dot(signals, weights) + bias > 0:\n",
    "        activated = 1\n",
    "    else:\n",
    "        activated = 0\n",
    "        \n",
    "    return activated"
   ]
  },
  {
   "cell_type": "code",
   "execution_count": 150,
   "id": "e489040a",
   "metadata": {},
   "outputs": [],
   "source": [
    "def train_perceptron(X, y, weights, bias, epochs, learning_rate):\n",
    "    '''Train a perceptron to classify binary labels via numerical features\n",
    "    \n",
    "    Parameters\n",
    "    ----------\n",
    "    X : array-like\n",
    "        Feature array for the data, in the style of scikit-learn\n",
    "    y : array-like, type = bool\n",
    "        Label array for the data\n",
    "    weights : array-like\n",
    "        Weights for the input signals to the perceptron\n",
    "    bias : array-like\n",
    "        Bias value for the perceptron\n",
    "    epochs : int\n",
    "        Number of instances for training the perceptron\n",
    "    learning_rate : float\n",
    "        Relative step size for tuning the weights and bias\n",
    "        \n",
    "    Returns\n",
    "    ---------\n",
    "    weights_final, bias_final\n",
    "    '''\n",
    "    for epoch in range(epochs):\n",
    "        misclassification_count = 0  # To keep track of misclassified samples\n",
    "        \n",
    "        for i in range(len(X)):\n",
    "            # Compute the output of the perceptron\n",
    "            activated = perceptron(X[i], weights, bias)\n",
    "            \n",
    "            # Update the weights and bias based on the error\n",
    "            error = y[i] - activated\n",
    "            weights += learning_rate * error * X[i]\n",
    "            bias += learning_rate * error\n",
    "            \n",
    "            # Check for misclassification\n",
    "            if error != 0:\n",
    "                misclassification_count += 1\n",
    "        \n",
    "        # Calculate and print the misclassification rate for the epoch\n",
    "        misclassification_rate = misclassification_count / len(X)\n",
    "        print(f'Epoch {epoch+1}: Misclassification Rate = {100*(1-misclassification_rate):.4f}')\n",
    "    \n",
    "    return weights, bias"
   ]
  },
  {
   "cell_type": "markdown",
   "id": "88e3ba8a",
   "metadata": {
    "slideshow": {
     "slide_type": "slide"
    }
   },
   "source": [
    "**Problem 3b**\n",
    "\n",
    "Train the perceptron. Use weights of [.1, 1], a bias of 0, train for 20 epochs, with a learning rate $\\eta = 0.005$. \n",
    "\n",
    "*Note* – as we will see below the perceptron is highly sensitive to the initial guess for weights and biases.  "
   ]
  },
  {
   "cell_type": "code",
   "execution_count": 151,
   "id": "8d8ebbe0",
   "metadata": {
    "slideshow": {
     "slide_type": "slide"
    }
   },
   "outputs": [
    {
     "name": "stdout",
     "output_type": "stream",
     "text": [
      "Epoch 1: Misclassification Rate = 53.3333\n",
      "Epoch 2: Misclassification Rate = 53.3333\n",
      "Epoch 3: Misclassification Rate = 56.6667\n",
      "Epoch 4: Misclassification Rate = 46.6667\n",
      "Epoch 5: Misclassification Rate = 43.3333\n",
      "Epoch 6: Misclassification Rate = 46.6667\n",
      "Epoch 7: Misclassification Rate = 46.6667\n",
      "Epoch 8: Misclassification Rate = 60.0000\n",
      "Epoch 9: Misclassification Rate = 63.3333\n",
      "Epoch 10: Misclassification Rate = 70.0000\n",
      "Epoch 11: Misclassification Rate = 70.0000\n",
      "Epoch 12: Misclassification Rate = 80.0000\n",
      "Epoch 13: Misclassification Rate = 76.6667\n",
      "Epoch 14: Misclassification Rate = 90.0000\n",
      "Epoch 15: Misclassification Rate = 90.0000\n",
      "Epoch 16: Misclassification Rate = 93.3333\n",
      "Epoch 17: Misclassification Rate = 86.6667\n",
      "Epoch 18: Misclassification Rate = 90.0000\n",
      "Epoch 19: Misclassification Rate = 93.3333\n",
      "Epoch 20: Misclassification Rate = 93.3333\n"
     ]
    },
    {
     "data": {
      "text/plain": [
       "(array([0.07907015, 0.03681941]), -0.39500000000000024)"
      ]
     },
     "execution_count": 151,
     "metadata": {},
     "output_type": "execute_result"
    }
   ],
   "source": [
    "train_perceptron(X, y, [.1, 1], 0, 20, 0.005)"
   ]
  },
  {
   "cell_type": "markdown",
   "id": "fe60c0ee",
   "metadata": {
    "slideshow": {
     "slide_type": "slide"
    }
   },
   "source": [
    "We see that the accuracy slowly improves over the course of the 20 epochs. \n",
    "\n",
    "In other words, the machine... IT IS LEARNING."
   ]
  },
  {
   "cell_type": "markdown",
   "id": "2264fef8",
   "metadata": {
    "slideshow": {
     "slide_type": "slide"
    }
   },
   "source": [
    "**Problem 3c**\n",
    "\n",
    "Adjust the weights, or bias, or number of epochs, or learning rate, or all of them, to see how the changes affect the output of the perceptron. \n",
    "\n",
    "What do you notice as these changes are made?\n",
    "- you get very different answers"
   ]
  },
  {
   "cell_type": "code",
   "execution_count": 154,
   "id": "8d2da17f",
   "metadata": {
    "slideshow": {
     "slide_type": "slide"
    }
   },
   "outputs": [
    {
     "name": "stdout",
     "output_type": "stream",
     "text": [
      "Epoch 1: Misclassification Rate = 50.0000\n",
      "Epoch 2: Misclassification Rate = 70.0000\n",
      "Epoch 3: Misclassification Rate = 70.0000\n",
      "Epoch 4: Misclassification Rate = 73.3333\n",
      "Epoch 5: Misclassification Rate = 73.3333\n",
      "Epoch 6: Misclassification Rate = 73.3333\n",
      "Epoch 7: Misclassification Rate = 76.6667\n",
      "Epoch 8: Misclassification Rate = 76.6667\n",
      "Epoch 9: Misclassification Rate = 80.0000\n",
      "Epoch 10: Misclassification Rate = 80.0000\n",
      "Epoch 11: Misclassification Rate = 83.3333\n",
      "Epoch 12: Misclassification Rate = 86.6667\n",
      "Epoch 13: Misclassification Rate = 86.6667\n",
      "Epoch 14: Misclassification Rate = 86.6667\n",
      "Epoch 15: Misclassification Rate = 86.6667\n",
      "Epoch 16: Misclassification Rate = 86.6667\n",
      "Epoch 17: Misclassification Rate = 90.0000\n",
      "Epoch 18: Misclassification Rate = 90.0000\n",
      "Epoch 19: Misclassification Rate = 86.6667\n",
      "Epoch 20: Misclassification Rate = 90.0000\n",
      "Epoch 21: Misclassification Rate = 86.6667\n",
      "Epoch 22: Misclassification Rate = 90.0000\n",
      "Epoch 23: Misclassification Rate = 90.0000\n",
      "Epoch 24: Misclassification Rate = 90.0000\n",
      "Epoch 25: Misclassification Rate = 86.6667\n",
      "Epoch 26: Misclassification Rate = 90.0000\n",
      "Epoch 27: Misclassification Rate = 86.6667\n",
      "Epoch 28: Misclassification Rate = 90.0000\n",
      "Epoch 29: Misclassification Rate = 86.6667\n",
      "Epoch 30: Misclassification Rate = 86.6667\n"
     ]
    },
    {
     "data": {
      "text/plain": [
       "(array([0.86675631, 0.30412349]), -4.200000000000001)"
      ]
     },
     "execution_count": 154,
     "metadata": {},
     "output_type": "execute_result"
    }
   ],
   "source": [
    "train_perceptron(X, y, [10, 1], 0, 30, .1)"
   ]
  },
  {
   "cell_type": "markdown",
   "id": "6dc895e1",
   "metadata": {
    "slideshow": {
     "slide_type": "slide"
    }
   },
   "source": [
    "*write answer here*\n",
    "\n",
    "It is possible to build a perceptron that gets worse at classification. This can happen if the learning rate is extremely large, essentially flipping on or off the activation for every source during each epoch. \n",
    "\n",
    "It is also possible to build a perceptron that effectively never learns anything if the initial weights are extremely far from the optimal solution. The weights effectively define a line (or hyperplane in more than two dimensions) to separate the classes. If the line is very distant from the data itself, then the weights cannot be easily updated to improve the classification. "
   ]
  },
  {
   "cell_type": "markdown",
   "id": "856ddcca",
   "metadata": {
    "slideshow": {
     "slide_type": "slide"
    }
   },
   "source": [
    "You have now built a perceptron. You have also seen it's limitations."
   ]
  },
  {
   "cell_type": "markdown",
   "id": "2d1ca1c3",
   "metadata": {
    "slideshow": {
     "slide_type": "slide"
    }
   },
   "source": [
    "The strength of machine learning solutions lies in their ability to identify and capture non-linear structure within data. \n",
    "\n",
    "But the perceptron is almost too non-linear. For inputs that are close to the activation boundary, very small changes in the weights can rapidly lead to an extreme difference in outcome. "
   ]
  },
  {
   "cell_type": "markdown",
   "id": "9beb1bda",
   "metadata": {
    "slideshow": {
     "slide_type": "slide"
    }
   },
   "source": [
    "It would be better if our adjustments led to more gradual changes, so that, if possible, the quality of the model improved during each epoch of the classifier. This can be achieved with a different model for our artificial neuron."
   ]
  },
  {
   "cell_type": "markdown",
   "id": "7252b747",
   "metadata": {
    "slideshow": {
     "slide_type": "slide"
    }
   },
   "source": [
    "Consider, for instance, a neuron that is activated via the sigmoid function:\n",
    "\n",
    "$$\\sigma(z) \\equiv \\frac{1}{1 + e^{-z}}$$\n",
    "\n",
    "where $z$ is the previously defined activation for a neuron: $w \\cdot x - b$"
   ]
  },
  {
   "cell_type": "markdown",
   "id": "12cd9a7e",
   "metadata": {
    "slideshow": {
     "slide_type": "slide"
    }
   },
   "source": [
    "We can visually show the difference between the perceptron and sigmoid neurons.  "
   ]
  },
  {
   "cell_type": "code",
   "execution_count": 155,
   "id": "b08006a5",
   "metadata": {
    "slideshow": {
     "slide_type": "slide"
    }
   },
   "outputs": [
    {
     "data": {
      "application/javascript": [
       "/* Put everything inside the global mpl namespace */\n",
       "/* global mpl */\n",
       "window.mpl = {};\n",
       "\n",
       "mpl.get_websocket_type = function () {\n",
       "    if (typeof WebSocket !== 'undefined') {\n",
       "        return WebSocket;\n",
       "    } else if (typeof MozWebSocket !== 'undefined') {\n",
       "        return MozWebSocket;\n",
       "    } else {\n",
       "        alert(\n",
       "            'Your browser does not have WebSocket support. ' +\n",
       "                'Please try Chrome, Safari or Firefox ≥ 6. ' +\n",
       "                'Firefox 4 and 5 are also supported but you ' +\n",
       "                'have to enable WebSockets in about:config.'\n",
       "        );\n",
       "    }\n",
       "};\n",
       "\n",
       "mpl.figure = function (figure_id, websocket, ondownload, parent_element) {\n",
       "    this.id = figure_id;\n",
       "\n",
       "    this.ws = websocket;\n",
       "\n",
       "    this.supports_binary = this.ws.binaryType !== undefined;\n",
       "\n",
       "    if (!this.supports_binary) {\n",
       "        var warnings = document.getElementById('mpl-warnings');\n",
       "        if (warnings) {\n",
       "            warnings.style.display = 'block';\n",
       "            warnings.textContent =\n",
       "                'This browser does not support binary websocket messages. ' +\n",
       "                'Performance may be slow.';\n",
       "        }\n",
       "    }\n",
       "\n",
       "    this.imageObj = new Image();\n",
       "\n",
       "    this.context = undefined;\n",
       "    this.message = undefined;\n",
       "    this.canvas = undefined;\n",
       "    this.rubberband_canvas = undefined;\n",
       "    this.rubberband_context = undefined;\n",
       "    this.format_dropdown = undefined;\n",
       "\n",
       "    this.image_mode = 'full';\n",
       "\n",
       "    this.root = document.createElement('div');\n",
       "    this.root.setAttribute('style', 'display: inline-block');\n",
       "    this._root_extra_style(this.root);\n",
       "\n",
       "    parent_element.appendChild(this.root);\n",
       "\n",
       "    this._init_header(this);\n",
       "    this._init_canvas(this);\n",
       "    this._init_toolbar(this);\n",
       "\n",
       "    var fig = this;\n",
       "\n",
       "    this.waiting = false;\n",
       "\n",
       "    this.ws.onopen = function () {\n",
       "        fig.send_message('supports_binary', { value: fig.supports_binary });\n",
       "        fig.send_message('send_image_mode', {});\n",
       "        if (fig.ratio !== 1) {\n",
       "            fig.send_message('set_device_pixel_ratio', {\n",
       "                device_pixel_ratio: fig.ratio,\n",
       "            });\n",
       "        }\n",
       "        fig.send_message('refresh', {});\n",
       "    };\n",
       "\n",
       "    this.imageObj.onload = function () {\n",
       "        if (fig.image_mode === 'full') {\n",
       "            // Full images could contain transparency (where diff images\n",
       "            // almost always do), so we need to clear the canvas so that\n",
       "            // there is no ghosting.\n",
       "            fig.context.clearRect(0, 0, fig.canvas.width, fig.canvas.height);\n",
       "        }\n",
       "        fig.context.drawImage(fig.imageObj, 0, 0);\n",
       "    };\n",
       "\n",
       "    this.imageObj.onunload = function () {\n",
       "        fig.ws.close();\n",
       "    };\n",
       "\n",
       "    this.ws.onmessage = this._make_on_message_function(this);\n",
       "\n",
       "    this.ondownload = ondownload;\n",
       "};\n",
       "\n",
       "mpl.figure.prototype._init_header = function () {\n",
       "    var titlebar = document.createElement('div');\n",
       "    titlebar.classList =\n",
       "        'ui-dialog-titlebar ui-widget-header ui-corner-all ui-helper-clearfix';\n",
       "    var titletext = document.createElement('div');\n",
       "    titletext.classList = 'ui-dialog-title';\n",
       "    titletext.setAttribute(\n",
       "        'style',\n",
       "        'width: 100%; text-align: center; padding: 3px;'\n",
       "    );\n",
       "    titlebar.appendChild(titletext);\n",
       "    this.root.appendChild(titlebar);\n",
       "    this.header = titletext;\n",
       "};\n",
       "\n",
       "mpl.figure.prototype._canvas_extra_style = function (_canvas_div) {};\n",
       "\n",
       "mpl.figure.prototype._root_extra_style = function (_canvas_div) {};\n",
       "\n",
       "mpl.figure.prototype._init_canvas = function () {\n",
       "    var fig = this;\n",
       "\n",
       "    var canvas_div = (this.canvas_div = document.createElement('div'));\n",
       "    canvas_div.setAttribute('tabindex', '0');\n",
       "    canvas_div.setAttribute(\n",
       "        'style',\n",
       "        'border: 1px solid #ddd;' +\n",
       "            'box-sizing: content-box;' +\n",
       "            'clear: both;' +\n",
       "            'min-height: 1px;' +\n",
       "            'min-width: 1px;' +\n",
       "            'outline: 0;' +\n",
       "            'overflow: hidden;' +\n",
       "            'position: relative;' +\n",
       "            'resize: both;' +\n",
       "            'z-index: 2;'\n",
       "    );\n",
       "\n",
       "    function on_keyboard_event_closure(name) {\n",
       "        return function (event) {\n",
       "            return fig.key_event(event, name);\n",
       "        };\n",
       "    }\n",
       "\n",
       "    canvas_div.addEventListener(\n",
       "        'keydown',\n",
       "        on_keyboard_event_closure('key_press')\n",
       "    );\n",
       "    canvas_div.addEventListener(\n",
       "        'keyup',\n",
       "        on_keyboard_event_closure('key_release')\n",
       "    );\n",
       "\n",
       "    this._canvas_extra_style(canvas_div);\n",
       "    this.root.appendChild(canvas_div);\n",
       "\n",
       "    var canvas = (this.canvas = document.createElement('canvas'));\n",
       "    canvas.classList.add('mpl-canvas');\n",
       "    canvas.setAttribute(\n",
       "        'style',\n",
       "        'box-sizing: content-box;' +\n",
       "            'pointer-events: none;' +\n",
       "            'position: relative;' +\n",
       "            'z-index: 0;'\n",
       "    );\n",
       "\n",
       "    this.context = canvas.getContext('2d');\n",
       "\n",
       "    var backingStore =\n",
       "        this.context.backingStorePixelRatio ||\n",
       "        this.context.webkitBackingStorePixelRatio ||\n",
       "        this.context.mozBackingStorePixelRatio ||\n",
       "        this.context.msBackingStorePixelRatio ||\n",
       "        this.context.oBackingStorePixelRatio ||\n",
       "        this.context.backingStorePixelRatio ||\n",
       "        1;\n",
       "\n",
       "    this.ratio = (window.devicePixelRatio || 1) / backingStore;\n",
       "\n",
       "    var rubberband_canvas = (this.rubberband_canvas = document.createElement(\n",
       "        'canvas'\n",
       "    ));\n",
       "    rubberband_canvas.setAttribute(\n",
       "        'style',\n",
       "        'box-sizing: content-box;' +\n",
       "            'left: 0;' +\n",
       "            'pointer-events: none;' +\n",
       "            'position: absolute;' +\n",
       "            'top: 0;' +\n",
       "            'z-index: 1;'\n",
       "    );\n",
       "\n",
       "    // Apply a ponyfill if ResizeObserver is not implemented by browser.\n",
       "    if (this.ResizeObserver === undefined) {\n",
       "        if (window.ResizeObserver !== undefined) {\n",
       "            this.ResizeObserver = window.ResizeObserver;\n",
       "        } else {\n",
       "            var obs = _JSXTOOLS_RESIZE_OBSERVER({});\n",
       "            this.ResizeObserver = obs.ResizeObserver;\n",
       "        }\n",
       "    }\n",
       "\n",
       "    this.resizeObserverInstance = new this.ResizeObserver(function (entries) {\n",
       "        var nentries = entries.length;\n",
       "        for (var i = 0; i < nentries; i++) {\n",
       "            var entry = entries[i];\n",
       "            var width, height;\n",
       "            if (entry.contentBoxSize) {\n",
       "                if (entry.contentBoxSize instanceof Array) {\n",
       "                    // Chrome 84 implements new version of spec.\n",
       "                    width = entry.contentBoxSize[0].inlineSize;\n",
       "                    height = entry.contentBoxSize[0].blockSize;\n",
       "                } else {\n",
       "                    // Firefox implements old version of spec.\n",
       "                    width = entry.contentBoxSize.inlineSize;\n",
       "                    height = entry.contentBoxSize.blockSize;\n",
       "                }\n",
       "            } else {\n",
       "                // Chrome <84 implements even older version of spec.\n",
       "                width = entry.contentRect.width;\n",
       "                height = entry.contentRect.height;\n",
       "            }\n",
       "\n",
       "            // Keep the size of the canvas and rubber band canvas in sync with\n",
       "            // the canvas container.\n",
       "            if (entry.devicePixelContentBoxSize) {\n",
       "                // Chrome 84 implements new version of spec.\n",
       "                canvas.setAttribute(\n",
       "                    'width',\n",
       "                    entry.devicePixelContentBoxSize[0].inlineSize\n",
       "                );\n",
       "                canvas.setAttribute(\n",
       "                    'height',\n",
       "                    entry.devicePixelContentBoxSize[0].blockSize\n",
       "                );\n",
       "            } else {\n",
       "                canvas.setAttribute('width', width * fig.ratio);\n",
       "                canvas.setAttribute('height', height * fig.ratio);\n",
       "            }\n",
       "            /* This rescales the canvas back to display pixels, so that it\n",
       "             * appears correct on HiDPI screens. */\n",
       "            canvas.style.width = width + 'px';\n",
       "            canvas.style.height = height + 'px';\n",
       "\n",
       "            rubberband_canvas.setAttribute('width', width);\n",
       "            rubberband_canvas.setAttribute('height', height);\n",
       "\n",
       "            // And update the size in Python. We ignore the initial 0/0 size\n",
       "            // that occurs as the element is placed into the DOM, which should\n",
       "            // otherwise not happen due to the minimum size styling.\n",
       "            if (fig.ws.readyState == 1 && width != 0 && height != 0) {\n",
       "                fig.request_resize(width, height);\n",
       "            }\n",
       "        }\n",
       "    });\n",
       "    this.resizeObserverInstance.observe(canvas_div);\n",
       "\n",
       "    function on_mouse_event_closure(name) {\n",
       "        /* User Agent sniffing is bad, but WebKit is busted:\n",
       "         * https://bugs.webkit.org/show_bug.cgi?id=144526\n",
       "         * https://bugs.webkit.org/show_bug.cgi?id=181818\n",
       "         * The worst that happens here is that they get an extra browser\n",
       "         * selection when dragging, if this check fails to catch them.\n",
       "         */\n",
       "        var UA = navigator.userAgent;\n",
       "        var isWebKit = /AppleWebKit/.test(UA) && !/Chrome/.test(UA);\n",
       "        if(isWebKit) {\n",
       "            return function (event) {\n",
       "                /* This prevents the web browser from automatically changing to\n",
       "                 * the text insertion cursor when the button is pressed. We\n",
       "                 * want to control all of the cursor setting manually through\n",
       "                 * the 'cursor' event from matplotlib */\n",
       "                event.preventDefault()\n",
       "                return fig.mouse_event(event, name);\n",
       "            };\n",
       "        } else {\n",
       "            return function (event) {\n",
       "                return fig.mouse_event(event, name);\n",
       "            };\n",
       "        }\n",
       "    }\n",
       "\n",
       "    canvas_div.addEventListener(\n",
       "        'mousedown',\n",
       "        on_mouse_event_closure('button_press')\n",
       "    );\n",
       "    canvas_div.addEventListener(\n",
       "        'mouseup',\n",
       "        on_mouse_event_closure('button_release')\n",
       "    );\n",
       "    canvas_div.addEventListener(\n",
       "        'dblclick',\n",
       "        on_mouse_event_closure('dblclick')\n",
       "    );\n",
       "    // Throttle sequential mouse events to 1 every 20ms.\n",
       "    canvas_div.addEventListener(\n",
       "        'mousemove',\n",
       "        on_mouse_event_closure('motion_notify')\n",
       "    );\n",
       "\n",
       "    canvas_div.addEventListener(\n",
       "        'mouseenter',\n",
       "        on_mouse_event_closure('figure_enter')\n",
       "    );\n",
       "    canvas_div.addEventListener(\n",
       "        'mouseleave',\n",
       "        on_mouse_event_closure('figure_leave')\n",
       "    );\n",
       "\n",
       "    canvas_div.addEventListener('wheel', function (event) {\n",
       "        if (event.deltaY < 0) {\n",
       "            event.step = 1;\n",
       "        } else {\n",
       "            event.step = -1;\n",
       "        }\n",
       "        on_mouse_event_closure('scroll')(event);\n",
       "    });\n",
       "\n",
       "    canvas_div.appendChild(canvas);\n",
       "    canvas_div.appendChild(rubberband_canvas);\n",
       "\n",
       "    this.rubberband_context = rubberband_canvas.getContext('2d');\n",
       "    this.rubberband_context.strokeStyle = '#000000';\n",
       "\n",
       "    this._resize_canvas = function (width, height, forward) {\n",
       "        if (forward) {\n",
       "            canvas_div.style.width = width + 'px';\n",
       "            canvas_div.style.height = height + 'px';\n",
       "        }\n",
       "    };\n",
       "\n",
       "    // Disable right mouse context menu.\n",
       "    canvas_div.addEventListener('contextmenu', function (_e) {\n",
       "        event.preventDefault();\n",
       "        return false;\n",
       "    });\n",
       "\n",
       "    function set_focus() {\n",
       "        canvas.focus();\n",
       "        canvas_div.focus();\n",
       "    }\n",
       "\n",
       "    window.setTimeout(set_focus, 100);\n",
       "};\n",
       "\n",
       "mpl.figure.prototype._init_toolbar = function () {\n",
       "    var fig = this;\n",
       "\n",
       "    var toolbar = document.createElement('div');\n",
       "    toolbar.classList = 'mpl-toolbar';\n",
       "    this.root.appendChild(toolbar);\n",
       "\n",
       "    function on_click_closure(name) {\n",
       "        return function (_event) {\n",
       "            return fig.toolbar_button_onclick(name);\n",
       "        };\n",
       "    }\n",
       "\n",
       "    function on_mouseover_closure(tooltip) {\n",
       "        return function (event) {\n",
       "            if (!event.currentTarget.disabled) {\n",
       "                return fig.toolbar_button_onmouseover(tooltip);\n",
       "            }\n",
       "        };\n",
       "    }\n",
       "\n",
       "    fig.buttons = {};\n",
       "    var buttonGroup = document.createElement('div');\n",
       "    buttonGroup.classList = 'mpl-button-group';\n",
       "    for (var toolbar_ind in mpl.toolbar_items) {\n",
       "        var name = mpl.toolbar_items[toolbar_ind][0];\n",
       "        var tooltip = mpl.toolbar_items[toolbar_ind][1];\n",
       "        var image = mpl.toolbar_items[toolbar_ind][2];\n",
       "        var method_name = mpl.toolbar_items[toolbar_ind][3];\n",
       "\n",
       "        if (!name) {\n",
       "            /* Instead of a spacer, we start a new button group. */\n",
       "            if (buttonGroup.hasChildNodes()) {\n",
       "                toolbar.appendChild(buttonGroup);\n",
       "            }\n",
       "            buttonGroup = document.createElement('div');\n",
       "            buttonGroup.classList = 'mpl-button-group';\n",
       "            continue;\n",
       "        }\n",
       "\n",
       "        var button = (fig.buttons[name] = document.createElement('button'));\n",
       "        button.classList = 'mpl-widget';\n",
       "        button.setAttribute('role', 'button');\n",
       "        button.setAttribute('aria-disabled', 'false');\n",
       "        button.addEventListener('click', on_click_closure(method_name));\n",
       "        button.addEventListener('mouseover', on_mouseover_closure(tooltip));\n",
       "\n",
       "        var icon_img = document.createElement('img');\n",
       "        icon_img.src = '_images/' + image + '.png';\n",
       "        icon_img.srcset = '_images/' + image + '_large.png 2x';\n",
       "        icon_img.alt = tooltip;\n",
       "        button.appendChild(icon_img);\n",
       "\n",
       "        buttonGroup.appendChild(button);\n",
       "    }\n",
       "\n",
       "    if (buttonGroup.hasChildNodes()) {\n",
       "        toolbar.appendChild(buttonGroup);\n",
       "    }\n",
       "\n",
       "    var fmt_picker = document.createElement('select');\n",
       "    fmt_picker.classList = 'mpl-widget';\n",
       "    toolbar.appendChild(fmt_picker);\n",
       "    this.format_dropdown = fmt_picker;\n",
       "\n",
       "    for (var ind in mpl.extensions) {\n",
       "        var fmt = mpl.extensions[ind];\n",
       "        var option = document.createElement('option');\n",
       "        option.selected = fmt === mpl.default_extension;\n",
       "        option.innerHTML = fmt;\n",
       "        fmt_picker.appendChild(option);\n",
       "    }\n",
       "\n",
       "    var status_bar = document.createElement('span');\n",
       "    status_bar.classList = 'mpl-message';\n",
       "    toolbar.appendChild(status_bar);\n",
       "    this.message = status_bar;\n",
       "};\n",
       "\n",
       "mpl.figure.prototype.request_resize = function (x_pixels, y_pixels) {\n",
       "    // Request matplotlib to resize the figure. Matplotlib will then trigger a resize in the client,\n",
       "    // which will in turn request a refresh of the image.\n",
       "    this.send_message('resize', { width: x_pixels, height: y_pixels });\n",
       "};\n",
       "\n",
       "mpl.figure.prototype.send_message = function (type, properties) {\n",
       "    properties['type'] = type;\n",
       "    properties['figure_id'] = this.id;\n",
       "    this.ws.send(JSON.stringify(properties));\n",
       "};\n",
       "\n",
       "mpl.figure.prototype.send_draw_message = function () {\n",
       "    if (!this.waiting) {\n",
       "        this.waiting = true;\n",
       "        this.ws.send(JSON.stringify({ type: 'draw', figure_id: this.id }));\n",
       "    }\n",
       "};\n",
       "\n",
       "mpl.figure.prototype.handle_save = function (fig, _msg) {\n",
       "    var format_dropdown = fig.format_dropdown;\n",
       "    var format = format_dropdown.options[format_dropdown.selectedIndex].value;\n",
       "    fig.ondownload(fig, format);\n",
       "};\n",
       "\n",
       "mpl.figure.prototype.handle_resize = function (fig, msg) {\n",
       "    var size = msg['size'];\n",
       "    if (size[0] !== fig.canvas.width || size[1] !== fig.canvas.height) {\n",
       "        fig._resize_canvas(size[0], size[1], msg['forward']);\n",
       "        fig.send_message('refresh', {});\n",
       "    }\n",
       "};\n",
       "\n",
       "mpl.figure.prototype.handle_rubberband = function (fig, msg) {\n",
       "    var x0 = msg['x0'] / fig.ratio;\n",
       "    var y0 = (fig.canvas.height - msg['y0']) / fig.ratio;\n",
       "    var x1 = msg['x1'] / fig.ratio;\n",
       "    var y1 = (fig.canvas.height - msg['y1']) / fig.ratio;\n",
       "    x0 = Math.floor(x0) + 0.5;\n",
       "    y0 = Math.floor(y0) + 0.5;\n",
       "    x1 = Math.floor(x1) + 0.5;\n",
       "    y1 = Math.floor(y1) + 0.5;\n",
       "    var min_x = Math.min(x0, x1);\n",
       "    var min_y = Math.min(y0, y1);\n",
       "    var width = Math.abs(x1 - x0);\n",
       "    var height = Math.abs(y1 - y0);\n",
       "\n",
       "    fig.rubberband_context.clearRect(\n",
       "        0,\n",
       "        0,\n",
       "        fig.canvas.width / fig.ratio,\n",
       "        fig.canvas.height / fig.ratio\n",
       "    );\n",
       "\n",
       "    fig.rubberband_context.strokeRect(min_x, min_y, width, height);\n",
       "};\n",
       "\n",
       "mpl.figure.prototype.handle_figure_label = function (fig, msg) {\n",
       "    // Updates the figure title.\n",
       "    fig.header.textContent = msg['label'];\n",
       "};\n",
       "\n",
       "mpl.figure.prototype.handle_cursor = function (fig, msg) {\n",
       "    fig.canvas_div.style.cursor = msg['cursor'];\n",
       "};\n",
       "\n",
       "mpl.figure.prototype.handle_message = function (fig, msg) {\n",
       "    fig.message.textContent = msg['message'];\n",
       "};\n",
       "\n",
       "mpl.figure.prototype.handle_draw = function (fig, _msg) {\n",
       "    // Request the server to send over a new figure.\n",
       "    fig.send_draw_message();\n",
       "};\n",
       "\n",
       "mpl.figure.prototype.handle_image_mode = function (fig, msg) {\n",
       "    fig.image_mode = msg['mode'];\n",
       "};\n",
       "\n",
       "mpl.figure.prototype.handle_history_buttons = function (fig, msg) {\n",
       "    for (var key in msg) {\n",
       "        if (!(key in fig.buttons)) {\n",
       "            continue;\n",
       "        }\n",
       "        fig.buttons[key].disabled = !msg[key];\n",
       "        fig.buttons[key].setAttribute('aria-disabled', !msg[key]);\n",
       "    }\n",
       "};\n",
       "\n",
       "mpl.figure.prototype.handle_navigate_mode = function (fig, msg) {\n",
       "    if (msg['mode'] === 'PAN') {\n",
       "        fig.buttons['Pan'].classList.add('active');\n",
       "        fig.buttons['Zoom'].classList.remove('active');\n",
       "    } else if (msg['mode'] === 'ZOOM') {\n",
       "        fig.buttons['Pan'].classList.remove('active');\n",
       "        fig.buttons['Zoom'].classList.add('active');\n",
       "    } else {\n",
       "        fig.buttons['Pan'].classList.remove('active');\n",
       "        fig.buttons['Zoom'].classList.remove('active');\n",
       "    }\n",
       "};\n",
       "\n",
       "mpl.figure.prototype.updated_canvas_event = function () {\n",
       "    // Called whenever the canvas gets updated.\n",
       "    this.send_message('ack', {});\n",
       "};\n",
       "\n",
       "// A function to construct a web socket function for onmessage handling.\n",
       "// Called in the figure constructor.\n",
       "mpl.figure.prototype._make_on_message_function = function (fig) {\n",
       "    return function socket_on_message(evt) {\n",
       "        if (evt.data instanceof Blob) {\n",
       "            var img = evt.data;\n",
       "            if (img.type !== 'image/png') {\n",
       "                /* FIXME: We get \"Resource interpreted as Image but\n",
       "                 * transferred with MIME type text/plain:\" errors on\n",
       "                 * Chrome.  But how to set the MIME type?  It doesn't seem\n",
       "                 * to be part of the websocket stream */\n",
       "                img.type = 'image/png';\n",
       "            }\n",
       "\n",
       "            /* Free the memory for the previous frames */\n",
       "            if (fig.imageObj.src) {\n",
       "                (window.URL || window.webkitURL).revokeObjectURL(\n",
       "                    fig.imageObj.src\n",
       "                );\n",
       "            }\n",
       "\n",
       "            fig.imageObj.src = (window.URL || window.webkitURL).createObjectURL(\n",
       "                img\n",
       "            );\n",
       "            fig.updated_canvas_event();\n",
       "            fig.waiting = false;\n",
       "            return;\n",
       "        } else if (\n",
       "            typeof evt.data === 'string' &&\n",
       "            evt.data.slice(0, 21) === 'data:image/png;base64'\n",
       "        ) {\n",
       "            fig.imageObj.src = evt.data;\n",
       "            fig.updated_canvas_event();\n",
       "            fig.waiting = false;\n",
       "            return;\n",
       "        }\n",
       "\n",
       "        var msg = JSON.parse(evt.data);\n",
       "        var msg_type = msg['type'];\n",
       "\n",
       "        // Call the  \"handle_{type}\" callback, which takes\n",
       "        // the figure and JSON message as its only arguments.\n",
       "        try {\n",
       "            var callback = fig['handle_' + msg_type];\n",
       "        } catch (e) {\n",
       "            console.log(\n",
       "                \"No handler for the '\" + msg_type + \"' message type: \",\n",
       "                msg\n",
       "            );\n",
       "            return;\n",
       "        }\n",
       "\n",
       "        if (callback) {\n",
       "            try {\n",
       "                // console.log(\"Handling '\" + msg_type + \"' message: \", msg);\n",
       "                callback(fig, msg);\n",
       "            } catch (e) {\n",
       "                console.log(\n",
       "                    \"Exception inside the 'handler_\" + msg_type + \"' callback:\",\n",
       "                    e,\n",
       "                    e.stack,\n",
       "                    msg\n",
       "                );\n",
       "            }\n",
       "        }\n",
       "    };\n",
       "};\n",
       "\n",
       "function getModifiers(event) {\n",
       "    var mods = [];\n",
       "    if (event.ctrlKey) {\n",
       "        mods.push('ctrl');\n",
       "    }\n",
       "    if (event.altKey) {\n",
       "        mods.push('alt');\n",
       "    }\n",
       "    if (event.shiftKey) {\n",
       "        mods.push('shift');\n",
       "    }\n",
       "    if (event.metaKey) {\n",
       "        mods.push('meta');\n",
       "    }\n",
       "    return mods;\n",
       "}\n",
       "\n",
       "/*\n",
       " * return a copy of an object with only non-object keys\n",
       " * we need this to avoid circular references\n",
       " * https://stackoverflow.com/a/24161582/3208463\n",
       " */\n",
       "function simpleKeys(original) {\n",
       "    return Object.keys(original).reduce(function (obj, key) {\n",
       "        if (typeof original[key] !== 'object') {\n",
       "            obj[key] = original[key];\n",
       "        }\n",
       "        return obj;\n",
       "    }, {});\n",
       "}\n",
       "\n",
       "mpl.figure.prototype.mouse_event = function (event, name) {\n",
       "    if (name === 'button_press') {\n",
       "        this.canvas.focus();\n",
       "        this.canvas_div.focus();\n",
       "    }\n",
       "\n",
       "    // from https://stackoverflow.com/q/1114465\n",
       "    var boundingRect = this.canvas.getBoundingClientRect();\n",
       "    var x = (event.clientX - boundingRect.left) * this.ratio;\n",
       "    var y = (event.clientY - boundingRect.top) * this.ratio;\n",
       "\n",
       "    this.send_message(name, {\n",
       "        x: x,\n",
       "        y: y,\n",
       "        button: event.button,\n",
       "        step: event.step,\n",
       "        modifiers: getModifiers(event),\n",
       "        guiEvent: simpleKeys(event),\n",
       "    });\n",
       "\n",
       "    return false;\n",
       "};\n",
       "\n",
       "mpl.figure.prototype._key_event_extra = function (_event, _name) {\n",
       "    // Handle any extra behaviour associated with a key event\n",
       "};\n",
       "\n",
       "mpl.figure.prototype.key_event = function (event, name) {\n",
       "    // Prevent repeat events\n",
       "    if (name === 'key_press') {\n",
       "        if (event.key === this._key) {\n",
       "            return;\n",
       "        } else {\n",
       "            this._key = event.key;\n",
       "        }\n",
       "    }\n",
       "    if (name === 'key_release') {\n",
       "        this._key = null;\n",
       "    }\n",
       "\n",
       "    var value = '';\n",
       "    if (event.ctrlKey && event.key !== 'Control') {\n",
       "        value += 'ctrl+';\n",
       "    }\n",
       "    else if (event.altKey && event.key !== 'Alt') {\n",
       "        value += 'alt+';\n",
       "    }\n",
       "    else if (event.shiftKey && event.key !== 'Shift') {\n",
       "        value += 'shift+';\n",
       "    }\n",
       "\n",
       "    value += 'k' + event.key;\n",
       "\n",
       "    this._key_event_extra(event, name);\n",
       "\n",
       "    this.send_message(name, { key: value, guiEvent: simpleKeys(event) });\n",
       "    return false;\n",
       "};\n",
       "\n",
       "mpl.figure.prototype.toolbar_button_onclick = function (name) {\n",
       "    if (name === 'download') {\n",
       "        this.handle_save(this, null);\n",
       "    } else {\n",
       "        this.send_message('toolbar_button', { name: name });\n",
       "    }\n",
       "};\n",
       "\n",
       "mpl.figure.prototype.toolbar_button_onmouseover = function (tooltip) {\n",
       "    this.message.textContent = tooltip;\n",
       "};\n",
       "\n",
       "///////////////// REMAINING CONTENT GENERATED BY embed_js.py /////////////////\n",
       "// prettier-ignore\n",
       "var _JSXTOOLS_RESIZE_OBSERVER=function(A){var t,i=new WeakMap,n=new WeakMap,a=new WeakMap,r=new WeakMap,o=new Set;function s(e){if(!(this instanceof s))throw new TypeError(\"Constructor requires 'new' operator\");i.set(this,e)}function h(){throw new TypeError(\"Function is not a constructor\")}function c(e,t,i,n){e=0 in arguments?Number(arguments[0]):0,t=1 in arguments?Number(arguments[1]):0,i=2 in arguments?Number(arguments[2]):0,n=3 in arguments?Number(arguments[3]):0,this.right=(this.x=this.left=e)+(this.width=i),this.bottom=(this.y=this.top=t)+(this.height=n),Object.freeze(this)}function d(){t=requestAnimationFrame(d);var s=new WeakMap,p=new Set;o.forEach((function(t){r.get(t).forEach((function(i){var r=t instanceof window.SVGElement,o=a.get(t),d=r?0:parseFloat(o.paddingTop),f=r?0:parseFloat(o.paddingRight),l=r?0:parseFloat(o.paddingBottom),u=r?0:parseFloat(o.paddingLeft),g=r?0:parseFloat(o.borderTopWidth),m=r?0:parseFloat(o.borderRightWidth),w=r?0:parseFloat(o.borderBottomWidth),b=u+f,F=d+l,v=(r?0:parseFloat(o.borderLeftWidth))+m,W=g+w,y=r?0:t.offsetHeight-W-t.clientHeight,E=r?0:t.offsetWidth-v-t.clientWidth,R=b+v,z=F+W,M=r?t.width:parseFloat(o.width)-R-E,O=r?t.height:parseFloat(o.height)-z-y;if(n.has(t)){var k=n.get(t);if(k[0]===M&&k[1]===O)return}n.set(t,[M,O]);var S=Object.create(h.prototype);S.target=t,S.contentRect=new c(u,d,M,O),s.has(i)||(s.set(i,[]),p.add(i)),s.get(i).push(S)}))})),p.forEach((function(e){i.get(e).call(e,s.get(e),e)}))}return s.prototype.observe=function(i){if(i instanceof window.Element){r.has(i)||(r.set(i,new Set),o.add(i),a.set(i,window.getComputedStyle(i)));var n=r.get(i);n.has(this)||n.add(this),cancelAnimationFrame(t),t=requestAnimationFrame(d)}},s.prototype.unobserve=function(i){if(i instanceof window.Element&&r.has(i)){var n=r.get(i);n.has(this)&&(n.delete(this),n.size||(r.delete(i),o.delete(i))),n.size||r.delete(i),o.size||cancelAnimationFrame(t)}},A.DOMRectReadOnly=c,A.ResizeObserver=s,A.ResizeObserverEntry=h,A}; // eslint-disable-line\n",
       "mpl.toolbar_items = [[\"Home\", \"Reset original view\", \"fa fa-home\", \"home\"], [\"Back\", \"Back to previous view\", \"fa fa-arrow-left\", \"back\"], [\"Forward\", \"Forward to next view\", \"fa fa-arrow-right\", \"forward\"], [\"\", \"\", \"\", \"\"], [\"Pan\", \"Left button pans, Right button zooms\\nx/y fixes axis, CTRL fixes aspect\", \"fa fa-arrows\", \"pan\"], [\"Zoom\", \"Zoom to rectangle\\nx/y fixes axis\", \"fa fa-square-o\", \"zoom\"], [\"\", \"\", \"\", \"\"], [\"Download\", \"Download plot\", \"fa fa-floppy-o\", \"download\"]];\n",
       "\n",
       "mpl.extensions = [\"eps\", \"jpeg\", \"pgf\", \"pdf\", \"png\", \"ps\", \"raw\", \"svg\", \"tif\", \"webp\"];\n",
       "\n",
       "mpl.default_extension = \"png\";/* global mpl */\n",
       "\n",
       "var comm_websocket_adapter = function (comm) {\n",
       "    // Create a \"websocket\"-like object which calls the given IPython comm\n",
       "    // object with the appropriate methods. Currently this is a non binary\n",
       "    // socket, so there is still some room for performance tuning.\n",
       "    var ws = {};\n",
       "\n",
       "    ws.binaryType = comm.kernel.ws.binaryType;\n",
       "    ws.readyState = comm.kernel.ws.readyState;\n",
       "    function updateReadyState(_event) {\n",
       "        if (comm.kernel.ws) {\n",
       "            ws.readyState = comm.kernel.ws.readyState;\n",
       "        } else {\n",
       "            ws.readyState = 3; // Closed state.\n",
       "        }\n",
       "    }\n",
       "    comm.kernel.ws.addEventListener('open', updateReadyState);\n",
       "    comm.kernel.ws.addEventListener('close', updateReadyState);\n",
       "    comm.kernel.ws.addEventListener('error', updateReadyState);\n",
       "\n",
       "    ws.close = function () {\n",
       "        comm.close();\n",
       "    };\n",
       "    ws.send = function (m) {\n",
       "        //console.log('sending', m);\n",
       "        comm.send(m);\n",
       "    };\n",
       "    // Register the callback with on_msg.\n",
       "    comm.on_msg(function (msg) {\n",
       "        //console.log('receiving', msg['content']['data'], msg);\n",
       "        var data = msg['content']['data'];\n",
       "        if (data['blob'] !== undefined) {\n",
       "            data = {\n",
       "                data: new Blob(msg['buffers'], { type: data['blob'] }),\n",
       "            };\n",
       "        }\n",
       "        // Pass the mpl event to the overridden (by mpl) onmessage function.\n",
       "        ws.onmessage(data);\n",
       "    });\n",
       "    return ws;\n",
       "};\n",
       "\n",
       "mpl.mpl_figure_comm = function (comm, msg) {\n",
       "    // This is the function which gets called when the mpl process\n",
       "    // starts-up an IPython Comm through the \"matplotlib\" channel.\n",
       "\n",
       "    var id = msg.content.data.id;\n",
       "    // Get hold of the div created by the display call when the Comm\n",
       "    // socket was opened in Python.\n",
       "    var element = document.getElementById(id);\n",
       "    var ws_proxy = comm_websocket_adapter(comm);\n",
       "\n",
       "    function ondownload(figure, _format) {\n",
       "        window.open(figure.canvas.toDataURL());\n",
       "    }\n",
       "\n",
       "    var fig = new mpl.figure(id, ws_proxy, ondownload, element);\n",
       "\n",
       "    // Call onopen now - mpl needs it, as it is assuming we've passed it a real\n",
       "    // web socket which is closed, not our websocket->open comm proxy.\n",
       "    ws_proxy.onopen();\n",
       "\n",
       "    fig.parent_element = element;\n",
       "    fig.cell_info = mpl.find_output_cell(\"<div id='\" + id + \"'></div>\");\n",
       "    if (!fig.cell_info) {\n",
       "        console.error('Failed to find cell for figure', id, fig);\n",
       "        return;\n",
       "    }\n",
       "    fig.cell_info[0].output_area.element.on(\n",
       "        'cleared',\n",
       "        { fig: fig },\n",
       "        fig._remove_fig_handler\n",
       "    );\n",
       "};\n",
       "\n",
       "mpl.figure.prototype.handle_close = function (fig, msg) {\n",
       "    var width = fig.canvas.width / fig.ratio;\n",
       "    fig.cell_info[0].output_area.element.off(\n",
       "        'cleared',\n",
       "        fig._remove_fig_handler\n",
       "    );\n",
       "    fig.resizeObserverInstance.unobserve(fig.canvas_div);\n",
       "\n",
       "    // Update the output cell to use the data from the current canvas.\n",
       "    fig.push_to_output();\n",
       "    var dataURL = fig.canvas.toDataURL();\n",
       "    // Re-enable the keyboard manager in IPython - without this line, in FF,\n",
       "    // the notebook keyboard shortcuts fail.\n",
       "    IPython.keyboard_manager.enable();\n",
       "    fig.parent_element.innerHTML =\n",
       "        '<img src=\"' + dataURL + '\" width=\"' + width + '\">';\n",
       "    fig.close_ws(fig, msg);\n",
       "};\n",
       "\n",
       "mpl.figure.prototype.close_ws = function (fig, msg) {\n",
       "    fig.send_message('closing', msg);\n",
       "    // fig.ws.close()\n",
       "};\n",
       "\n",
       "mpl.figure.prototype.push_to_output = function (_remove_interactive) {\n",
       "    // Turn the data on the canvas into data in the output cell.\n",
       "    var width = this.canvas.width / this.ratio;\n",
       "    var dataURL = this.canvas.toDataURL();\n",
       "    this.cell_info[1]['text/html'] =\n",
       "        '<img src=\"' + dataURL + '\" width=\"' + width + '\">';\n",
       "};\n",
       "\n",
       "mpl.figure.prototype.updated_canvas_event = function () {\n",
       "    // Tell IPython that the notebook contents must change.\n",
       "    IPython.notebook.set_dirty(true);\n",
       "    this.send_message('ack', {});\n",
       "    var fig = this;\n",
       "    // Wait a second, then push the new image to the DOM so\n",
       "    // that it is saved nicely (might be nice to debounce this).\n",
       "    setTimeout(function () {\n",
       "        fig.push_to_output();\n",
       "    }, 1000);\n",
       "};\n",
       "\n",
       "mpl.figure.prototype._init_toolbar = function () {\n",
       "    var fig = this;\n",
       "\n",
       "    var toolbar = document.createElement('div');\n",
       "    toolbar.classList = 'btn-toolbar';\n",
       "    this.root.appendChild(toolbar);\n",
       "\n",
       "    function on_click_closure(name) {\n",
       "        return function (_event) {\n",
       "            return fig.toolbar_button_onclick(name);\n",
       "        };\n",
       "    }\n",
       "\n",
       "    function on_mouseover_closure(tooltip) {\n",
       "        return function (event) {\n",
       "            if (!event.currentTarget.disabled) {\n",
       "                return fig.toolbar_button_onmouseover(tooltip);\n",
       "            }\n",
       "        };\n",
       "    }\n",
       "\n",
       "    fig.buttons = {};\n",
       "    var buttonGroup = document.createElement('div');\n",
       "    buttonGroup.classList = 'btn-group';\n",
       "    var button;\n",
       "    for (var toolbar_ind in mpl.toolbar_items) {\n",
       "        var name = mpl.toolbar_items[toolbar_ind][0];\n",
       "        var tooltip = mpl.toolbar_items[toolbar_ind][1];\n",
       "        var image = mpl.toolbar_items[toolbar_ind][2];\n",
       "        var method_name = mpl.toolbar_items[toolbar_ind][3];\n",
       "\n",
       "        if (!name) {\n",
       "            /* Instead of a spacer, we start a new button group. */\n",
       "            if (buttonGroup.hasChildNodes()) {\n",
       "                toolbar.appendChild(buttonGroup);\n",
       "            }\n",
       "            buttonGroup = document.createElement('div');\n",
       "            buttonGroup.classList = 'btn-group';\n",
       "            continue;\n",
       "        }\n",
       "\n",
       "        button = fig.buttons[name] = document.createElement('button');\n",
       "        button.classList = 'btn btn-default';\n",
       "        button.href = '#';\n",
       "        button.title = name;\n",
       "        button.innerHTML = '<i class=\"fa ' + image + ' fa-lg\"></i>';\n",
       "        button.addEventListener('click', on_click_closure(method_name));\n",
       "        button.addEventListener('mouseover', on_mouseover_closure(tooltip));\n",
       "        buttonGroup.appendChild(button);\n",
       "    }\n",
       "\n",
       "    if (buttonGroup.hasChildNodes()) {\n",
       "        toolbar.appendChild(buttonGroup);\n",
       "    }\n",
       "\n",
       "    // Add the status bar.\n",
       "    var status_bar = document.createElement('span');\n",
       "    status_bar.classList = 'mpl-message pull-right';\n",
       "    toolbar.appendChild(status_bar);\n",
       "    this.message = status_bar;\n",
       "\n",
       "    // Add the close button to the window.\n",
       "    var buttongrp = document.createElement('div');\n",
       "    buttongrp.classList = 'btn-group inline pull-right';\n",
       "    button = document.createElement('button');\n",
       "    button.classList = 'btn btn-mini btn-primary';\n",
       "    button.href = '#';\n",
       "    button.title = 'Stop Interaction';\n",
       "    button.innerHTML = '<i class=\"fa fa-power-off icon-remove icon-large\"></i>';\n",
       "    button.addEventListener('click', function (_evt) {\n",
       "        fig.handle_close(fig, {});\n",
       "    });\n",
       "    button.addEventListener(\n",
       "        'mouseover',\n",
       "        on_mouseover_closure('Stop Interaction')\n",
       "    );\n",
       "    buttongrp.appendChild(button);\n",
       "    var titlebar = this.root.querySelector('.ui-dialog-titlebar');\n",
       "    titlebar.insertBefore(buttongrp, titlebar.firstChild);\n",
       "};\n",
       "\n",
       "mpl.figure.prototype._remove_fig_handler = function (event) {\n",
       "    var fig = event.data.fig;\n",
       "    if (event.target !== this) {\n",
       "        // Ignore bubbled events from children.\n",
       "        return;\n",
       "    }\n",
       "    fig.close_ws(fig, {});\n",
       "};\n",
       "\n",
       "mpl.figure.prototype._root_extra_style = function (el) {\n",
       "    el.style.boxSizing = 'content-box'; // override notebook setting of border-box.\n",
       "};\n",
       "\n",
       "mpl.figure.prototype._canvas_extra_style = function (el) {\n",
       "    // this is important to make the div 'focusable\n",
       "    el.setAttribute('tabindex', 0);\n",
       "    // reach out to IPython and tell the keyboard manager to turn it's self\n",
       "    // off when our div gets focus\n",
       "\n",
       "    // location in version 3\n",
       "    if (IPython.notebook.keyboard_manager) {\n",
       "        IPython.notebook.keyboard_manager.register_events(el);\n",
       "    } else {\n",
       "        // location in version 2\n",
       "        IPython.keyboard_manager.register_events(el);\n",
       "    }\n",
       "};\n",
       "\n",
       "mpl.figure.prototype._key_event_extra = function (event, _name) {\n",
       "    // Check for shift+enter\n",
       "    if (event.shiftKey && event.which === 13) {\n",
       "        this.canvas_div.blur();\n",
       "        // select the cell after this one\n",
       "        var index = IPython.notebook.find_cell_index(this.cell_info[0]);\n",
       "        IPython.notebook.select(index + 1);\n",
       "    }\n",
       "};\n",
       "\n",
       "mpl.figure.prototype.handle_save = function (fig, _msg) {\n",
       "    fig.ondownload(fig, null);\n",
       "};\n",
       "\n",
       "mpl.find_output_cell = function (html_output) {\n",
       "    // Return the cell and output element which can be found *uniquely* in the notebook.\n",
       "    // Note - this is a bit hacky, but it is done because the \"notebook_saving.Notebook\"\n",
       "    // IPython event is triggered only after the cells have been serialised, which for\n",
       "    // our purposes (turning an active figure into a static one), is too late.\n",
       "    var cells = IPython.notebook.get_cells();\n",
       "    var ncells = cells.length;\n",
       "    for (var i = 0; i < ncells; i++) {\n",
       "        var cell = cells[i];\n",
       "        if (cell.cell_type === 'code') {\n",
       "            for (var j = 0; j < cell.output_area.outputs.length; j++) {\n",
       "                var data = cell.output_area.outputs[j];\n",
       "                if (data.data) {\n",
       "                    // IPython >= 3 moved mimebundle to data attribute of output\n",
       "                    data = data.data;\n",
       "                }\n",
       "                if (data['text/html'] === html_output) {\n",
       "                    return [cell, data, j];\n",
       "                }\n",
       "            }\n",
       "        }\n",
       "    }\n",
       "};\n",
       "\n",
       "// Register the function which deals with the matplotlib target/channel.\n",
       "// The kernel may be null if the page has been refreshed.\n",
       "if (IPython.notebook.kernel !== null) {\n",
       "    IPython.notebook.kernel.comm_manager.register_target(\n",
       "        'matplotlib',\n",
       "        mpl.mpl_figure_comm\n",
       "    );\n",
       "}\n"
      ],
      "text/plain": [
       "<IPython.core.display.Javascript object>"
      ]
     },
     "metadata": {},
     "output_type": "display_data"
    },
    {
     "data": {
      "text/html": [
       "<img src=\"data:image/png;base64,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\" width=\"640\">"
      ],
      "text/plain": [
       "<IPython.core.display.HTML object>"
      ]
     },
     "metadata": {},
     "output_type": "display_data"
    }
   ],
   "source": [
    "fig, ax = plt.subplots()\n",
    "ax. plot([-10, 0, 0, 10], [0,0,1,1], lw=3, label='Perceptron')\n",
    "xgrid = np.linspace(-10, 10, 1000)\n",
    "ax.plot(xgrid, 1/(1 + np.exp(-xgrid)), lw=2, label='Sigmoid')\n",
    "ax.set_xlim(-7.5, 7.5)\n",
    "ax.legend()\n",
    "ax.set_xlabel('input*weights - bias', fontsize=14)\n",
    "ax.set_ylabel('output', fontsize=14)\n",
    "fig.tight_layout()"
   ]
  },
  {
   "cell_type": "markdown",
   "id": "2764f3c9",
   "metadata": {
    "slideshow": {
     "slide_type": "slide"
    }
   },
   "source": [
    "The above plot shows that the sigmoid function is a \"smooth\" version of the perceptron. We can exploit this smoothness to achieve better learning outcomes. Small changes in the weights and biases will produce small changes in the sigmoid function, enabling gradual improvement, which cannot be said for the perceptron near the region of activation.  \n",
    "\n",
    "\n",
    "This will prove important in the next lecture."
   ]
  },
  {
   "cell_type": "markdown",
   "id": "ff188a96",
   "metadata": {
    "slideshow": {
     "slide_type": "slide"
    }
   },
   "source": [
    "## Challenge Problem\n",
    "\n",
    "Train a perceptron to classify the number 8 in the handwritten digits data set. \n",
    "\n",
    "*Hint* - you will need to convert the 2d data into a vector format."
   ]
  },
  {
   "cell_type": "markdown",
   "id": "16b0601e",
   "metadata": {
    "slideshow": {
     "slide_type": "skip"
    }
   },
   "source": [
    "## Appendix\n",
    "\n",
    "Functions to load plots shown in the notebook. "
   ]
  },
  {
   "cell_type": "code",
   "execution_count": null,
   "id": "78d03ef9",
   "metadata": {
    "slideshow": {
     "slide_type": "skip"
    }
   },
   "outputs": [],
   "source": [
    "import matplotlib.pyplot as plt\n",
    "import numpy as np\n",
    "\n",
    "from sklearn.datasets import fetch_openml\n",
    "\n",
    "train_samples = 5000\n",
    "\n",
    "# Load data from https://www.openml.org/d/554\n",
    "X, y = fetch_openml('mnist_784', version=1, return_X_y=True, as_frame=False)\n",
    "\n",
    "fig, ax = plt.subplots(figsize=(4,4))\n",
    "\n",
    "ax.imshow(X[41].reshape(28,28)[3:-3,3:-3], \n",
    "          cmap='binary')\n",
    "ax.set_xticks([])\n",
    "ax.set_yticks([])\n",
    "fig.tight_layout()\n",
    "fig.savefig('./images/number8.png')"
   ]
  }
 ],
 "metadata": {
  "celltoolbar": "Slideshow",
  "kernelspec": {
   "display_name": "Python 3 (ipykernel)",
   "language": "python",
   "name": "python3"
  },
  "language_info": {
   "codemirror_mode": {
    "name": "ipython",
    "version": 3
   },
   "file_extension": ".py",
   "mimetype": "text/x-python",
   "name": "python",
   "nbconvert_exporter": "python",
   "pygments_lexer": "ipython3",
   "version": "3.8.17"
  },
  "livereveal": {
   "height": 768,
   "scroll": true,
   "start_slideshow_at": "selected",
   "theme": "solarized",
   "width": 1024
  }
 },
 "nbformat": 4,
 "nbformat_minor": 5
}
