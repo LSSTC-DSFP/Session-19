{
 "cells": [
  {
   "cell_type": "markdown",
   "id": "d90d3986",
   "metadata": {
    "slideshow": {
     "slide_type": "-"
    }
   },
   "source": [
    "# Dimensionality Reduction Tutorial\n",
    "\n",
    "### Bryan Scott, CIERA/Northwestern\n",
    "version 0.1, August 2023\n",
    "\n",
    "In this tutorial, we will begin by reading in postage stamp images from the Sloan Digital Sky Survey. The first part of the lesson will then decompose these images into their principle components using both our own implementation of the PCA procedure in numpy, and make use of the scikit-learn PCA implementation. Our learning goals are two fold - to gain familiarity with PCA and to gain experience with scikit-learn on a problem where we can straightforwardly implement our own version of the tools. \n",
    "\n",
    "In the second part of the tutorial, we will apply t-SNE to Cosmos2020 28-band photometry and visualize in 2D the separation of different objects in redshift as a function of their 28D fluxes.\n",
    "\n",
    "The challenge problem asks you to build a SOM from scratch. "
   ]
  },
  {
   "cell_type": "code",
   "execution_count": 2,
   "id": "dae8731a",
   "metadata": {},
   "outputs": [],
   "source": [
    "import numpy as np\n",
    "import pandas as pd\n",
    "import matplotlib.pyplot as plt\n",
    "\n",
    "import h5py"
   ]
  },
  {
   "cell_type": "markdown",
   "id": "37d7a40e",
   "metadata": {},
   "source": [
    "## Problem 1: Principal Component Analysis"
   ]
  },
  {
   "cell_type": "markdown",
   "id": "c457be51",
   "metadata": {},
   "source": [
    "### Preliminary: Download the images and load them into arrays called images and labels"
   ]
  },
  {
   "cell_type": "code",
   "execution_count": 105,
   "id": "0eb43a93",
   "metadata": {},
   "outputs": [
    {
     "name": "stdout",
     "output_type": "stream",
     "text": [
      "(21785,)\n",
      "(21785, 69, 69, 3)\n"
     ]
    }
   ],
   "source": [
    "# To get the images and labels from file\n",
    "with h5py.File('Galaxy10.h5', 'r') as F: # your path goes here \n",
    "    images = np.array(F['images'])\n",
    "    labels = np.array(F['ans'])\n",
    "\n",
    "# To convert to desirable type\n",
    "labels = labels.astype(np.float32)\n",
    "images = images.astype(np.float32)\n",
    "\n",
    "\n",
    "\n"
   ]
  },
  {
   "cell_type": "code",
   "execution_count": 106,
   "id": "6f8f6d05",
   "metadata": {},
   "outputs": [
    {
     "name": "stdout",
     "output_type": "stream",
     "text": [
      "(21785,)\n",
      "(21785, 69, 69, 3)\n"
     ]
    }
   ],
   "source": [
    "print(np.shape(labels))\n",
    "print(np.shape(images))"
   ]
  },
  {
   "cell_type": "markdown",
   "id": "3b427dee",
   "metadata": {},
   "source": [
    "### Part 0: A Gentle Introduction to the data\n",
    "\n",
    "The first step in any ML workflow is to 'worry' about the data. First, print out the dimensions of the images and labels arrays. Why does each array have the dimensionality that it does? Write your answer in the provided markdown cell below. \n",
    "\n",
    "\n"
   ]
  },
  {
   "cell_type": "markdown",
   "id": "0228dd9a",
   "metadata": {},
   "source": [
    "labels is 1D with 21785 values\n",
    "images is 4D with 21785 X 69 X 69 X 3 shape\n",
    "\n",
    "\n",
    "galaxies X xpixel X ypixel X 3 filters\n",
    "\n",
    "\n",
    "labels classifies the 69 x 69 x 3 dimensionality into 1 value in the labels array"
   ]
  },
  {
   "cell_type": "markdown",
   "id": "22cc8f30",
   "metadata": {},
   "source": [
    "Now, let's visually inspect our data. In the Wide Field Image Processing session, we have/will cover how to generate false color images from multi-band photometry. For now, we can use the astropy implementation. Given the following help call, fill in the code block below to generate false color images for the first SDSS postage stamp. Do this for object 14001 in the provided h5 file."
   ]
  },
  {
   "cell_type": "code",
   "execution_count": 109,
   "id": "8d38d8cc",
   "metadata": {},
   "outputs": [],
   "source": [
    "from astropy.visualization import make_lupton_rgb"
   ]
  },
  {
   "cell_type": "code",
   "execution_count": 118,
   "id": "efc0f0ff",
   "metadata": {},
   "outputs": [
    {
     "data": {
      "image/png": "[encoded data removed]",
      "text/plain": [
       "<Figure size 800x800 with 1 Axes>"
      ]
     },
     "metadata": {},
     "output_type": "display_data"
    }
   ],
   "source": [
    "from astropy.visualization import make_lupton_rgb\n",
    "\n",
    "i_data = images[14001, :, :, 0] # first band\n",
    "r_data = images[14001, :, :, 1] # second band\n",
    "g_data = images[14001, :, :, 2] # third band\n",
    "\n",
    "rgb = make_lupton_rgb(i_data-np.nanmedian(i_data), # fill this in - what band goes here?\n",
    "                      r_data-np.nanmedian(r_data), # fill this in - what band goes here?\n",
    "                      g_data-np.nanmedian(g_data), # fill this in - and finally what band goes here?\n",
    "                      minimum=0, Q=6, stretch=50) # Bonus Q: how does changing these paramters change the images?\n",
    "\n",
    "fig, ax = plt.subplots(figsize=(8,8))\n",
    "ax.imshow(rgb, origin='lower')\n",
    "fig.tight_layout()"
   ]
  },
  {
   "cell_type": "markdown",
   "id": "eb75dd66",
   "metadata": {},
   "source": [
    "### Visualize individual classes \n",
    "\n",
    "The Galaxy10 dataset consists of the following classes: \n",
    "\n",
    "Galaxy10 dataset (21785 images)\n",
    "- Class 0 (3461 images): Disk, Face-on, No Spiral\n",
    "- Class 1 (6997 images): Smooth, Completely round\n",
    "- Class 2 (6292 images): Smooth, in-between round\n",
    "- Class 3 (394 images): Smooth, Cigar shaped\n",
    "- Class 4 (1534 images): Disk, Edge-on, Rounded Bulge\n",
    "- Class 5 (17 images): Disk, Edge-on, Boxy Bulge\n",
    "- Class 6 (589 images): Disk, Edge-on, No Bulge\n",
    "- Class 7 (1121 images): Disk, Face-on, Tight Spiral\n",
    "- Class 8 (906 images): Disk, Face-on, Medium Spiral\n",
    "- Class 9 (519 images): Disk, Face-on, Loose Spiral\n",
    "\n",
    "Before proceeding, what do you notice about these classes. Why is this potentially problematic? \n",
    "\n",
    "- there are many more of some classes (ie class 1 and class 2 ~thousands) than others (ie class 5 ~ tens)\n",
    "\n",
    "Now use the labels vector to visualize a member of each class: "
   ]
  },
  {
   "cell_type": "code",
   "execution_count": 119,
   "id": "7626ee94",
   "metadata": {},
   "outputs": [
    {
     "data": {
      "text/plain": [
       "array([0., 1., 2., 3., 4., 5., 6., 7., 8., 9.], dtype=float32)"
      ]
     },
     "execution_count": 119,
     "metadata": {},
     "output_type": "execute_result"
    }
   ],
   "source": []
  },
  {
   "cell_type": "code",
   "execution_count": null,
   "id": "bfdf3fcc",
   "metadata": {},
   "outputs": [],
   "source": [
    "for i in range(0, len(np.unique(labels))):\n",
    "    plt.imshow() # what goes here?\n",
    "    plt.title('Class {}'.format(i))\n",
    "    plt.show()"
   ]
  },
  {
   "cell_type": "markdown",
   "id": "5645ec49",
   "metadata": {},
   "source": [
    "### Part 1: Principal Components and the Singular Value Decomposition\n",
    "\n",
    "Can we distinguish galaxy types based on their PCA components? Let's find out! Let's attempt to distinguish between smooth and round objects in Class 1 from the boxy and edge on spirals in Class 4. Start by using the tools you wrote above to visualize an example from each class."
   ]
  },
  {
   "cell_type": "code",
   "execution_count": null,
   "id": "1be9403c",
   "metadata": {},
   "outputs": [],
   "source": [
    "# class 1 visualization"
   ]
  },
  {
   "cell_type": "code",
   "execution_count": null,
   "id": "31d51e06",
   "metadata": {},
   "outputs": [],
   "source": [
    "# class 4 visualization"
   ]
  },
  {
   "cell_type": "markdown",
   "id": "3073153e",
   "metadata": {},
   "source": [
    "Now perform the singular value decomposition using the numpy implementation. "
   ]
  },
  {
   "cell_type": "code",
   "execution_count": null,
   "id": "13ed3ae5",
   "metadata": {},
   "outputs": [],
   "source": [
    "# first, what does the SVD take as arguments and, in terms of the PCA framework, what does it return? \n",
    "# Answer in the provided markdown cell below. "
   ]
  },
  {
   "cell_type": "markdown",
   "id": "c5e400cd",
   "metadata": {},
   "source": []
  },
  {
   "cell_type": "code",
   "execution_count": null,
   "id": "2adcacec",
   "metadata": {},
   "outputs": [],
   "source": [
    "# Now, you may have noticed that our image array isn't structured in such a way that we can perform PCA \n",
    "# on it directly.\n",
    "# What shape should the image array have, use np.reshape to reshape the array.\n",
    "\n",
    "images_of_class = #fill this in for the class you want to compute the PCA for\n",
    "images_of_class_mean_subtracted = # recenter\n",
    "images_reshape =  # what shape should this have?"
   ]
  },
  {
   "cell_type": "code",
   "execution_count": null,
   "id": "1fc8982f",
   "metadata": {},
   "outputs": [],
   "source": [
    "# perform the SVD \n",
    "\n"
   ]
  },
  {
   "cell_type": "code",
   "execution_count": null,
   "id": "fe18023e",
   "metadata": {},
   "outputs": [],
   "source": [
    "# plot the Principal components\n",
    "\n",
    "h, w = 69, 69\n",
    "\n",
    "def plot_gallery(images, h, w, n_row=3, n_col=4):\n",
    "    \"\"\"Helper function to plot a gallery of portraits \n",
    "    #from sklearn documentation\"\"\"\n",
    "    plt.figure(figsize=(1.8 * n_col, 2.4 * n_row))\n",
    "    plt.subplots_adjust(bottom=0, left=0.01, right=0.99, top=0.90, hspace=0.35)\n",
    "    for i in range(n_row * n_col):\n",
    "        plt.subplot(n_row, n_col, i + 1)\n",
    "        plt.imshow(images[i].reshape((h, w)), cmap=plt.cm.gray)\n",
    "        plt.xticks(())\n",
    "        plt.yticks(())\n",
    "        \n",
    "plot_gallery(Vh, h, w)"
   ]
  },
  {
   "cell_type": "markdown",
   "id": "b4bcb12c",
   "metadata": {},
   "source": [
    "### Part 2: Practicing with the Scikit-learn Implementation"
   ]
  },
  {
   "cell_type": "code",
   "execution_count": null,
   "id": "3a797997",
   "metadata": {},
   "outputs": [],
   "source": [
    "from sklearn.decomposition import PCA"
   ]
  },
  {
   "cell_type": "code",
   "execution_count": null,
   "id": "6be6ca31",
   "metadata": {},
   "outputs": [],
   "source": [
    "X_train = "
   ]
  },
  {
   "cell_type": "code",
   "execution_count": null,
   "id": "8e857846",
   "metadata": {},
   "outputs": [],
   "source": [
    "n_components = \n",
    "\n",
    "pca = PCA().fit()\n",
    "\n",
    "eigengalaxies = pca.components_.reshape(())"
   ]
  },
  {
   "cell_type": "code",
   "execution_count": null,
   "id": "95e031be",
   "metadata": {},
   "outputs": [],
   "source": [
    "plot_gallery()"
   ]
  },
  {
   "cell_type": "code",
   "execution_count": null,
   "id": "b8cf3e8a",
   "metadata": {},
   "outputs": [],
   "source": [
    "# pca.transform() will provide the appropriate weights for each principal component. \n",
    "# write a loop or a vectorized computation to sum over the principal components and reconstruct \n",
    "# an image of a given galaxy (perhaps the one at index 10, or pick your favorite). \n",
    "\n",
    "reconstruction = \n",
    "\n",
    "for i in range():\n",
    "    "
   ]
  },
  {
   "cell_type": "markdown",
   "id": "36d5e667",
   "metadata": {},
   "source": [
    "## Problem 2: t-distributed Stochastic Neighbor Embedding"
   ]
  },
  {
   "cell_type": "markdown",
   "id": "a4a10ec3",
   "metadata": {},
   "source": [
    "Begin by reading in the supplied cosmos 2020 28 band photometry. Print out the catalog and some summary statistics. Make sure you understand the structure of the supplied data file, and check that it has been cleaned of anamolous values (for example, -99 is often used as a flag value, and many data files contain NaNs). "
   ]
  },
  {
   "cell_type": "code",
   "execution_count": 4,
   "id": "cfefbe51",
   "metadata": {},
   "outputs": [],
   "source": [
    "cosmos_2020 = pd.read_csv('cosmos_2020_28_band.csv', index_col = 0)"
   ]
  },
  {
   "cell_type": "code",
   "execution_count": 5,
   "id": "632d88da",
   "metadata": {},
   "outputs": [
    {
     "name": "stdout",
     "output_type": "stream",
     "text": [
      "<class 'pandas.core.frame.DataFrame'>\n",
      "Index: 499 entries, 11 to 9998\n",
      "Data columns (total 29 columns):\n",
      " #   Column      Non-Null Count  Dtype  \n",
      "---  ------      --------------  -----  \n",
      " 0   GALEX_NUV   499 non-null    float64\n",
      " 1   GALEX_FUV   499 non-null    float64\n",
      " 2   IRAC_CH1    499 non-null    float64\n",
      " 3   IRAC_CH2    499 non-null    float64\n",
      " 4   IRAC_CH3    499 non-null    float64\n",
      " 5   IRAC_CH4    499 non-null    float64\n",
      " 6   IB427       499 non-null    float64\n",
      " 7   IB464       499 non-null    float64\n",
      " 8   IA484       499 non-null    float64\n",
      " 9   IB505       499 non-null    float64\n",
      " 10  IA527       499 non-null    float64\n",
      " 11  IB574       499 non-null    float64\n",
      " 12  IA624       499 non-null    float64\n",
      " 13  IA679IB709  499 non-null    float64\n",
      " 14  IA738       499 non-null    float64\n",
      " 15  IA767       499 non-null    float64\n",
      " 16  IB827       499 non-null    float64\n",
      " 17  NB711       499 non-null    float64\n",
      " 18  NB816       499 non-null    float64\n",
      " 19  Y           499 non-null    float64\n",
      " 20  J           499 non-null    float64\n",
      " 21  H           499 non-null    float64\n",
      " 22  Ks          499 non-null    float64\n",
      " 23  NB118g      499 non-null    float64\n",
      " 24  r           499 non-null    float64\n",
      " 25  i           499 non-null    float64\n",
      " 26  z           499 non-null    float64\n",
      " 27  hsc_y       499 non-null    float64\n",
      " 28  redshift    499 non-null    float64\n",
      "dtypes: float64(29)\n",
      "memory usage: 117.0 KB\n"
     ]
    }
   ],
   "source": [
    "cosmos_2020.info(verbose=True)"
   ]
  },
  {
   "cell_type": "markdown",
   "id": "c42f145e",
   "metadata": {},
   "source": [
    "For this part, we will use the built in TSNE methods in the sci-kit learn package. These are located in sklearn-manifold (many dimensionality reduction techniques are examples of manifold learning). "
   ]
  },
  {
   "cell_type": "code",
   "execution_count": 6,
   "id": "edf3df4a",
   "metadata": {},
   "outputs": [],
   "source": [
    "from sklearn.manifold import TSNE"
   ]
  },
  {
   "cell_type": "markdown",
   "id": "3ec63480",
   "metadata": {},
   "source": [
    "Next, define a dictionary object to contain the TSNE object and it's hyperparameters. The one we will focus on, in particular, is the perplexity. For now, set the perplexity to a reasonable value between 5 and 50. "
   ]
  },
  {
   "cell_type": "code",
   "execution_count": 120,
   "id": "56d8abf6",
   "metadata": {},
   "outputs": [],
   "source": [
    "tSNE = TSNE(\n",
    "        perplexity = 10,\n",
    "        n_components=2,\n",
    "        n_iter=2000,\n",
    "        n_iter_without_progress=200,\n",
    "        n_jobs=2,\n",
    "        random_state=0,\n",
    "        init = 'pca',\n",
    "    )"
   ]
  },
  {
   "cell_type": "markdown",
   "id": "204998cf",
   "metadata": {},
   "source": [
    "Our goal here is to see how well tSNE can visualize class separations between objects at different redshifts. As such, we will need to generate a labels data vector to use with our tSNE embedding. As you may have noticed, the redshift values in the catalog have already been binned for you. As such, the labels are contained in the redshift column of the cosmos 2020 catalog. Define a labels data series. \n",
    "\n",
    "After doing that, you'll want to drop the redshift column from your data vector so that tSNE isn't using redshift as a variable in its distance calculations."
   ]
  },
  {
   "cell_type": "code",
   "execution_count": 121,
   "id": "6351c4ce",
   "metadata": {},
   "outputs": [],
   "source": [
    "labels = np.unique(cosmos_2020['redshift'])\n",
    "new_data = cosmos_2020.drop(columns='redshift')"
   ]
  },
  {
   "cell_type": "markdown",
   "id": "d1096106",
   "metadata": {},
   "source": [
    "In sklearn, we use the fit_transform method to simultaneously fit and apply the learned transformation to the data. Since this is an unsupervised problem, this is as straightforward as providing the fit_transform method the data and a labels vector. "
   ]
  },
  {
   "cell_type": "code",
   "execution_count": 122,
   "id": "16bd2cee",
   "metadata": {},
   "outputs": [],
   "source": [
    "tSNE_map = tSNE.fit_transform(new_data, labels)"
   ]
  },
  {
   "cell_type": "markdown",
   "id": "a3f02e34",
   "metadata": {},
   "source": [
    "We can then plot the 2D representation of the labelled 28D photometric space. "
   ]
  },
  {
   "cell_type": "code",
   "execution_count": 123,
   "id": "d20e052f",
   "metadata": {},
   "outputs": [
    {
     "data": {
      "text/plain": [
       "array([[ 7.57857990e+00, -2.18580246e+01],\n",
       "       [-4.31305656e+01, -6.57398510e+00],\n",
       "       [ 7.87537308e+01,  3.52841735e+00],\n",
       "       [ 3.65528831e+01, -1.75957050e+01],\n",
       "       [-3.51134987e+01, -9.15732288e+00],\n",
       "       [ 1.53415003e+01,  2.35148010e+01],\n",
       "       [ 8.72518387e+01,  5.73497820e+00],\n",
       "       [-1.34878187e+01, -8.87283802e+00],\n",
       "       [-1.28389454e+01, -2.50834351e+01],\n",
       "       [ 3.20958595e+01, -1.03645840e+01],\n",
       "       [ 3.45576591e+01,  1.15288334e+01],\n",
       "       [-5.64592209e+01, -5.72390175e+00],\n",
       "       [-3.34438286e+01,  1.69900703e+01],\n",
       "       [-4.52859154e+01, -6.48352289e+00],\n",
       "       [ 9.65519238e+00,  1.28830957e+00],\n",
       "       [ 9.18164597e+01,  1.84701042e+01],\n",
       "       [-7.12519226e+01, -6.59493542e+00],\n",
       "       [-4.28931847e+01, -3.80784011e+00],\n",
       "       [-4.36981354e+01, -2.19020844e+00],\n",
       "       [ 2.88949699e+01, -2.23834229e+01],\n",
       "       [ 3.47579613e+01,  2.83059502e+01],\n",
       "       [ 4.55793724e+01, -5.94430828e+00],\n",
       "       [ 9.50376053e+01,  1.84309330e+01],\n",
       "       [-1.14717598e+01, -2.75990505e+01],\n",
       "       [-2.05115962e+00, -1.26088533e+01],\n",
       "       [-5.89969330e+01,  1.25300579e+01],\n",
       "       [ 2.19655838e+01, -1.05961552e+01],\n",
       "       [ 8.76715755e+00,  2.25880032e+01],\n",
       "       [ 3.33405674e-01, -6.73074865e+00],\n",
       "       [-1.46466990e+01, -6.44146919e+00],\n",
       "       [ 3.26412048e+01, -1.61287355e+00],\n",
       "       [ 8.22037430e+01,  9.63291836e+00],\n",
       "       [ 5.78927650e+01, -3.56668401e+00],\n",
       "       [ 1.04422737e+02,  2.20610771e+01],\n",
       "       [-4.33157492e+00, -5.73487234e+00],\n",
       "       [ 7.98933945e+01,  1.80344658e+01],\n",
       "       [ 4.17962875e+01,  1.38109646e+01],\n",
       "       [ 5.58610802e+01, -8.09804249e+00],\n",
       "       [ 9.53341751e+01,  1.24530582e+01],\n",
       "       [-6.80495358e+00, -2.89056358e+01],\n",
       "       [-5.59390488e+01, -8.28787518e+00],\n",
       "       [ 9.38380146e+00,  2.85421777e+00],\n",
       "       [-6.58577156e+00, -3.81361580e+00],\n",
       "       [-3.97058754e+01, -1.54684744e+01],\n",
       "       [ 3.28549042e+01, -2.01341629e+01],\n",
       "       [ 1.03040619e+02,  2.12223434e+01],\n",
       "       [-4.59460068e+01,  9.52850282e-01],\n",
       "       [-4.81495285e+01,  2.35904045e+01],\n",
       "       [-6.71246338e+01,  2.59544048e+01],\n",
       "       [ 5.57398872e+01, -1.93341694e+01],\n",
       "       [ 9.41357040e+00,  1.74819050e+01],\n",
       "       [-4.89904594e+01, -5.74107647e+00],\n",
       "       [ 3.93006897e+00, -3.12431431e+01],\n",
       "       [ 9.80195465e+01,  2.16745472e+01],\n",
       "       [-1.80193768e+01, -8.32952690e+00],\n",
       "       [-6.42389526e+01,  2.72636890e+01],\n",
       "       [-1.27875614e+01, -1.22558603e+01],\n",
       "       [ 5.96343498e+01, -1.87693634e+01],\n",
       "       [-6.19048691e+01,  4.43119812e+00],\n",
       "       [ 5.44681053e+01, -1.18874063e+01],\n",
       "       [ 2.63549099e+01, -1.18031549e+01],\n",
       "       [ 5.38002052e+01, -6.76627541e+00],\n",
       "       [ 7.08635178e+01,  6.83833075e+00],\n",
       "       [-6.13764572e+01, -9.88635719e-01],\n",
       "       [-6.13714278e-01, -2.18680878e+01],\n",
       "       [ 7.36168671e+01, -7.06052721e-01],\n",
       "       [ 1.03996902e+02,  2.35503044e+01],\n",
       "       [-3.69415207e+01,  1.14068117e+01],\n",
       "       [ 5.76069212e+00, -1.30127726e+01],\n",
       "       [-4.73671494e+01,  2.63907671e+00],\n",
       "       [ 4.26855202e+01,  2.99050617e+01],\n",
       "       [ 8.24894619e+00, -9.72426236e-01],\n",
       "       [ 3.99356341e+00,  1.40070210e+01],\n",
       "       [-2.63608761e+01, -1.14323645e+01],\n",
       "       [ 9.54010620e+01,  2.08945217e+01],\n",
       "       [-5.38676605e+01,  6.99751377e+00],\n",
       "       [ 1.04165428e+02,  1.88411388e+01],\n",
       "       [-6.85537720e+01,  2.00237441e+00],\n",
       "       [-2.50054188e+01,  3.96455956e+00],\n",
       "       [-2.78533573e+01, -1.60546169e+01],\n",
       "       [-1.64278202e+01, -3.82482529e+01],\n",
       "       [-6.58474960e+01,  8.86606216e+00],\n",
       "       [-4.64883652e+01, -4.76493883e+00],\n",
       "       [ 2.87778130e+01, -1.23006058e+01],\n",
       "       [-4.61009102e+01,  2.46924038e+01],\n",
       "       [ 8.34371567e+01,  9.56807232e+00],\n",
       "       [-3.73764153e+01, -1.47581558e+01],\n",
       "       [ 3.93131218e+01, -6.85519743e+00],\n",
       "       [-3.74482822e+00, -1.12487688e+01],\n",
       "       [-6.09926529e+01,  2.65707626e+01],\n",
       "       [-5.79329185e+01,  2.35685310e+01],\n",
       "       [-2.44255657e+01, -2.76317139e+01],\n",
       "       [ 8.80333176e+01,  1.90781593e+01],\n",
       "       [-2.79517403e+01,  2.34788680e+00],\n",
       "       [ 8.49583588e+01,  2.18467674e+01],\n",
       "       [ 3.00246830e+01, -1.47320204e+01],\n",
       "       [-7.36307526e+01, -6.73465729e-01],\n",
       "       [ 3.08636932e+01,  1.59500427e+01],\n",
       "       [-3.42238388e+01,  1.35305634e+01],\n",
       "       [-2.12528477e+01,  4.80200672e+00],\n",
       "       [-5.25356522e+01,  2.72881031e+01],\n",
       "       [ 3.77349586e+01,  2.66870899e+01],\n",
       "       [ 4.82355595e+00, -3.12507324e+01],\n",
       "       [ 8.31906967e+01,  2.07762871e+01],\n",
       "       [ 4.75726128e+01, -1.51579323e+01],\n",
       "       [ 1.50452862e+01, -1.35874519e+01],\n",
       "       [ 4.69245758e+01, -1.43486013e+01],\n",
       "       [-1.65982132e+01,  1.05289974e+01],\n",
       "       [ 2.57243614e+01, -1.04485407e+01],\n",
       "       [-8.18573570e+00, -3.15456886e+01],\n",
       "       [ 3.06353378e+01, -1.82401931e+00],\n",
       "       [-1.68539848e+01, -9.54682922e+00],\n",
       "       [-2.06591301e+01,  6.37946987e+00],\n",
       "       [-2.02196789e+01, -3.63023109e+01],\n",
       "       [ 1.22791023e+01, -2.08628979e+01],\n",
       "       [-1.92645760e+01,  1.56694298e+01],\n",
       "       [-8.18212433e+01,  1.36077900e+01],\n",
       "       [ 7.10136948e+01,  7.65894842e+00],\n",
       "       [ 8.50773468e+01,  2.47470903e+00],\n",
       "       [-3.53381653e+01,  1.81367798e+01],\n",
       "       [ 1.12309284e+01,  2.36933556e+01],\n",
       "       [-1.87379208e+01, -1.06027451e+01],\n",
       "       [ 2.10144830e+00, -2.37947845e+01],\n",
       "       [-3.44326210e+01, -5.14755774e+00],\n",
       "       [-1.06827621e+01, -3.40838928e+01],\n",
       "       [ 4.10290337e+01,  3.08143864e+01],\n",
       "       [-9.24760151e+00, -3.01467152e+01],\n",
       "       [-3.51340485e+01, -3.81273723e+00],\n",
       "       [-9.14918613e+00, -2.63335762e+01],\n",
       "       [-1.24452744e+01, -2.17372322e+01],\n",
       "       [ 4.36924820e+01,  1.41263552e+01],\n",
       "       [-6.11360779e+01,  2.27754230e+01],\n",
       "       [-6.45503235e+01, -8.18598557e+00],\n",
       "       [-1.49396296e+01, -2.22174454e+01],\n",
       "       [-5.51879959e+01,  1.33771925e+01],\n",
       "       [ 5.15491600e+01, -1.43379526e+01],\n",
       "       [-1.90440254e+01, -2.88950062e+01],\n",
       "       [ 3.68907776e+01, -6.39176989e+00],\n",
       "       [ 5.85375595e+01, -5.19051409e+00],\n",
       "       [ 3.06422901e+01,  1.85650234e+01],\n",
       "       [-1.90190468e+01, -3.56701088e+01],\n",
       "       [ 1.05114326e+01, -1.94419479e+01],\n",
       "       [-2.80394249e+01,  1.56262903e+01],\n",
       "       [ 9.02199631e+01,  1.04937572e+01],\n",
       "       [ 5.23241730e+01, -3.26325464e+00],\n",
       "       [ 7.87935104e+01,  1.47647381e+01],\n",
       "       [-4.97907677e+01, -1.29399576e+01],\n",
       "       [ 5.42494240e+01, -1.86674805e+01],\n",
       "       [-1.41438026e+01, -9.86337090e+00],\n",
       "       [-6.19395790e+01,  1.97930775e+01],\n",
       "       [ 3.86055017e+00, -2.26787682e+01],\n",
       "       [ 5.66413002e+01, -9.95063877e+00],\n",
       "       [ 9.51054535e+01,  1.53312387e+01],\n",
       "       [ 2.03507042e+01, -1.04252672e+01],\n",
       "       [-5.90362358e+01,  2.24419823e+01],\n",
       "       [ 7.72864304e+01,  1.47727242e+01],\n",
       "       [-1.07672777e+01, -3.69235611e+01],\n",
       "       [-1.59510517e+00, -1.47122650e+01],\n",
       "       [ 7.97361450e+01,  6.52672768e+00],\n",
       "       [ 1.21153545e+01, -1.95741520e+01],\n",
       "       [-2.71197109e+01,  2.76766825e+00],\n",
       "       [-1.37849855e+01, -1.17104301e+01],\n",
       "       [ 9.34633026e+01,  1.30970163e+01],\n",
       "       [ 1.03212433e+02,  1.69828453e+01],\n",
       "       [ 1.89903450e+00,  1.62697296e+01],\n",
       "       [ 2.79856033e+01, -1.89053783e+01],\n",
       "       [-8.14472198e+01,  1.12084970e+01],\n",
       "       [ 1.09255219e+01,  1.84721470e+01],\n",
       "       [ 1.04846735e+01, -2.18884373e+01],\n",
       "       [-2.00312099e+01,  1.00517168e+01],\n",
       "       [-6.82975693e+01,  1.11133718e+01],\n",
       "       [-2.36971607e+01,  6.08880806e+00],\n",
       "       [-2.32455711e+01, -2.53030090e+01],\n",
       "       [ 3.10196590e+01, -1.85022621e+01],\n",
       "       [ 8.88636093e+01,  1.80414600e+01],\n",
       "       [-4.18955879e+01, -8.11113071e+00],\n",
       "       [-6.38867874e+01,  2.57004662e+01],\n",
       "       [-7.27506943e+01, -2.75972039e-01],\n",
       "       [-6.29493332e+01,  2.26876774e+01],\n",
       "       [-7.17715149e+01,  2.03624821e+00],\n",
       "       [-7.98889160e+01,  1.00059748e+01],\n",
       "       [ 1.39591722e+01,  1.89094696e+01],\n",
       "       [-6.39415627e+01,  8.37619495e+00],\n",
       "       [-3.59482117e+01,  1.94165649e+01],\n",
       "       [ 3.68073940e+00, -3.71936722e+01],\n",
       "       [ 3.00379734e+01, -1.23898802e+01],\n",
       "       [ 9.16978683e+01,  2.06960430e+01],\n",
       "       [ 2.88028584e+01, -1.43235188e+01],\n",
       "       [ 7.25908432e+01,  3.44847465e+00],\n",
       "       [-6.66050339e+01, -1.09553599e+00],\n",
       "       [-4.94638481e+01, -1.15665174e+00],\n",
       "       [ 3.51265564e+01,  1.94577465e+01],\n",
       "       [ 1.69218445e+00, -3.79443436e+01],\n",
       "       [ 3.10492039e+01, -7.32558155e+00],\n",
       "       [-1.39184341e+01,  1.61418171e+01],\n",
       "       [-6.57829590e+01,  1.32324619e+01],\n",
       "       [-2.92795753e+01,  1.34793530e+01],\n",
       "       [-6.71223526e+01,  8.13051128e+00],\n",
       "       [-1.74852467e+01, -3.88382492e+01],\n",
       "       [-4.43753166e+01, -1.17222471e+01],\n",
       "       [ 1.00253878e+01, -1.11521978e+01],\n",
       "       [-5.34554367e+01,  2.49195595e+01],\n",
       "       [ 9.64104385e+01,  1.90207195e+01],\n",
       "       [-1.82902050e+01,  2.17760677e+01],\n",
       "       [ 7.16481972e+00, -2.80636063e+01],\n",
       "       [ 7.72457581e+01,  1.97647800e+01],\n",
       "       [-2.57647724e+01, -1.63446693e+01],\n",
       "       [-1.15584230e+01, -1.09148302e+01],\n",
       "       [-6.71663666e+01,  5.79626894e+00],\n",
       "       [ 3.95396805e+01,  3.21438408e+01],\n",
       "       [ 9.75453568e+00,  1.91246414e+01],\n",
       "       [ 8.77376175e+01,  4.26962376e+00],\n",
       "       [ 8.01673813e+01,  3.89771628e+00],\n",
       "       [ 1.73995447e+00, -1.82751274e+01],\n",
       "       [-6.27507706e+01, -9.43938828e+00],\n",
       "       [ 9.86182213e+00,  6.68251657e+00],\n",
       "       [-1.57279406e+01,  8.58704758e+00],\n",
       "       [-6.42297897e+01,  1.34071760e+01],\n",
       "       [ 1.42011271e+01,  2.07404728e+01],\n",
       "       [ 2.92206211e+01, -7.56680107e+00],\n",
       "       [-4.44386635e+01,  2.16371107e+00],\n",
       "       [ 8.83083725e+01,  5.56535769e+00],\n",
       "       [ 1.04642265e+02,  2.04269867e+01],\n",
       "       [ 6.70545807e+01,  5.09328175e+00],\n",
       "       [ 2.92208576e+01,  2.02514744e+01],\n",
       "       [-2.85083122e+01, -1.48534975e+01],\n",
       "       [-1.60862064e+01,  7.26771545e+00],\n",
       "       [-1.93200874e+01,  7.90039730e+00],\n",
       "       [-7.08947830e+01,  1.63417892e+01],\n",
       "       [ 2.96669502e+01, -8.96534824e+00],\n",
       "       [ 2.87834053e+01,  1.93159771e+01],\n",
       "       [ 9.33820267e+01,  1.45583696e+01],\n",
       "       [ 2.72376881e+01, -2.02501240e+01],\n",
       "       [ 8.31966095e+01,  2.08208370e+00],\n",
       "       [ 5.24636221e+00, -3.42354889e+01],\n",
       "       [-4.78916664e+01,  1.50819826e+01],\n",
       "       [-7.14889297e+01,  1.14067135e+01],\n",
       "       [-6.39094505e+01, -2.17790437e+00],\n",
       "       [-1.95055943e+01,  2.28972511e+01],\n",
       "       [ 9.58264637e+00,  5.37808609e+00],\n",
       "       [-2.00602264e+01, -3.41307220e+01],\n",
       "       [ 7.68186493e+01,  1.02102385e+01],\n",
       "       [-4.61731415e+01,  1.11172085e+01],\n",
       "       [-6.57793198e+01, -4.79829264e+00],\n",
       "       [ 7.43329315e+01,  1.08887997e+01],\n",
       "       [-3.55712128e+01, -1.14278040e+01],\n",
       "       [ 3.12114754e+01, -2.03440247e+01],\n",
       "       [-7.55140762e+01,  5.25304794e+00],\n",
       "       [ 9.86564732e+00, -2.82802982e+01],\n",
       "       [ 3.33062553e+01,  1.81874332e+01],\n",
       "       [-6.90032272e+01,  5.80240154e+00],\n",
       "       [-1.73893108e+01, -1.24682465e+01],\n",
       "       [-2.73194218e+01, -1.45424318e+01],\n",
       "       [ 8.86314621e+01,  2.05480938e+01],\n",
       "       [-5.98203888e+01,  4.85920763e+00],\n",
       "       [ 7.89792633e+01,  1.27634840e+01],\n",
       "       [-5.48319054e+01,  9.95334566e-01],\n",
       "       [-5.44605370e+01, -9.30038071e+00],\n",
       "       [-1.24219589e+01,  1.08545990e+01],\n",
       "       [ 3.93206048e+00, -3.82927818e+01],\n",
       "       [-3.55838356e+01, -1.25422068e+01],\n",
       "       [ 1.14469099e+01, -2.32283325e+01],\n",
       "       [ 9.54803925e+01,  1.72527676e+01],\n",
       "       [ 1.47934589e+01, -1.53373461e+01],\n",
       "       [ 3.75622702e+00, -1.42388830e+01],\n",
       "       [ 2.87462864e+01, -1.54520667e+00],\n",
       "       [ 5.68807640e+01, -4.27209997e+00],\n",
       "       [-2.31215096e+01, -2.64700565e+01],\n",
       "       [-3.91930656e+01, -3.97339725e+00],\n",
       "       [-3.78498764e+01,  3.30410808e-01],\n",
       "       [-9.54335117e+00, -3.45668869e+01],\n",
       "       [-6.85088120e+01,  2.18525620e+01],\n",
       "       [ 3.20693092e+01, -5.67590141e+00],\n",
       "       [ 1.28864908e+01, -2.49629173e+01],\n",
       "       [-5.67050362e+01,  1.28827610e+01],\n",
       "       [-7.38845978e+01,  1.03698940e+01],\n",
       "       [ 5.07761688e+01, -1.58033381e+01],\n",
       "       [-3.61427116e+01, -1.47264051e+01],\n",
       "       [-5.09177818e+01,  2.20870438e+01],\n",
       "       [-3.89682426e+01, -5.52251959e+00],\n",
       "       [-5.52669945e+01,  2.93094997e+01],\n",
       "       [ 9.83279419e+01,  1.57370987e+01],\n",
       "       [ 3.40914879e+01, -1.40764503e+01],\n",
       "       [-2.95370827e+01,  1.69637909e+01],\n",
       "       [-5.05226479e+01,  8.07573700e+00],\n",
       "       [ 1.01671974e+02,  2.26577168e+01],\n",
       "       [ 1.59937544e+01, -1.63422966e+01],\n",
       "       [-3.05962582e+01, -1.46446571e+01],\n",
       "       [ 4.67706375e+01,  1.13042574e+01],\n",
       "       [-6.76577682e+01,  2.26618710e+01],\n",
       "       [-7.39411469e+01,  1.34660387e+01],\n",
       "       [ 6.76909256e+01,  5.64287281e+00],\n",
       "       [ 3.07480125e+01, -2.15670147e+01],\n",
       "       [-2.24305573e+01, -3.05691299e+01],\n",
       "       [-5.13225365e+01, -4.68708420e+00],\n",
       "       [-5.71812515e+01, -2.57280439e-01],\n",
       "       [-2.15877876e+01, -1.02322321e+01],\n",
       "       [-6.37700386e+01,  1.04062109e+01],\n",
       "       [ 4.88097992e+01, -2.05946865e+01],\n",
       "       [ 4.10730858e+01,  2.87092705e+01],\n",
       "       [ 8.54929810e+01, -3.29026394e-02],\n",
       "       [-4.25745049e+01, -1.16689796e+01],\n",
       "       [-6.47446442e+01,  1.18316298e+01],\n",
       "       [-7.58777924e+01, -1.62674427e+00],\n",
       "       [-7.91387939e+01,  1.14450941e+01],\n",
       "       [ 7.54672146e+00,  9.45716538e-03],\n",
       "       [-5.27195053e+01,  2.07373486e+01],\n",
       "       [-1.39009247e+01, -2.91888924e+01],\n",
       "       [-2.69176096e-01, -7.37993526e+00],\n",
       "       [ 5.13806496e+01, -1.77160759e+01],\n",
       "       [ 4.56247063e+01,  1.45012178e+01],\n",
       "       [-7.76028519e+01, -2.79921126e+00],\n",
       "       [ 3.37461433e+01, -1.67903652e+01],\n",
       "       [-7.60093231e+01,  2.09791622e+01],\n",
       "       [ 3.73794441e+01,  1.72952423e+01],\n",
       "       [ 5.75170631e+01, -1.99255409e+01],\n",
       "       [ 3.58685837e+01,  3.01076241e+01],\n",
       "       [ 3.89214516e+01, -8.14000225e+00],\n",
       "       [-2.41588855e+00, -1.63046131e+01],\n",
       "       [ 2.96079559e+01, -4.51064527e-01],\n",
       "       [ 1.05479713e+02,  2.38362160e+01],\n",
       "       [ 5.57905464e+01, -1.02806063e+01],\n",
       "       [-3.52115822e+01,  1.26424246e+01],\n",
       "       [ 4.96214523e+01, -7.73113251e+00],\n",
       "       [-1.18759775e+00, -1.79863796e+01],\n",
       "       [ 6.63400745e+00,  1.99207878e+01],\n",
       "       [-7.72920074e+01,  1.30935335e+01],\n",
       "       [-6.82781067e+01,  2.81610661e+01],\n",
       "       [-6.53701706e+01, -1.25243068e+00],\n",
       "       [ 4.77676315e+01,  1.48425274e+01],\n",
       "       [-2.12827168e+01,  1.32587214e+01],\n",
       "       [-2.06653385e+01, -2.78988667e+01],\n",
       "       [ 3.79833908e+01,  1.50479383e+01],\n",
       "       [ 4.02011147e+01,  1.27136497e+01],\n",
       "       [ 9.72598419e+01,  2.07168846e+01],\n",
       "       [ 3.60847702e+01,  1.31517706e+01],\n",
       "       [-7.48832626e+01,  1.97606468e+01],\n",
       "       [-6.53216858e+01,  1.78129399e+00],\n",
       "       [-1.44521761e+00, -2.01782703e+01],\n",
       "       [-2.09778023e+01, -3.27032051e+01],\n",
       "       [ 7.89365149e+00, -1.99899769e+01],\n",
       "       [-3.45007362e+01,  1.62420788e+01],\n",
       "       [ 4.13786430e+01,  2.65984173e+01],\n",
       "       [-4.51882668e+01, -2.34259272e+00],\n",
       "       [ 8.06177750e+01,  7.73325968e+00],\n",
       "       [-3.68897209e+01, -9.07770729e+00],\n",
       "       [-7.09013901e+01, -7.39069271e+00],\n",
       "       [-6.05527611e+01, -6.23604441e+00],\n",
       "       [-5.28886681e+01, -1.07684746e+01],\n",
       "       [ 4.61763344e+01,  1.34734631e+01],\n",
       "       [ 7.35857468e+01,  3.08185363e+00],\n",
       "       [-8.04505081e+01,  8.05151749e+00],\n",
       "       [ 1.34175310e+01, -1.40914803e+01],\n",
       "       [-5.27232246e+01,  1.88994923e+01],\n",
       "       [ 3.84676056e+01,  1.13109236e+01],\n",
       "       [-2.24707527e+01, -9.33141232e+00],\n",
       "       [-3.88276100e+01, -8.07399690e-01],\n",
       "       [ 5.82031898e+01, -8.91008759e+00],\n",
       "       [-1.53161812e+01,  9.74678135e+00],\n",
       "       [-4.98023071e+01, -3.17090058e+00],\n",
       "       [-5.95625648e+01,  1.93717461e+01],\n",
       "       [ 1.57909269e+01, -1.43512831e+01],\n",
       "       [ 8.02064285e+01,  2.03027706e+01],\n",
       "       [-3.20911865e+01,  1.40782957e+01],\n",
       "       [ 1.01986450e+02,  1.66774788e+01],\n",
       "       [ 9.15369568e+01,  1.28657293e+01],\n",
       "       [ 3.80431128e+00,  1.78694592e+01],\n",
       "       [-5.93134956e+01, -7.68380213e+00],\n",
       "       [-5.16079140e+01,  2.57458858e+01],\n",
       "       [-2.04168072e+01, -2.92836590e+01],\n",
       "       [ 8.01480865e+01,  2.36771798e+00],\n",
       "       [-4.79277115e+01, -6.64035618e-01],\n",
       "       [-5.55873985e+01, -4.78280115e+00],\n",
       "       [-1.40635700e+01, -2.31958866e+01],\n",
       "       [-7.79612656e+01,  1.50389500e+01],\n",
       "       [ 7.49328766e+01,  9.53903484e+00],\n",
       "       [ 4.99725952e+01, -1.93766785e+01],\n",
       "       [-5.08472290e+01, -1.14898424e+01],\n",
       "       [ 5.74287376e+01, -1.19832726e+01],\n",
       "       [-1.61445694e+01,  5.42817783e+00],\n",
       "       [-4.67869682e+01,  1.43523321e+01],\n",
       "       [ 7.87487869e+01,  1.78219891e+01],\n",
       "       [ 3.97101822e+01,  2.95647392e+01],\n",
       "       [-1.86639900e+01, -3.74002037e+01],\n",
       "       [ 7.83805609e+00,  1.91728554e+01],\n",
       "       [ 4.67992249e+01, -5.75596285e+00],\n",
       "       [ 5.53853607e+01, -3.24366331e+00],\n",
       "       [-6.05633583e+01,  1.23766022e+01],\n",
       "       [-6.61058197e+01,  1.67557354e+01],\n",
       "       [-6.57542191e+01,  2.85961704e+01],\n",
       "       [ 8.18661804e+01,  3.42739606e+00],\n",
       "       [-2.74062347e+01, -8.72702885e+00],\n",
       "       [ 1.06675949e+02,  2.31879253e+01],\n",
       "       [-8.08313084e+00, -2.91543961e+01],\n",
       "       [-7.39032211e+01,  1.67216549e+01],\n",
       "       [-5.85715408e+01,  1.92199364e+01],\n",
       "       [-6.40268250e+01, -1.09810686e+01],\n",
       "       [-3.72460518e+01, -3.07342744e+00],\n",
       "       [ 9.81029434e+01,  1.71209240e+01],\n",
       "       [ 1.25969076e+01, -2.77298889e+01],\n",
       "       [-3.81916580e+01,  1.89806824e+01],\n",
       "       [-7.24049835e+01,  1.69509392e+01],\n",
       "       [ 4.89093666e+01, -9.46580029e+00],\n",
       "       [ 7.58848715e+00,  2.09997845e+01],\n",
       "       [ 7.69918976e+01,  1.15357027e+01],\n",
       "       [ 5.48045654e+01, -5.37849045e+00],\n",
       "       [-1.10741978e+01, -2.37739468e+01],\n",
       "       [ 1.01947765e+01,  8.27548885e+00],\n",
       "       [ 3.66372185e+01,  2.89366093e+01],\n",
       "       [-1.60988770e+01, -2.45359650e+01],\n",
       "       [-1.16626883e+01, -3.26046715e+01],\n",
       "       [ 7.48897781e+01,  1.83242095e+00],\n",
       "       [ 5.67898979e+01, -1.83896923e+01],\n",
       "       [-1.10460138e+01, -2.85957909e+01],\n",
       "       [-6.93196182e+01,  1.02925777e+01],\n",
       "       [ 5.91336060e+00, -2.23484154e+01],\n",
       "       [-5.23193550e+01,  6.17415142e+00],\n",
       "       [ 2.36860466e+00, -3.87086601e+01],\n",
       "       [-6.30405426e+01,  2.83428121e+00],\n",
       "       [-5.04143715e+01,  6.80095243e+00],\n",
       "       [ 9.17442474e+01,  1.14056215e+01],\n",
       "       [ 1.13217115e+01, -2.77580738e+01],\n",
       "       [-5.79823685e+01,  2.09749069e+01],\n",
       "       [ 8.18478088e+01,  7.85322475e+00],\n",
       "       [-1.42116661e+01, -1.80225334e+01],\n",
       "       [-4.43678932e+01, -4.74647856e+00],\n",
       "       [-1.92774830e+01, -2.69615231e+01],\n",
       "       [-1.04359989e+01,  1.26436596e+01],\n",
       "       [-5.76596413e+01, -8.16993904e+00],\n",
       "       [ 4.48625565e+01, -1.39008093e+01],\n",
       "       [ 3.97034340e+01,  2.72638893e+01],\n",
       "       [-8.20140457e+01,  6.81080770e+00],\n",
       "       [-1.98994350e+01,  2.13859730e+01],\n",
       "       [ 9.80571938e+00,  2.38680458e+01],\n",
       "       [ 3.89199829e+01,  1.50981655e+01],\n",
       "       [ 3.84246635e+01, -5.98032713e+00],\n",
       "       [ 3.66246262e+01, -8.99461460e+00],\n",
       "       [-6.90412750e+01, -2.64175224e+00],\n",
       "       [ 5.20726061e+00,  1.31460762e+01],\n",
       "       [-4.42471428e+01,  4.43616718e-01],\n",
       "       [ 1.90470028e+00, -1.35100155e+01],\n",
       "       [ 1.36118135e+01,  2.20817890e+01],\n",
       "       [ 7.86063309e+01,  1.94762192e+01],\n",
       "       [-3.50184894e+00, -7.15411663e+00],\n",
       "       [-9.64361858e+00,  1.11412430e+01],\n",
       "       [ 3.82441254e+01,  1.26475706e+01],\n",
       "       [-4.85399704e+01, -1.45069952e+01],\n",
       "       [ 3.12822399e+01,  6.06775165e-01],\n",
       "       [ 3.19504337e+01, -1.53604441e+01],\n",
       "       [ 4.30090485e+01, -1.73814583e+01],\n",
       "       [-1.91963406e+01,  2.06639175e+01],\n",
       "       [-1.85263748e+01,  1.55043688e+01],\n",
       "       [ 3.20840454e+01, -3.32295060e+00],\n",
       "       [-1.85230770e+01,  8.73489952e+00],\n",
       "       [-5.89734955e+01,  2.55000153e+01],\n",
       "       [-5.89137115e+01,  4.88164663e+00],\n",
       "       [ 3.69516869e+01,  3.08556194e+01],\n",
       "       [ 3.41196289e+01,  1.74197407e+01],\n",
       "       [-4.49843864e+01,  1.50160465e+01],\n",
       "       [-5.33717384e+01,  1.23826635e+00],\n",
       "       [-3.92909013e-02, -1.07624636e+01],\n",
       "       [-1.58610649e+01, -2.98021393e+01],\n",
       "       [ 4.92474937e+01, -6.58613825e+00],\n",
       "       [ 5.61974182e+01, -5.77187121e-01],\n",
       "       [ 7.34014816e+01,  1.29880500e+00],\n",
       "       [ 3.25882225e+01, -1.65127964e+01],\n",
       "       [-3.18973217e+01,  1.65045605e+01],\n",
       "       [ 7.54077435e+00, -9.66243267e+00],\n",
       "       [-6.84157639e+01,  1.31489716e+01],\n",
       "       [-7.43567963e+01,  1.15259333e+01],\n",
       "       [-3.33559990e+01, -4.86702061e+00],\n",
       "       [ 5.32855530e+01, -8.84144974e+00],\n",
       "       [-7.27676468e+01,  8.23848343e+00],\n",
       "       [-5.13356972e+01,  1.73621407e+01],\n",
       "       [ 3.22735214e+01,  1.64352398e+01],\n",
       "       [ 1.05395346e+01,  1.00488911e+01],\n",
       "       [ 5.31403780e+00, -9.71212864e+00],\n",
       "       [-3.81198049e+00, -2.03667793e+01],\n",
       "       [-2.10400009e+01, -3.85426331e+01],\n",
       "       [ 4.94945755e+01, -1.55550394e+01],\n",
       "       [ 3.56878166e+01,  1.43515720e+01],\n",
       "       [-5.83392763e+00, -5.31258631e+00],\n",
       "       [ 4.02861633e+01,  2.60067425e+01],\n",
       "       [-4.24876366e+01,  3.46645594e+00],\n",
       "       [-7.69351959e+01,  1.03284845e+01],\n",
       "       [-2.82475681e+01, -7.63785219e+00],\n",
       "       [ 1.63987255e+01,  2.32448425e+01],\n",
       "       [ 8.44079494e+00, -1.05112886e+01],\n",
       "       [ 1.43182631e+01,  2.55065861e+01],\n",
       "       [ 2.36440144e+01, -9.58353424e+00],\n",
       "       [-1.66654911e+01, -1.70965767e+01],\n",
       "       [ 8.57502823e+01,  2.28975296e+01],\n",
       "       [ 1.85121453e+00, -1.21588612e+01],\n",
       "       [ 8.73825760e+01,  1.68825054e+01],\n",
       "       [ 5.94878273e+01, -3.61091304e+00],\n",
       "       [-3.62743795e-01, -1.36649256e+01],\n",
       "       [-1.35648031e+01,  1.79254990e+01],\n",
       "       [-6.84388885e+01,  2.48844251e-01],\n",
       "       [-8.66418743e+00,  1.09120150e+01]], dtype=float32)"
      ]
     },
     "execution_count": 123,
     "metadata": {},
     "output_type": "execute_result"
    }
   ],
   "source": [
    "tSNE_map"
   ]
  },
  {
   "cell_type": "code",
   "execution_count": 124,
   "id": "e9ee41e3",
   "metadata": {},
   "outputs": [
    {
     "data": {
      "text/plain": [
       "(-100.0, 100.0)"
      ]
     },
     "execution_count": 124,
     "metadata": {},
     "output_type": "execute_result"
    },
    {
     "data": {
      "image/png": "[encoded data removed]",
      "text/plain": [
       "<Figure size 640x480 with 1 Axes>"
      ]
     },
     "metadata": {},
     "output_type": "display_data"
    }
   ],
   "source": [
    "x, y = tSNE_map[:,0], tSNE_map[:,1]\n",
    "redshift = cosmos_2020['redshift']\n",
    "colormap = ['r', 'b', 'g', 'y', 'm', 'k', 'c']\n",
    "\n",
    "for i,label in enumerate(labels):\n",
    "    plt.scatter(x[redshift==label],y[redshift==label],c=colormap[i])\n",
    "    \n",
    "plt.ylim(-100, 100)\n",
    "plt.xlim(-100, 100)"
   ]
  },
  {
   "cell_type": "markdown",
   "id": "920fdd41",
   "metadata": {},
   "source": [
    "$\\textbf{Finally, repeat this exercise for different values of the perplexity. How does changing the perplexity change your 2D map?}$\n",
    "\n",
    "larger the perplexity the tighter they are packed\n",
    "this kind of logically makes sense in terms of thinking of perplexity like a variance\n",
    "if uncertainty is higher than you are more ok with tightly packing disimilar values\n",
    "\n",
    "\n",
    "$\\textbf{What other - perhaps unstated - hyperparameter choice impacts your ability to do the class separation or interpret your 2D map? }$\n",
    "\n",
    "$\\textbf{If this were a problem to come up in your research, how might you use your knowledge of the photometry and galaxy SEDs to improve the class separation in the 2D SNE plane?}$\n",
    "\n"
   ]
  },
  {
   "cell_type": "markdown",
   "id": "582b93f0",
   "metadata": {},
   "source": [
    "## [Optional] Challenge Problem: Implementing your own SOM\n",
    "\n",
    "(Very rough) pseudo code for a SOM implementation is provided below: \n",
    "\n",
    "$\\textit{If you attempt this exercise, please provide feedback as this is intended as a problem for a future session.}$"
   ]
  },
  {
   "cell_type": "raw",
   "id": "f3437087",
   "metadata": {},
   "source": [
    "Convenience functions: \n",
    "\n",
    "distance:\n",
    "    given two data points, compute the distance\n",
    "\n",
    "best_matching_unit:\n",
    "    for a given data point:\n",
    "        Compute all distances to cells in the SOM\n",
    "        update the shortest distance\n",
    "    return shortest distance\n",
    "\n",
    "decay: \n",
    "    for a given step in the training:\n",
    "        adjust neighborhood size and learning rate to ensure convergence\n",
    "\n",
    "Training routine:\n",
    "For each step in the training: \n",
    "    update the hyperparameters (learning_rate, neighborhood size)\n",
    "    Pick a random data point \n",
    "    determine the winning cell in the SOM (closest match to the data)\n",
    "    for all points near the winner, move them closer"
   ]
  }
 ],
 "metadata": {
  "celltoolbar": "Slideshow",
  "kernelspec": {
   "display_name": "Python 3 (ipykernel)",
   "language": "python",
   "name": "python3"
  },
  "language_info": {
   "codemirror_mode": {
    "name": "ipython",
    "version": 3
   },
   "file_extension": ".py",
   "mimetype": "text/x-python",
   "name": "python",
   "nbconvert_exporter": "python",
   "pygments_lexer": "ipython3",
   "version": "3.8.17"
  }
 },
 "nbformat": 4,
 "nbformat_minor": 5
}
