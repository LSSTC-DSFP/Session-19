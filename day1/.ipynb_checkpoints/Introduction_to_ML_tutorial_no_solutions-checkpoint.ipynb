{
 "cells": [
  {
   "cell_type": "markdown",
   "id": "75dba511",
   "metadata": {},
   "source": [
    "# Tutorial for Introduction to ML Lecture\n",
    "\n",
    "version 0.1, September 2023\n",
    "\n",
    "Bryan Scott, CIERA/Northwestern"
   ]
  },
  {
   "cell_type": "markdown",
   "id": "c73c6b0f",
   "metadata": {},
   "source": [
    "## Problem 1: Bayes Classifiers"
   ]
  },
  {
   "cell_type": "markdown",
   "id": "07842041",
   "metadata": {},
   "source": [
    "A good starting point for Machine Learning is the Bayes classifier. The basic idea is to assign the most probable label to each data point using Bayes theorem, we take:\n",
    "\n",
    "$$\n",
    "p(y | x_n) \\propto p(y)p(x_i, ..., x_n | y)\n",
    "$$\n",
    "\n",
    "where y is a label for a data point and the $x_n$ are the features of the data that we want to use to classify each data point. A $\\textit{Naive} Bayes$ classifier makes an important simplifying assumptions that gives it the name - it assumes that the conditional probabilities are independent, $p(x_i, ..., x_n | y) = p(x_i|y)... p(x_n | y)$. That is, the probability of observing any individual feature doesn't depend on any of the other features. Our task is to construct this classifier from a set of examples we've observed previously and compare it to new data. "
   ]
  },
  {
   "cell_type": "markdown",
   "id": "40084db8",
   "metadata": {},
   "source": [
    "### Part 0: Load and split the data"
   ]
  },
  {
   "cell_type": "code",
   "execution_count": 1,
   "id": "5a1d0a57",
   "metadata": {},
   "outputs": [
    {
     "name": "stderr",
     "output_type": "stream",
     "text": [
      "/Users/aizhanakhmetzhanova/opt/anaconda3/lib/python3.9/site-packages/scipy/__init__.py:146: UserWarning: A NumPy version >=1.16.5 and <1.23.0 is required for this version of SciPy (detected version 1.23.5\n",
      "  warnings.warn(f\"A NumPy version >={np_minversion} and <{np_maxversion}\"\n"
     ]
    }
   ],
   "source": [
    "import pandas as pd\n",
    "import numpy as np\n",
    "from scipy.stats import norm\n",
    "import matplotlib.pyplot as plt"
   ]
  },
  {
   "cell_type": "code",
   "execution_count": 3,
   "id": "e543f3b7",
   "metadata": {},
   "outputs": [],
   "source": [
    "#lsst_data[0:1000].to_csv('session_19_DC2_subset.csv')"
   ]
  },
  {
   "cell_type": "markdown",
   "id": "3c682ccc",
   "metadata": {},
   "source": [
    "### Loading and splitting the data. \n",
    "\n",
    "Read in the data, then start by selecting the id, fluxes, and object truth type in the lsst data file you've been provided. \n",
    "\n",
    "Once you have selected those, randomly split the data into two arrays, one containing 80% of the data, and a second array containing 20% of the data. "
   ]
  },
  {
   "cell_type": "code",
   "execution_count": 57,
   "id": "94094b3b",
   "metadata": {},
   "outputs": [],
   "source": [
    "lsst_data = pd.read_csv('simulated_extragalactic_data.csv') #path to your data\n",
    "\n",
    "lsst_data_to_classify = lsst_data[['id', 'flux_g', 'flux_i', 'flux_r', 'flux_u', 'flux_y', 'flux_z', 'truth_type']]\n",
    "lsst_data_to_classify = lsst_data_to_classify[~(lsst_data_to_classify['truth_type'] == 3)]\n",
    "#random_data = \n",
    "\n",
    "train_data = lsst_data_to_classify.sample(frac = 0.8)\n",
    "test_data = lsst_data_to_classify.drop(train_data.index)\n"
   ]
  },
  {
   "cell_type": "code",
   "execution_count": 58,
   "id": "491088f8",
   "metadata": {},
   "outputs": [
    {
     "data": {
      "text/plain": [
       "array([1, 2])"
      ]
     },
     "execution_count": 58,
     "metadata": {},
     "output_type": "execute_result"
    }
   ],
   "source": [
    "lsst_data_to_classify['truth_type'].unique()"
   ]
  },
  {
   "cell_type": "markdown",
   "id": "99f2de21",
   "metadata": {},
   "source": [
    "### Part 1: Estimate Class Frequency in the training set\n",
    "\n",
    "One of the ingredients in our classifier is p(y), the unconditional class probabilities. \n",
    "\n",
    "We can get this by counting the number of rows belonging to each class in train_data and dividing by the length of the training data set. "
   ]
  },
  {
   "cell_type": "code",
   "execution_count": 59,
   "id": "0186b8f1",
   "metadata": {},
   "outputs": [
    {
     "name": "stdout",
     "output_type": "stream",
     "text": [
      "0.8320802005012531 0.16791979949874686\n"
     ]
    }
   ],
   "source": [
    "def estimate_class_probabilities(x_train):\n",
    "    \"\"\"\n",
    "    Computes unconditional class probabilities. \n",
    "     \n",
    "    Args:\n",
    "        x_train (array): training data for the classifier\n",
    " \n",
    "    Returns:\n",
    "        ints p1, p2: unconditional probability of an element of the training set belonging to class 1\n",
    "    \"\"\"\n",
    "    len_dset = x_train.shape[0]\n",
    "    p1 = (x_train['truth_type']==1).sum()/len_dset\n",
    "    p2 = (x_train['truth_type']==2).sum()/len_dset\n",
    "    return p1, p2\n",
    "\n",
    "p1, p2 = estimate_class_probabilities(train_data)\n",
    "print(p1, p2)"
   ]
  },
  {
   "cell_type": "markdown",
   "id": "ca1aa268",
   "metadata": {},
   "source": [
    "### Part 2:  Feature Likelihoods\n",
    "\n",
    "We are assuming that the relationship between the classes and feature probabilities are related via:\n",
    "\n",
    "$p(x_i, ..., x_n | y) =  p(x_i|y)... p(x_n | y)$\n",
    "\n",
    "however, we still need to make an assumption about the functional form of the $p(x_i | y)$. As a simple case, we will assume $p(x_i | y)$ follows a Gaussian distribution given by:\n",
    "\n",
    "$$\n",
    "p(x_i | y) = \\frac{1}{\\sqrt{2 \\pi \\sigma_y}} \\exp{\\left(-\\frac{(x_i - \\mu)^2}{\\sigma_y^2}\\right)}\n",
    "$$\n",
    "\n",
    "and we will make a maximum likelihood estimate of $\\mu$ and $\\sigma_y$ from the data. This means using empirical estimates $\\bar{x}$ and $\\hat{\\sigma}$ as estimators of the true parameters $\\mu$ and $\\sigma_y$. \n",
    "\n",
    "Write a fitting function that takes the log of the fluxes and returns an estimate of the parameters of the per-feature likelihoods for each class."
   ]
  },
  {
   "cell_type": "code",
   "execution_count": 60,
   "id": "609b65b7",
   "metadata": {},
   "outputs": [],
   "source": [
    "def per_feature_likelihood_parameters(x_train, label):\n",
    "    \"\"\"\"\n",
    "    Computes MAP estimates for the class conditional likelihood. \n",
    "     \n",
    "    Args:\n",
    "        x_train (array or pd series): training data for the classifier\n",
    "        label (int): training labels for the classifier \n",
    " \n",
    "    Returns:\n",
    "        means, stdevs (array): MAP estimates of the Gaussian conditional probability distributions for a specific class\n",
    "    \"\"\"\n",
    "    #x_train_class = train_data.loc[train_data['truth_type'] == label]\n",
    "    #means = x_train_class.loc[train_data['truth_type'] == label][['flux_g', 'flux_i', 'flux_r', 'flux_u', 'flux_y', 'flux_z']].mean()\n",
    "    #stdevs = x_train_class.loc[train_data['truth_type'] == label][['flux_g', 'flux_i', 'flux_r', 'flux_u', 'flux_y', 'flux_z']].std()\n",
    "    \n",
    "    means = np.log(train_data.loc[train_data['truth_type'] == label][['flux_g', 'flux_i', 'flux_r', 'flux_u', 'flux_y', 'flux_z']]).mean()\n",
    "    stdevs = np.log(train_data.loc[train_data['truth_type'] == label][['flux_g', 'flux_i', 'flux_r', 'flux_u', 'flux_y', 'flux_z']]).std()\n",
    "    \n",
    "    return means, stdevs\n"
   ]
  },
  {
   "cell_type": "code",
   "execution_count": 61,
   "id": "90590520",
   "metadata": {},
   "outputs": [
    {
     "data": {
      "text/plain": [
       "flux_g    6.971252\n",
       "flux_i    8.307006\n",
       "flux_r    7.761517\n",
       "flux_u    5.278125\n",
       "flux_y    8.661954\n",
       "flux_z    8.542979\n",
       "dtype: float64"
      ]
     },
     "execution_count": 61,
     "metadata": {},
     "output_type": "execute_result"
    }
   ],
   "source": [
    "per_feature_likelihood_parameters(train_data, 2)[0]"
   ]
  },
  {
   "cell_type": "code",
   "execution_count": 62,
   "id": "12289872",
   "metadata": {},
   "outputs": [
    {
     "data": {
      "text/plain": [
       "flux_g    3.569217\n",
       "flux_i    3.220594\n",
       "flux_r    3.387434\n",
       "flux_u    3.922922\n",
       "flux_y    3.135953\n",
       "flux_z    3.160724\n",
       "dtype: float64"
      ]
     },
     "execution_count": 62,
     "metadata": {},
     "output_type": "execute_result"
    }
   ],
   "source": [
    "per_feature_likelihood_parameters(train_data, 2)[1]"
   ]
  },
  {
   "cell_type": "markdown",
   "id": "16dbeb61",
   "metadata": {},
   "source": [
    "### Part 3: MAP Estimates of the Class Probabilities\n",
    "\n",
    "Now that we have the unconditional class probabilities and the parameters of the per feature likelihoods in hand, we can put this all together to build the classifier. Use the methods you have already written to write a function that takes in the training data and returns fit parameters. Once you have done that, write a method that takes the fit parameters as an argument and predicts the class of new (and unseen) data. "
   ]
  },
  {
   "cell_type": "code",
   "execution_count": 63,
   "id": "05a17f4d",
   "metadata": {},
   "outputs": [],
   "source": [
    "# build the classifier\n",
    "\n",
    "# solved \n",
    "\n",
    "def fit(x_train):\n",
    "    \"\"\"\"\n",
    "    Convenience function to perform fitting on the training data\n",
    "     \n",
    "    Args:\n",
    "        x_train (array or pd series): training data for the classifier\n",
    " \n",
    "    Returns:\n",
    "        p1, p2, class_1_mean, class_2_mean, class_1_std, class_2_std: see documentation for per_feature_likelihood_parameters\n",
    "    \"\"\"\n",
    "    \n",
    "    # compute probabilities and MAP estimates of the Gaussian distribution's parameters using the methods you wrote above\n",
    "    p1, p2 = estimate_class_probabilities(x_train)\n",
    "    \n",
    "    class_1_mean, class_1_std = per_feature_likelihood_parameters(x_train, 1)\n",
    "    class_2_mean, class_2_std = per_feature_likelihood_parameters(x_train, 2)\n",
    "    return p1, p2, class_1_mean, class_2_mean, class_1_std, class_2_std\n"
   ]
  },
  {
   "cell_type": "code",
   "execution_count": 65,
   "id": "9d3c7074",
   "metadata": {},
   "outputs": [],
   "source": [
    " p1, p2, class_1_mean, class_2_mean, class_1_std, class_2_std = fit(train_data)"
   ]
  },
  {
   "cell_type": "code",
   "execution_count": 66,
   "id": "a9015d0b",
   "metadata": {},
   "outputs": [
    {
     "data": {
      "text/plain": [
       "flux_g    3.175449\n",
       "flux_i    3.753061\n",
       "flux_r    3.482477\n",
       "flux_u    2.768780\n",
       "flux_y    4.096621\n",
       "flux_z    3.942157\n",
       "dtype: float64"
      ]
     },
     "execution_count": 66,
     "metadata": {},
     "output_type": "execute_result"
    }
   ],
   "source": [
    "class_1_mean"
   ]
  },
  {
   "cell_type": "code",
   "execution_count": 75,
   "id": "8c0aec66",
   "metadata": {},
   "outputs": [
    {
     "data": {
      "text/plain": [
       "6         0.017422\n",
       "15        0.033539\n",
       "19        0.032811\n",
       "22       -0.000089\n",
       "23        0.005145\n",
       "          ...     \n",
       "988       2.062806\n",
       "990    1387.455468\n",
       "995       0.133647\n",
       "996      -0.005612\n",
       "998       0.057714\n",
       "Length: 200, dtype: float64"
      ]
     },
     "execution_count": 75,
     "metadata": {},
     "output_type": "execute_result"
    }
   ],
   "source": [
    "np.product((np.log(test_data[['flux_g', 'flux_i', 'flux_r', 'flux_u', 'flux_y', 'flux_z']]) - class_1_mean)/class_1_std, axis=1)"
   ]
  },
  {
   "cell_type": "code",
   "execution_count": 98,
   "id": "01867cba",
   "metadata": {},
   "outputs": [],
   "source": [
    "\n",
    "def predict(x_test, class_probability, class_means, class_dev):\n",
    "    \"\"\"\"\n",
    "    Predict method\n",
    "     \n",
    "    Args:\n",
    "        x_test (array): data to perform classification on\n",
    "        class_probability (array): unconditional class probabilities\n",
    "        class_means, class_dev (array): MAP estimates produced by the fit method\n",
    " \n",
    "    Returns:\n",
    "        predict_List (list): class membership predictions\n",
    "    \"\"\"\n",
    "    x_test = np.log(x_test[['flux_g', 'flux_i', 'flux_r', 'flux_u', 'flux_y', 'flux_z']])\n",
    "    class_1_mean = class_means[0]\n",
    "    class_2_mean = class_means[1]\n",
    "    \n",
    "    class_1_std = class_dev[0]\n",
    "    class_2_std = class_dev[1]\n",
    "    \n",
    "    # compute probabilities of an element of the test set belonging to class 1 or 2\n",
    "    likelihood_1 = np.exp(-(x_test - class_1_mean)**2/class_1_std**2)/np.sqrt(2*np.pi)/class_1_std\n",
    "    posterior_1 = np.array(class_probability[0]*np.product(likelihood_1, axis=1))\n",
    "    \n",
    "    likelihood_2 = np.exp(-(x_test - class_2_mean)**2/class_2_std**2)/np.sqrt(2*np.pi)/class_2_std\n",
    "    posterior_2 = np.array(class_probability[1]*np.product(likelihood_2, axis=1))\n",
    "    #print(posterior_1 > posterior_2)\n",
    "    predict_list = []\n",
    "    for i in range(len(x_test)):\n",
    "        if posterior_1[i] > posterior_2[i]:\n",
    "            predict_list.append(1)\n",
    "        else:\n",
    "            predict_list.append(2)\n",
    "    \n",
    "    return predict_list"
   ]
  },
  {
   "cell_type": "code",
   "execution_count": 100,
   "id": "4e28f694",
   "metadata": {},
   "outputs": [],
   "source": [
    "predict_list = predict(test_data, [p1, p2], [class_1_mean,class_2_mean] , [class_1_std, class_2_std])"
   ]
  },
  {
   "cell_type": "markdown",
   "id": "8067d9e3",
   "metadata": {},
   "source": [
    "### Part 4: Metrics\n",
    "\n",
    "After creating a classifier, you now want to evaluate it in terms of how often it correctly and incorrectly classifies the objects in your training set. To do this, we'll design a confusion matrix. A confusion matrix is a matrix whose entries are the counts of the predicted vs actual class. For example, the first entry is the count of objects that are predicted to be of class 1 and actually are of class 1 and so on, while the off-diagonal elements would be instances of class 1 that are predicted to be of class 2, and instances of class 2 that are predicted to be of class 1. "
   ]
  },
  {
   "cell_type": "code",
   "execution_count": 37,
   "id": "a366c561",
   "metadata": {},
   "outputs": [],
   "source": [
    "def plot_confusion_matrix(df_confusion, cmap=):\n",
    "    \"\"\"\n",
    "    \n",
    "    Convenience function to plot the confusion matrix from a pd.crosstab object. Hint: use plt.matshow and choose a sensible color map.\n",
    "    \n",
    "    Args:\n",
    "        df_confusion (pd.crosstab): A pd.crosstab object.\n",
    "        \n",
    "    Returns:\n",
    "        null \n",
    "    \"\"\"\n",
    "    \n",
    "    \n",
    "    plt.matshow()\n"
   ]
  },
  {
   "cell_type": "code",
   "execution_count": 110,
   "id": "4d98198f",
   "metadata": {},
   "outputs": [
    {
     "data": {
      "text/plain": [
       "176"
      ]
     },
     "execution_count": 110,
     "metadata": {},
     "output_type": "execute_result"
    }
   ],
   "source": [
    "(np.array(predict_list) ==  np.array(test_data[['truth_type']]).reshape(200,)).sum()"
   ]
  },
  {
   "cell_type": "markdown",
   "id": "cb4c8763",
   "metadata": {},
   "source": [
    "## Problem 2: The Cramer-Rao bound (pen & paper, challenging, optional)\n",
    "\n",
    "As we saw in the lecture, the Cramer-Rao bound is an important result in statistics that has intuitive consequences for many applied problems in ML. The proof of the Cramer-Rao bound can be insightful to work through. \n",
    "\n",
    "The starting point for the proof of the bound is the Cauchy-Schwarz inequality, which can be used to show that:\n",
    "\n",
    "$$\n",
    "[Cov(U, V)]^2 \\le Var(U)Var(V)\n",
    "$$\n",
    "\n",
    "Starting from the definitions that U = T(X), where T(X) is an estimator of some parameter $\\theta$ of the distribution $f(X|\\theta)$ from which the data is sampled, and V = $\\frac{\\partial}{\\partial \\theta} log f(X |\\theta)$. Use the Cauchy-Schwarz inequality to show the Cramer-Rao bound for these choices of U and V. \n",
    "\n",
    "$\\textit{Hint:}$ you will need the fact that the $\\mathbb{E}(V) = 0$, where $\\mathbb{E}$ is the expectation of a random variable."
   ]
  },
  {
   "cell_type": "code",
   "execution_count": null,
   "id": "e1432f12",
   "metadata": {},
   "outputs": [],
   "source": []
  }
 ],
 "metadata": {
  "kernelspec": {
   "display_name": "Python 3 (ipykernel)",
   "language": "python",
   "name": "python3"
  },
  "language_info": {
   "codemirror_mode": {
    "name": "ipython",
    "version": 3
   },
   "file_extension": ".py",
   "mimetype": "text/x-python",
   "name": "python",
   "nbconvert_exporter": "python",
   "pygments_lexer": "ipython3",
   "version": "3.9.7"
  }
 },
 "nbformat": 4,
 "nbformat_minor": 5
}
